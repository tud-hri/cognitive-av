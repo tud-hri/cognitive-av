{
 "cells": [
  {
   "cell_type": "code",
   "execution_count": 63,
   "metadata": {
    "collapsed": true,
    "ExecuteTime": {
     "end_time": "2023-08-24T10:42:14.502959800Z",
     "start_time": "2023-08-24T10:42:14.483950300Z"
    }
   },
   "outputs": [],
   "source": [
    "import numpy as np\n",
    "import pandas as pd\n",
    "import utils\n",
    "import pymer4.models\n",
    "import ast\n",
    "import scipy.stats\n",
    "import seaborn as sns\n",
    "import statsmodels.api as sm\n",
    "import os\n",
    "import matplotlib.pyplot as plt"
   ]
  },
  {
   "cell_type": "code",
   "execution_count": 2,
   "outputs": [],
   "source": [
    "exp_measures = pd.read_csv(\"data/measures.csv\")\n",
    "\n",
    "condition_map = utils.get_nudge_condition_map()\n",
    "exp_measures[\"a_values\"] = exp_measures.a_values.apply(ast.literal_eval).apply(tuple)\n",
    "exp_measures[\"condition\"] = pd.Categorical(exp_measures[\"a_values\"].map(condition_map), categories=condition_map.values(), ordered=True)\n",
    "# exp_measures[\"condition_coded\"] = exp_measures[\"condition\"].cat.codes-2\n",
    "exp_measures[\"a_values\"] = exp_measures[\"a_values\"].apply(str)\n",
    "exp_measures[\"log_RT\"] = exp_measures[\"RT\"].apply(np.log)"
   ],
   "metadata": {
    "collapsed": false,
    "pycharm": {
     "name": "#%%\n"
    },
    "ExecuteTime": {
     "end_time": "2023-08-24T10:42:18.077980500Z",
     "start_time": "2023-08-24T10:42:17.991938500Z"
    }
   }
  },
  {
   "cell_type": "code",
   "execution_count": 3,
   "outputs": [
    {
     "data": {
      "text/plain": "<AxesSubplot: >"
     },
     "execution_count": 3,
     "metadata": {},
     "output_type": "execute_result"
    },
    {
     "data": {
      "text/plain": "<Figure size 432x288 with 1 Axes>",
      "image/png": "[encoded data removed]"
     },
     "metadata": {
      "needs_background": "light"
     },
     "output_type": "display_data"
    }
   ],
   "source": [
    "fit_alpha, fit_loc, fit_beta=scipy.stats.gamma.fit(exp_measures[exp_measures.RT<4].RT)\n",
    "x = np.linspace(0, 4, 51)\n",
    "y = scipy.stats.gamma.pdf(x-fit_loc, a=fit_alpha, scale=fit_beta)\n",
    "plt.plot(x, y)\n",
    "exp_measures[exp_measures.RT<4].RT.hist(density=True)"
   ],
   "metadata": {
    "collapsed": false,
    "pycharm": {
     "name": "#%%\n"
    }
   }
  },
  {
   "cell_type": "code",
   "execution_count": 9,
   "outputs": [],
   "source": [
    "column_names = {\"Estimate\": \"$b$\", \"Z-stat\": \"$z$\", \"P-val\": \"$p$\", \"T-stat\": \"$t$\", \"F-stat\": \"$F$\", \"2.5_ci\": \"CI 2.5\\%\", \"97.5_ci\": \"CI 97.5\\%\", \"NumDF\": \"df\"}\n",
    "var_names = {\"tta_0\": \"$\\\\textrm{TTA}_0$\",\n",
    "             \"decision:tta_0\": \"decision:$\\\\textrm{TTA}_0$\",\n",
    "             \"condition:tta_0\": \"condition:$\\\\textrm{TTA}_0$\",\n",
    "             \"decision:condition:tta_0\": \"decision:condition:$\\\\textrm{TTA}_0$\",\n",
    "             \"condition1\": \"Long acceleration\",\n",
    "             \"condition2\": \"Acceleration nudge\",\n",
    "             \"condition3\": \"Deceleration nudge\",\n",
    "             \"condition4\": \"Long deceleration\",\n",
    "             \"decision1\": \"decision\"}"
   ],
   "metadata": {
    "collapsed": false,
    "pycharm": {
     "name": "#%%\n"
    },
    "ExecuteTime": {
     "end_time": "2023-08-24T10:42:19.236670600Z",
     "start_time": "2023-08-24T10:42:19.217670900Z"
    }
   }
  },
  {
   "cell_type": "markdown",
   "source": [
    "# Decision"
   ],
   "metadata": {
    "collapsed": false,
    "pycharm": {
     "name": "#%% md\n"
    }
   }
  },
  {
   "cell_type": "code",
   "source": [
    "model_is_go_decision = pymer4.models.Lmer(\"is_go_decision ~ tta_0 + condition + (1 | subj_id) \", data=exp_measures, family=\"binomial\")\n",
    "model_is_go_decision_fit = model_is_go_decision.fit(factors={\"condition\": [\"Constant speed\", \"Long acceleration\", \"Acceleration nudge\", \"Deceleration nudge\", \"Long deceleration\"]})\n",
    "print(model_is_go_decision.coefs)"
   ],
   "metadata": {
    "collapsed": false,
    "pycharm": {
     "name": "#%%\n"
    }
   },
   "execution_count": 4,
   "outputs": [
    {
     "name": "stdout",
     "output_type": "stream",
     "text": [
      "Linear mixed model fit by maximum likelihood  ['lmerMod']\n",
      "Formula: is_go_decision~tta_0+condition+(1|subj_id)\n",
      "\n",
      "Family: binomial\t Inference: parametric\n",
      "\n",
      "Number of observations: 3800\t Groups: {'subj_id': 19.0}\n",
      "\n",
      "Log-likelihood: -1543.917 \t AIC: 3101.833\n",
      "\n",
      "Random effects:\n",
      "\n",
      "                Name    Var    Std\n",
      "subj_id  (Intercept)  4.321  2.079\n",
      "\n",
      "No random effect correlations specified\n",
      "\n",
      "Fixed effects:\n",
      "\n",
      "             Estimate     2.5_ci   97.5_ci        SE        OR  OR_2.5_ci  \\\n",
      "(Intercept) -9.370903 -10.758697 -7.983109  0.708071  0.000085   0.000021   \n",
      "tta_0        1.825554   1.625594  2.025513  0.102022  6.206230   5.081438   \n",
      "condition1  -0.767809  -1.052470 -0.483147  0.145238  0.464029   0.349074   \n",
      "condition2  -0.113153  -0.393691  0.167386  0.143134  0.893014   0.674562   \n",
      "condition3   0.504310   0.222531  0.786089  0.143767  1.655842   1.249234   \n",
      "condition4   1.477320   1.183432  1.771207  0.149945  4.381186   3.265564   \n",
      "\n",
      "             OR_97.5_ci      Prob  Prob_2.5_ci  Prob_97.5_ci     Z-stat  \\\n",
      "(Intercept)    0.000341  0.000085     0.000021      0.000341 -13.234410   \n",
      "tta_0          7.579999  0.861231     0.835565      0.883450  17.893729   \n",
      "condition1     0.616839  0.316953     0.258751      0.381509  -5.286551   \n",
      "condition2     1.182210  0.471742     0.402829      0.541749  -0.790534   \n",
      "condition3     2.194795  0.623472     0.555404      0.686991   3.507816   \n",
      "condition4     5.877942  0.814167     0.765564      0.854608   9.852397   \n",
      "\n",
      "                    P-val  Sig  \n",
      "(Intercept)  5.553130e-40  ***  \n",
      "tta_0        1.319740e-71  ***  \n",
      "condition1   1.246438e-07  ***  \n",
      "condition2   4.292158e-01       \n",
      "condition3   4.518016e-04  ***  \n",
      "condition4   6.692842e-23  ***  \n"
     ]
    }
   ]
  },
  {
   "cell_type": "code",
   "execution_count": 5,
   "outputs": [
    {
     "name": "stdout",
     "output_type": "stream",
     "text": [
      "P-values adjusted by tukey method for family of 10 estimates\n"
     ]
    }
   ],
   "source": [
    "marginal_estimates, comparisons = model_is_go_decision.post_hoc(marginal_vars=[\"condition\"])"
   ],
   "metadata": {
    "collapsed": false,
    "pycharm": {
     "name": "#%%\n"
    }
   }
  },
  {
   "cell_type": "code",
   "execution_count": 194,
   "outputs": [
    {
     "data": {
      "text/plain": "            condition  Estimate  2.5_ci  97.5_ci     SE   DF\n0      Constant speed    -0.243  -1.200    0.714  0.488  inf\n1   Long acceleration    -1.011  -1.969   -0.053  0.489  inf\n2  Acceleration nudge    -0.356  -1.313    0.600  0.488  inf\n3  Deceleration nudge     0.261  -0.696    1.218  0.488  inf\n4   Long deceleration     1.234   0.275    2.193  0.489  inf",
      "text/html": "<div>\n<style scoped>\n    .dataframe tbody tr th:only-of-type {\n        vertical-align: middle;\n    }\n\n    .dataframe tbody tr th {\n        vertical-align: top;\n    }\n\n    .dataframe thead th {\n        text-align: right;\n    }\n</style>\n<table border=\"1\" class=\"dataframe\">\n  <thead>\n    <tr style=\"text-align: right;\">\n      <th></th>\n      <th>condition</th>\n      <th>Estimate</th>\n      <th>2.5_ci</th>\n      <th>97.5_ci</th>\n      <th>SE</th>\n      <th>DF</th>\n    </tr>\n  </thead>\n  <tbody>\n    <tr>\n      <th>0</th>\n      <td>Constant speed</td>\n      <td>-0.243</td>\n      <td>-1.200</td>\n      <td>0.714</td>\n      <td>0.488</td>\n      <td>inf</td>\n    </tr>\n    <tr>\n      <th>1</th>\n      <td>Long acceleration</td>\n      <td>-1.011</td>\n      <td>-1.969</td>\n      <td>-0.053</td>\n      <td>0.489</td>\n      <td>inf</td>\n    </tr>\n    <tr>\n      <th>2</th>\n      <td>Acceleration nudge</td>\n      <td>-0.356</td>\n      <td>-1.313</td>\n      <td>0.600</td>\n      <td>0.488</td>\n      <td>inf</td>\n    </tr>\n    <tr>\n      <th>3</th>\n      <td>Deceleration nudge</td>\n      <td>0.261</td>\n      <td>-0.696</td>\n      <td>1.218</td>\n      <td>0.488</td>\n      <td>inf</td>\n    </tr>\n    <tr>\n      <th>4</th>\n      <td>Long deceleration</td>\n      <td>1.234</td>\n      <td>0.275</td>\n      <td>2.193</td>\n      <td>0.489</td>\n      <td>inf</td>\n    </tr>\n  </tbody>\n</table>\n</div>"
     },
     "execution_count": 194,
     "metadata": {},
     "output_type": "execute_result"
    }
   ],
   "source": [
    "marginal_estimates"
   ],
   "metadata": {
    "collapsed": false,
    "pycharm": {
     "name": "#%%\n"
    }
   }
  },
  {
   "cell_type": "code",
   "execution_count": 7,
   "outputs": [
    {
     "data": {
      "text/plain": "                                   Contrast  Estimate  2.5_ci  97.5_ci     SE  \\\n1        Constant speed - Long acceleration     0.768   0.372    1.164  0.145   \n2       Constant speed - Acceleration nudge     0.113  -0.277    0.504  0.143   \n3       Constant speed - Deceleration nudge    -0.504  -0.896   -0.112  0.144   \n4        Constant speed - Long deceleration    -1.477  -1.886   -1.068  0.150   \n5    Long acceleration - Acceleration nudge    -0.655  -1.050   -0.259  0.145   \n6    Long acceleration - Deceleration nudge    -1.272  -1.674   -0.870  0.147   \n7     Long acceleration - Long deceleration    -2.245  -2.671   -1.819  0.156   \n8   Acceleration nudge - Deceleration nudge    -0.617  -1.010   -0.224  0.144   \n9    Acceleration nudge - Long deceleration    -1.590  -2.001   -1.180  0.151   \n10   Deceleration nudge - Long deceleration    -0.973  -1.376   -0.570  0.148   \n\n     DF  Z-stat  P-val  Sig  \n1   inf   5.287  0.000  ***  \n2   inf   0.791  0.933       \n3   inf  -3.508  0.004   **  \n4   inf  -9.852  0.000  ***  \n5   inf  -4.517  0.000  ***  \n6   inf  -8.626  0.000  ***  \n7   inf -14.388  0.000  ***  \n8   inf  -4.286  0.000  ***  \n9   inf -10.557  0.000  ***  \n10  inf  -6.591  0.000  ***  ",
      "text/html": "<div>\n<style scoped>\n    .dataframe tbody tr th:only-of-type {\n        vertical-align: middle;\n    }\n\n    .dataframe tbody tr th {\n        vertical-align: top;\n    }\n\n    .dataframe thead th {\n        text-align: right;\n    }\n</style>\n<table border=\"1\" class=\"dataframe\">\n  <thead>\n    <tr style=\"text-align: right;\">\n      <th></th>\n      <th>Contrast</th>\n      <th>Estimate</th>\n      <th>2.5_ci</th>\n      <th>97.5_ci</th>\n      <th>SE</th>\n      <th>DF</th>\n      <th>Z-stat</th>\n      <th>P-val</th>\n      <th>Sig</th>\n    </tr>\n  </thead>\n  <tbody>\n    <tr>\n      <th>1</th>\n      <td>Constant speed - Long acceleration</td>\n      <td>0.768</td>\n      <td>0.372</td>\n      <td>1.164</td>\n      <td>0.145</td>\n      <td>inf</td>\n      <td>5.287</td>\n      <td>0.000</td>\n      <td>***</td>\n    </tr>\n    <tr>\n      <th>2</th>\n      <td>Constant speed - Acceleration nudge</td>\n      <td>0.113</td>\n      <td>-0.277</td>\n      <td>0.504</td>\n      <td>0.143</td>\n      <td>inf</td>\n      <td>0.791</td>\n      <td>0.933</td>\n      <td></td>\n    </tr>\n    <tr>\n      <th>3</th>\n      <td>Constant speed - Deceleration nudge</td>\n      <td>-0.504</td>\n      <td>-0.896</td>\n      <td>-0.112</td>\n      <td>0.144</td>\n      <td>inf</td>\n      <td>-3.508</td>\n      <td>0.004</td>\n      <td>**</td>\n    </tr>\n    <tr>\n      <th>4</th>\n      <td>Constant speed - Long deceleration</td>\n      <td>-1.477</td>\n      <td>-1.886</td>\n      <td>-1.068</td>\n      <td>0.150</td>\n      <td>inf</td>\n      <td>-9.852</td>\n      <td>0.000</td>\n      <td>***</td>\n    </tr>\n    <tr>\n      <th>5</th>\n      <td>Long acceleration - Acceleration nudge</td>\n      <td>-0.655</td>\n      <td>-1.050</td>\n      <td>-0.259</td>\n      <td>0.145</td>\n      <td>inf</td>\n      <td>-4.517</td>\n      <td>0.000</td>\n      <td>***</td>\n    </tr>\n    <tr>\n      <th>6</th>\n      <td>Long acceleration - Deceleration nudge</td>\n      <td>-1.272</td>\n      <td>-1.674</td>\n      <td>-0.870</td>\n      <td>0.147</td>\n      <td>inf</td>\n      <td>-8.626</td>\n      <td>0.000</td>\n      <td>***</td>\n    </tr>\n    <tr>\n      <th>7</th>\n      <td>Long acceleration - Long deceleration</td>\n      <td>-2.245</td>\n      <td>-2.671</td>\n      <td>-1.819</td>\n      <td>0.156</td>\n      <td>inf</td>\n      <td>-14.388</td>\n      <td>0.000</td>\n      <td>***</td>\n    </tr>\n    <tr>\n      <th>8</th>\n      <td>Acceleration nudge - Deceleration nudge</td>\n      <td>-0.617</td>\n      <td>-1.010</td>\n      <td>-0.224</td>\n      <td>0.144</td>\n      <td>inf</td>\n      <td>-4.286</td>\n      <td>0.000</td>\n      <td>***</td>\n    </tr>\n    <tr>\n      <th>9</th>\n      <td>Acceleration nudge - Long deceleration</td>\n      <td>-1.590</td>\n      <td>-2.001</td>\n      <td>-1.180</td>\n      <td>0.151</td>\n      <td>inf</td>\n      <td>-10.557</td>\n      <td>0.000</td>\n      <td>***</td>\n    </tr>\n    <tr>\n      <th>10</th>\n      <td>Deceleration nudge - Long deceleration</td>\n      <td>-0.973</td>\n      <td>-1.376</td>\n      <td>-0.570</td>\n      <td>0.148</td>\n      <td>inf</td>\n      <td>-6.591</td>\n      <td>0.000</td>\n      <td>***</td>\n    </tr>\n  </tbody>\n</table>\n</div>"
     },
     "execution_count": 7,
     "metadata": {},
     "output_type": "execute_result"
    }
   ],
   "source": [
    "comparisons"
   ],
   "metadata": {
    "collapsed": false,
    "pycharm": {
     "name": "#%%\n"
    }
   }
  },
  {
   "cell_type": "code",
   "execution_count": 10,
   "outputs": [],
   "source": [
    "df = model_is_go_decision.coefs.loc[:, [\"Estimate\", \"SE\", \"Z-stat\", \"P-val\"]]\n",
    "\n",
    "p_func = lambda p: \"{:.2f}\".format(p) if p>0.001 else \"$<0.001$\"\n",
    "\n",
    "df[\"P-val\"] = df[\"P-val\"].apply(p_func)\n",
    "\n",
    "styler = df.rename(columns=column_names, index=var_names).style.format(precision=2)\n",
    "\n",
    "with open('figures/tab_decision.tex', 'w') as tf:\n",
    "     tf.write(styler.to_latex(\n",
    "         column_format=\"rrrrr\", position=\"h\", position_float=\"centering\",\n",
    "         hrules=True, label=\"tab:decision\", caption=\"Coefficients of the mixed-effects logistic regression describing the final decision as a function of $\\\\textrm{TTA}_0$ and condition (with Constant speed as the reference category). Participant ID was included as a random intercept.\"\n",
    "     )\n",
    ")"
   ],
   "metadata": {
    "collapsed": false,
    "pycharm": {
     "name": "#%%\n"
    }
   }
  },
  {
   "cell_type": "markdown",
   "source": [
    "# Response time"
   ],
   "metadata": {
    "collapsed": false
   }
  },
  {
   "cell_type": "markdown",
   "source": [
    "Full model with three-way interactions"
   ],
   "metadata": {
    "collapsed": false,
    "pycharm": {
     "name": "#%% md\n"
    }
   }
  },
  {
   "cell_type": "code",
   "execution_count": 28,
   "outputs": [
    {
     "name": "stdout",
     "output_type": "stream",
     "text": [
      "**NOTE**: Column for 'residuals' not created in model.data, but saved in model.resid only. This is because you have rows with NaNs in your data.\n",
      "\n",
      "**NOTE** Column for 'fits' not created in model.data, but saved in model.fits only. This is because you have rows with NaNs in your data.\n",
      "\n"
     ]
    }
   ],
   "source": [
    "model_RT = pymer4.models.Lmer(\"RT ~ 1 + decision + tta_0 + condition + decision:tta_0 + decision:condition + condition:tta_0 + decision:condition:tta_0 + (1 | subj_id)\", data=exp_measures, family=\"gaussian\")\n",
    "model_RT_fit = model_RT.fit(factors={\"condition\": [\"Constant speed\", \"Long acceleration\", \"Acceleration nudge\", \"Deceleration nudge\", \"Long deceleration\"], \"decision\": [\"Stay\", \"Go\"]}, summarize=False)"
   ],
   "metadata": {
    "collapsed": false,
    "pycharm": {
     "name": "#%%\n"
    }
   }
  },
  {
   "cell_type": "code",
   "execution_count": 60,
   "outputs": [
    {
     "data": {
      "text/plain": "<AxesSubplot: ylabel='RT'>"
     },
     "execution_count": 60,
     "metadata": {},
     "output_type": "execute_result"
    },
    {
     "data": {
      "text/plain": "<Figure size 432x288 with 1 Axes>",
      "image/png": "[encoded data removed]"
     },
     "metadata": {
      "needs_background": "light"
     },
     "output_type": "display_data"
    }
   ],
   "source": [
    "sns.regplot(x=np.asarray(model_RT.fits), y=model_RT.data.RT[~np.isnan(model_RT.data.RT)], fit_reg=True)"
   ],
   "metadata": {
    "collapsed": false,
    "pycharm": {
     "name": "#%%\n"
    }
   }
  },
  {
   "cell_type": "code",
   "execution_count": 65,
   "outputs": [
    {
     "data": {
      "text/plain": "<Figure size 432x288 with 1 Axes>",
      "image/png": "[encoded data removed]"
     },
     "execution_count": 65,
     "metadata": {},
     "output_type": "execute_result"
    },
    {
     "data": {
      "text/plain": "<Figure size 432x288 with 1 Axes>",
      "image/png": "[encoded data removed]"
     },
     "metadata": {
      "needs_background": "light"
     },
     "output_type": "display_data"
    }
   ],
   "source": [
    "sm.qqplot(np.asarray(model_RT.residuals), line ='45')"
   ],
   "metadata": {
    "collapsed": false,
    "pycharm": {
     "name": "#%%\n"
    }
   }
  },
  {
   "cell_type": "code",
   "execution_count": 21,
   "outputs": [
    {
     "name": "stdout",
     "output_type": "stream",
     "text": [
      "**NOTE**: Column for 'residuals' not created in model.data, but saved in model.resid only. This is because you have rows with NaNs in your data.\n",
      "\n",
      "**NOTE** Column for 'fits' not created in model.data, but saved in model.fits only. This is because you have rows with NaNs in your data.\n",
      "\n"
     ]
    }
   ],
   "source": [
    "model_log_RT = pymer4.models.Lmer(\"log_RT ~ 1 + decision + tta_0 + condition + decision:tta_0 + decision:condition + condition:tta_0 + decision:condition:tta_0 + (1 | subj_id)\", data=exp_measures, family=\"gaussian\")\n",
    "model_log_RT_fit = model_log_RT.fit(factors={\"condition\": [\"Constant speed\", \"Long acceleration\", \"Acceleration nudge\", \"Deceleration nudge\", \"Long deceleration\"], \"decision\": [\"Stay\", \"Go\"]}, summarize=False)"
   ],
   "metadata": {
    "collapsed": false,
    "pycharm": {
     "name": "#%%\n"
    }
   }
  },
  {
   "cell_type": "code",
   "execution_count": 67,
   "outputs": [
    {
     "data": {
      "text/plain": "<AxesSubplot: ylabel='RT'>"
     },
     "execution_count": 67,
     "metadata": {},
     "output_type": "execute_result"
    },
    {
     "data": {
      "text/plain": "<Figure size 432x288 with 1 Axes>",
      "image/png": "[encoded data removed]"
     },
     "metadata": {
      "needs_background": "light"
     },
     "output_type": "display_data"
    }
   ],
   "source": [
    "sns.regplot(x=np.asarray(model_log_RT.fits), y=model_log_RT.data.RT[~np.isnan(model_log_RT.data.RT)], fit_reg=True)"
   ],
   "metadata": {
    "collapsed": false,
    "pycharm": {
     "name": "#%%\n"
    }
   }
  },
  {
   "cell_type": "code",
   "execution_count": 66,
   "outputs": [
    {
     "data": {
      "text/plain": "<Figure size 432x288 with 1 Axes>",
      "image/png": "[encoded data removed]"
     },
     "execution_count": 66,
     "metadata": {},
     "output_type": "execute_result"
    },
    {
     "data": {
      "text/plain": "<Figure size 432x288 with 1 Axes>",
      "image/png": "[encoded data removed]"
     },
     "metadata": {
      "needs_background": "light"
     },
     "output_type": "display_data"
    }
   ],
   "source": [
    "sm.qqplot(np.asarray(model_log_RT.residuals), line ='45')"
   ],
   "metadata": {
    "collapsed": false,
    "pycharm": {
     "name": "#%%\n"
    }
   }
  },
  {
   "cell_type": "code",
   "execution_count": 29,
   "outputs": [
    {
     "data": {
      "text/plain": "                            Estimate    2.5_ci   97.5_ci        SE  \\\n(Intercept)                -0.260523 -0.956261  0.435215  0.354975   \ndecision1                  -1.180664 -2.291039 -0.070289  0.566528   \ntta_0                       0.110830 -0.025284  0.246944  0.069447   \ncondition1                  0.581427 -0.356191  1.519045  0.478385   \ncondition2                  0.032286 -0.919827  0.984399  0.485781   \ncondition3                  0.073003 -0.907381  1.053386  0.500205   \ncondition4                  0.515303 -0.645053  1.675658  0.592029   \ndecision1:tta_0            -0.029694 -0.249124  0.189736  0.111956   \ndecision1:condition1       -0.444081 -2.136438  1.248277  0.863464   \ndecision1:condition2       -0.151878 -1.751790  1.448033  0.816296   \ndecision1:condition3       -0.499665 -2.046533  1.047203  0.789233   \ndecision1:condition4       -2.589041 -4.223528 -0.954553  0.833938   \ntta_0:condition1           -0.121207 -0.310776  0.068363  0.096721   \ntta_0:condition2           -0.015092 -0.207780  0.177596  0.098312   \ntta_0:condition3           -0.006556 -0.205332  0.192220  0.101418   \ntta_0:condition4           -0.091589 -0.333041  0.149864  0.123192   \ndecision1:tta_0:condition1  0.070327 -0.260691  0.401344  0.168889   \ndecision1:tta_0:condition2  0.047969 -0.267453  0.363391  0.160933   \ndecision1:tta_0:condition3  0.103479 -0.202742  0.409700  0.156238   \ndecision1:tta_0:condition4  0.551542  0.222517  0.880566  0.167873   \n\n                                     DF    T-stat     P-val Sig  \n(Intercept)                 1917.505496 -0.733919  0.463088      \ndecision1                   2973.804772 -2.084035  0.037242   *  \ntta_0                       2974.393369  1.595893  0.110619      \ncondition1                  2972.943591  1.215395  0.224312      \ncondition2                  2973.128567  0.066462  0.947014      \ncondition3                  2972.958998  0.145945  0.883974      \ncondition4                  2973.810887  0.870401  0.384152      \ndecision1:tta_0             2973.596864 -0.265229  0.790851      \ndecision1:condition1        2972.963114 -0.514301  0.607079      \ndecision1:condition2        2973.046151 -0.186058  0.852412      \ndecision1:condition3        2973.263150 -0.633102  0.526716      \ndecision1:condition4        2973.826838 -3.104598  0.001923  **  \ntta_0:condition1            2972.988493 -1.253161  0.210246      \ntta_0:condition2            2973.225555 -0.153513  0.878004      \ntta_0:condition3            2973.003466 -0.064641  0.948464      \ntta_0:condition4            2974.114400 -0.743461  0.457261      \ndecision1:tta_0:condition1  2972.998019  0.416406  0.677143      \ndecision1:tta_0:condition2  2973.098075  0.298069  0.765672      \ndecision1:tta_0:condition3  2973.319140  0.662317  0.507819      \ndecision1:tta_0:condition4  2974.048223  3.285476  0.001030  **  ",
      "text/html": "<div>\n<style scoped>\n    .dataframe tbody tr th:only-of-type {\n        vertical-align: middle;\n    }\n\n    .dataframe tbody tr th {\n        vertical-align: top;\n    }\n\n    .dataframe thead th {\n        text-align: right;\n    }\n</style>\n<table border=\"1\" class=\"dataframe\">\n  <thead>\n    <tr style=\"text-align: right;\">\n      <th></th>\n      <th>Estimate</th>\n      <th>2.5_ci</th>\n      <th>97.5_ci</th>\n      <th>SE</th>\n      <th>DF</th>\n      <th>T-stat</th>\n      <th>P-val</th>\n      <th>Sig</th>\n    </tr>\n  </thead>\n  <tbody>\n    <tr>\n      <th>(Intercept)</th>\n      <td>-0.260523</td>\n      <td>-0.956261</td>\n      <td>0.435215</td>\n      <td>0.354975</td>\n      <td>1917.505496</td>\n      <td>-0.733919</td>\n      <td>0.463088</td>\n      <td></td>\n    </tr>\n    <tr>\n      <th>decision1</th>\n      <td>-1.180664</td>\n      <td>-2.291039</td>\n      <td>-0.070289</td>\n      <td>0.566528</td>\n      <td>2973.804772</td>\n      <td>-2.084035</td>\n      <td>0.037242</td>\n      <td>*</td>\n    </tr>\n    <tr>\n      <th>tta_0</th>\n      <td>0.110830</td>\n      <td>-0.025284</td>\n      <td>0.246944</td>\n      <td>0.069447</td>\n      <td>2974.393369</td>\n      <td>1.595893</td>\n      <td>0.110619</td>\n      <td></td>\n    </tr>\n    <tr>\n      <th>condition1</th>\n      <td>0.581427</td>\n      <td>-0.356191</td>\n      <td>1.519045</td>\n      <td>0.478385</td>\n      <td>2972.943591</td>\n      <td>1.215395</td>\n      <td>0.224312</td>\n      <td></td>\n    </tr>\n    <tr>\n      <th>condition2</th>\n      <td>0.032286</td>\n      <td>-0.919827</td>\n      <td>0.984399</td>\n      <td>0.485781</td>\n      <td>2973.128567</td>\n      <td>0.066462</td>\n      <td>0.947014</td>\n      <td></td>\n    </tr>\n    <tr>\n      <th>condition3</th>\n      <td>0.073003</td>\n      <td>-0.907381</td>\n      <td>1.053386</td>\n      <td>0.500205</td>\n      <td>2972.958998</td>\n      <td>0.145945</td>\n      <td>0.883974</td>\n      <td></td>\n    </tr>\n    <tr>\n      <th>condition4</th>\n      <td>0.515303</td>\n      <td>-0.645053</td>\n      <td>1.675658</td>\n      <td>0.592029</td>\n      <td>2973.810887</td>\n      <td>0.870401</td>\n      <td>0.384152</td>\n      <td></td>\n    </tr>\n    <tr>\n      <th>decision1:tta_0</th>\n      <td>-0.029694</td>\n      <td>-0.249124</td>\n      <td>0.189736</td>\n      <td>0.111956</td>\n      <td>2973.596864</td>\n      <td>-0.265229</td>\n      <td>0.790851</td>\n      <td></td>\n    </tr>\n    <tr>\n      <th>decision1:condition1</th>\n      <td>-0.444081</td>\n      <td>-2.136438</td>\n      <td>1.248277</td>\n      <td>0.863464</td>\n      <td>2972.963114</td>\n      <td>-0.514301</td>\n      <td>0.607079</td>\n      <td></td>\n    </tr>\n    <tr>\n      <th>decision1:condition2</th>\n      <td>-0.151878</td>\n      <td>-1.751790</td>\n      <td>1.448033</td>\n      <td>0.816296</td>\n      <td>2973.046151</td>\n      <td>-0.186058</td>\n      <td>0.852412</td>\n      <td></td>\n    </tr>\n    <tr>\n      <th>decision1:condition3</th>\n      <td>-0.499665</td>\n      <td>-2.046533</td>\n      <td>1.047203</td>\n      <td>0.789233</td>\n      <td>2973.263150</td>\n      <td>-0.633102</td>\n      <td>0.526716</td>\n      <td></td>\n    </tr>\n    <tr>\n      <th>decision1:condition4</th>\n      <td>-2.589041</td>\n      <td>-4.223528</td>\n      <td>-0.954553</td>\n      <td>0.833938</td>\n      <td>2973.826838</td>\n      <td>-3.104598</td>\n      <td>0.001923</td>\n      <td>**</td>\n    </tr>\n    <tr>\n      <th>tta_0:condition1</th>\n      <td>-0.121207</td>\n      <td>-0.310776</td>\n      <td>0.068363</td>\n      <td>0.096721</td>\n      <td>2972.988493</td>\n      <td>-1.253161</td>\n      <td>0.210246</td>\n      <td></td>\n    </tr>\n    <tr>\n      <th>tta_0:condition2</th>\n      <td>-0.015092</td>\n      <td>-0.207780</td>\n      <td>0.177596</td>\n      <td>0.098312</td>\n      <td>2973.225555</td>\n      <td>-0.153513</td>\n      <td>0.878004</td>\n      <td></td>\n    </tr>\n    <tr>\n      <th>tta_0:condition3</th>\n      <td>-0.006556</td>\n      <td>-0.205332</td>\n      <td>0.192220</td>\n      <td>0.101418</td>\n      <td>2973.003466</td>\n      <td>-0.064641</td>\n      <td>0.948464</td>\n      <td></td>\n    </tr>\n    <tr>\n      <th>tta_0:condition4</th>\n      <td>-0.091589</td>\n      <td>-0.333041</td>\n      <td>0.149864</td>\n      <td>0.123192</td>\n      <td>2974.114400</td>\n      <td>-0.743461</td>\n      <td>0.457261</td>\n      <td></td>\n    </tr>\n    <tr>\n      <th>decision1:tta_0:condition1</th>\n      <td>0.070327</td>\n      <td>-0.260691</td>\n      <td>0.401344</td>\n      <td>0.168889</td>\n      <td>2972.998019</td>\n      <td>0.416406</td>\n      <td>0.677143</td>\n      <td></td>\n    </tr>\n    <tr>\n      <th>decision1:tta_0:condition2</th>\n      <td>0.047969</td>\n      <td>-0.267453</td>\n      <td>0.363391</td>\n      <td>0.160933</td>\n      <td>2973.098075</td>\n      <td>0.298069</td>\n      <td>0.765672</td>\n      <td></td>\n    </tr>\n    <tr>\n      <th>decision1:tta_0:condition3</th>\n      <td>0.103479</td>\n      <td>-0.202742</td>\n      <td>0.409700</td>\n      <td>0.156238</td>\n      <td>2973.319140</td>\n      <td>0.662317</td>\n      <td>0.507819</td>\n      <td></td>\n    </tr>\n    <tr>\n      <th>decision1:tta_0:condition4</th>\n      <td>0.551542</td>\n      <td>0.222517</td>\n      <td>0.880566</td>\n      <td>0.167873</td>\n      <td>2974.048223</td>\n      <td>3.285476</td>\n      <td>0.001030</td>\n      <td>**</td>\n    </tr>\n  </tbody>\n</table>\n</div>"
     },
     "execution_count": 29,
     "metadata": {},
     "output_type": "execute_result"
    }
   ],
   "source": [
    "model_log_RT.coefs"
   ],
   "metadata": {
    "collapsed": false,
    "pycharm": {
     "name": "#%%\n"
    }
   }
  },
  {
   "cell_type": "code",
   "execution_count": 7,
   "outputs": [
    {
     "data": {
      "text/plain": "                            Estimate    2.5_ci   97.5_ci        SE  \\\n(Intercept)                 0.425898 -0.181480  1.033275  0.309892   \ndecision1                  -0.180896 -1.159439  0.797647  0.499266   \ntta_0                       0.241597  0.121646  0.361548  0.061201   \ncondition1                  1.052044  0.225721  1.878366  0.421601   \ncondition2                  0.212729 -0.626362  1.051820  0.428116   \ncondition3                  0.177525 -0.686486  1.041536  0.440830   \ncondition4                  1.235526  0.212937  2.258115  0.521739   \ndecision1:tta_0            -0.185064 -0.378443  0.008314  0.098664   \ndecision1:condition1       -0.773217 -2.264689  0.718256  0.760969   \ndecision1:condition2        0.130104 -1.279892  1.540100  0.719399   \ndecision1:condition3       -0.382256 -1.745494  0.980983  0.695543   \ndecision1:condition4       -3.396070 -4.836498 -1.955642  0.734926   \ntta_0:condition1           -0.225304 -0.392371 -0.058237  0.085240   \ntta_0:condition2           -0.067548 -0.237362  0.102266  0.086641   \ntta_0:condition3           -0.022995 -0.198176  0.152186  0.089380   \ntta_0:condition4           -0.215086 -0.427868 -0.002303  0.108565   \ndecision1:tta_0:condition1  0.160758 -0.130967  0.452482  0.148842   \ndecision1:tta_0:condition2  0.005910 -0.272070  0.283890  0.141829   \ndecision1:tta_0:condition3  0.063101 -0.206768  0.332970  0.137691   \ndecision1:tta_0:condition4  0.698968  0.409011  0.988926  0.147940   \n\n                                     DF    T-stat     P-val  Sig  \n(Intercept)                 2369.125619  1.374342  0.169466       \ndecision1                   2974.531697 -0.362323  0.717136       \ntta_0                       2975.305526  3.947620  0.000081  ***  \ncondition1                  2973.335895  2.495356  0.012637    *  \ncondition2                  2973.585816  0.496895  0.619300       \ncondition3                  2973.356855  0.402706  0.687193       \ncondition4                  2974.540496  2.368093  0.017944    *  \ndecision1:tta_0             2974.246829 -1.875695  0.060795    .  \ndecision1:condition1        2973.366102 -1.016095  0.309667       \ndecision1:condition2        2973.477293  0.180851  0.856497       \ndecision1:condition3        2973.780356 -0.549579  0.582650       \ndecision1:condition4        2974.566926 -4.620971  0.000004  ***  \ntta_0:condition1            2973.397248 -2.643180  0.008256   **  \ntta_0:condition2            2973.717415 -0.779630  0.435671       \ntta_0:condition3            2973.419096 -0.257277  0.796983       \ntta_0:condition4            2974.955020 -1.981174  0.047664    *  \ndecision1:tta_0:condition1  2973.413475  1.080057  0.280204       \ndecision1:tta_0:condition2  2973.548911  0.041668  0.966767       \ndecision1:tta_0:condition3  2973.856057  0.458282  0.646784       \ndecision1:tta_0:condition4  2974.871286  4.724663  0.000002  ***  ",
      "text/html": "<div>\n<style scoped>\n    .dataframe tbody tr th:only-of-type {\n        vertical-align: middle;\n    }\n\n    .dataframe tbody tr th {\n        vertical-align: top;\n    }\n\n    .dataframe thead th {\n        text-align: right;\n    }\n</style>\n<table border=\"1\" class=\"dataframe\">\n  <thead>\n    <tr style=\"text-align: right;\">\n      <th></th>\n      <th>Estimate</th>\n      <th>2.5_ci</th>\n      <th>97.5_ci</th>\n      <th>SE</th>\n      <th>DF</th>\n      <th>T-stat</th>\n      <th>P-val</th>\n      <th>Sig</th>\n    </tr>\n  </thead>\n  <tbody>\n    <tr>\n      <th>(Intercept)</th>\n      <td>0.425898</td>\n      <td>-0.181480</td>\n      <td>1.033275</td>\n      <td>0.309892</td>\n      <td>2369.125619</td>\n      <td>1.374342</td>\n      <td>0.169466</td>\n      <td></td>\n    </tr>\n    <tr>\n      <th>decision1</th>\n      <td>-0.180896</td>\n      <td>-1.159439</td>\n      <td>0.797647</td>\n      <td>0.499266</td>\n      <td>2974.531697</td>\n      <td>-0.362323</td>\n      <td>0.717136</td>\n      <td></td>\n    </tr>\n    <tr>\n      <th>tta_0</th>\n      <td>0.241597</td>\n      <td>0.121646</td>\n      <td>0.361548</td>\n      <td>0.061201</td>\n      <td>2975.305526</td>\n      <td>3.947620</td>\n      <td>0.000081</td>\n      <td>***</td>\n    </tr>\n    <tr>\n      <th>condition1</th>\n      <td>1.052044</td>\n      <td>0.225721</td>\n      <td>1.878366</td>\n      <td>0.421601</td>\n      <td>2973.335895</td>\n      <td>2.495356</td>\n      <td>0.012637</td>\n      <td>*</td>\n    </tr>\n    <tr>\n      <th>condition2</th>\n      <td>0.212729</td>\n      <td>-0.626362</td>\n      <td>1.051820</td>\n      <td>0.428116</td>\n      <td>2973.585816</td>\n      <td>0.496895</td>\n      <td>0.619300</td>\n      <td></td>\n    </tr>\n    <tr>\n      <th>condition3</th>\n      <td>0.177525</td>\n      <td>-0.686486</td>\n      <td>1.041536</td>\n      <td>0.440830</td>\n      <td>2973.356855</td>\n      <td>0.402706</td>\n      <td>0.687193</td>\n      <td></td>\n    </tr>\n    <tr>\n      <th>condition4</th>\n      <td>1.235526</td>\n      <td>0.212937</td>\n      <td>2.258115</td>\n      <td>0.521739</td>\n      <td>2974.540496</td>\n      <td>2.368093</td>\n      <td>0.017944</td>\n      <td>*</td>\n    </tr>\n    <tr>\n      <th>decision1:tta_0</th>\n      <td>-0.185064</td>\n      <td>-0.378443</td>\n      <td>0.008314</td>\n      <td>0.098664</td>\n      <td>2974.246829</td>\n      <td>-1.875695</td>\n      <td>0.060795</td>\n      <td>.</td>\n    </tr>\n    <tr>\n      <th>decision1:condition1</th>\n      <td>-0.773217</td>\n      <td>-2.264689</td>\n      <td>0.718256</td>\n      <td>0.760969</td>\n      <td>2973.366102</td>\n      <td>-1.016095</td>\n      <td>0.309667</td>\n      <td></td>\n    </tr>\n    <tr>\n      <th>decision1:condition2</th>\n      <td>0.130104</td>\n      <td>-1.279892</td>\n      <td>1.540100</td>\n      <td>0.719399</td>\n      <td>2973.477293</td>\n      <td>0.180851</td>\n      <td>0.856497</td>\n      <td></td>\n    </tr>\n    <tr>\n      <th>decision1:condition3</th>\n      <td>-0.382256</td>\n      <td>-1.745494</td>\n      <td>0.980983</td>\n      <td>0.695543</td>\n      <td>2973.780356</td>\n      <td>-0.549579</td>\n      <td>0.582650</td>\n      <td></td>\n    </tr>\n    <tr>\n      <th>decision1:condition4</th>\n      <td>-3.396070</td>\n      <td>-4.836498</td>\n      <td>-1.955642</td>\n      <td>0.734926</td>\n      <td>2974.566926</td>\n      <td>-4.620971</td>\n      <td>0.000004</td>\n      <td>***</td>\n    </tr>\n    <tr>\n      <th>tta_0:condition1</th>\n      <td>-0.225304</td>\n      <td>-0.392371</td>\n      <td>-0.058237</td>\n      <td>0.085240</td>\n      <td>2973.397248</td>\n      <td>-2.643180</td>\n      <td>0.008256</td>\n      <td>**</td>\n    </tr>\n    <tr>\n      <th>tta_0:condition2</th>\n      <td>-0.067548</td>\n      <td>-0.237362</td>\n      <td>0.102266</td>\n      <td>0.086641</td>\n      <td>2973.717415</td>\n      <td>-0.779630</td>\n      <td>0.435671</td>\n      <td></td>\n    </tr>\n    <tr>\n      <th>tta_0:condition3</th>\n      <td>-0.022995</td>\n      <td>-0.198176</td>\n      <td>0.152186</td>\n      <td>0.089380</td>\n      <td>2973.419096</td>\n      <td>-0.257277</td>\n      <td>0.796983</td>\n      <td></td>\n    </tr>\n    <tr>\n      <th>tta_0:condition4</th>\n      <td>-0.215086</td>\n      <td>-0.427868</td>\n      <td>-0.002303</td>\n      <td>0.108565</td>\n      <td>2974.955020</td>\n      <td>-1.981174</td>\n      <td>0.047664</td>\n      <td>*</td>\n    </tr>\n    <tr>\n      <th>decision1:tta_0:condition1</th>\n      <td>0.160758</td>\n      <td>-0.130967</td>\n      <td>0.452482</td>\n      <td>0.148842</td>\n      <td>2973.413475</td>\n      <td>1.080057</td>\n      <td>0.280204</td>\n      <td></td>\n    </tr>\n    <tr>\n      <th>decision1:tta_0:condition2</th>\n      <td>0.005910</td>\n      <td>-0.272070</td>\n      <td>0.283890</td>\n      <td>0.141829</td>\n      <td>2973.548911</td>\n      <td>0.041668</td>\n      <td>0.966767</td>\n      <td></td>\n    </tr>\n    <tr>\n      <th>decision1:tta_0:condition3</th>\n      <td>0.063101</td>\n      <td>-0.206768</td>\n      <td>0.332970</td>\n      <td>0.137691</td>\n      <td>2973.856057</td>\n      <td>0.458282</td>\n      <td>0.646784</td>\n      <td></td>\n    </tr>\n    <tr>\n      <th>decision1:tta_0:condition4</th>\n      <td>0.698968</td>\n      <td>0.409011</td>\n      <td>0.988926</td>\n      <td>0.147940</td>\n      <td>2974.871286</td>\n      <td>4.724663</td>\n      <td>0.000002</td>\n      <td>***</td>\n    </tr>\n  </tbody>\n</table>\n</div>"
     },
     "execution_count": 7,
     "metadata": {},
     "output_type": "execute_result"
    }
   ],
   "source": [
    "model_RT.coefs"
   ],
   "metadata": {
    "collapsed": false,
    "pycharm": {
     "name": "#%%\n"
    }
   }
  },
  {
   "cell_type": "code",
   "execution_count": 30,
   "outputs": [
    {
     "name": "stdout",
     "output_type": "stream",
     "text": [
      "SS Type III Analysis of Variance Table with Satterthwaite approximated degrees of freedom:\n",
      "(NOTE: Using original model contrasts, orthogonality not guaranteed)\n"
     ]
    }
   ],
   "source": [
    "RT_anova = model_RT.anova()\n",
    "RT_anova.index = [\"decision\", \"tta_0\", \"condition\", \"decision:tta_0\", \"decision:condition\", \"condition:tta_0\", \"decision:condition:tta_0\"]"
   ],
   "metadata": {
    "collapsed": false,
    "pycharm": {
     "name": "#%%\n"
    }
   }
  },
  {
   "cell_type": "code",
   "execution_count": 23,
   "outputs": [
    {
     "name": "stdout",
     "output_type": "stream",
     "text": [
      "SS Type III Analysis of Variance Table with Satterthwaite approximated degrees of freedom:\n",
      "(NOTE: Using original model contrasts, orthogonality not guaranteed)\n"
     ]
    }
   ],
   "source": [
    "log_RT_anova = model_log_RT.anova()\n",
    "log_RT_anova.index = [\"decision\", \"tta_0\", \"condition\", \"decision:tta_0\", \"decision:condition\", \"condition:tta_0\", \"decision:condition:tta_0\"]"
   ],
   "metadata": {
    "collapsed": false,
    "pycharm": {
     "name": "#%%\n"
    }
   }
  },
  {
   "cell_type": "code",
   "execution_count": 31,
   "outputs": [
    {
     "data": {
      "text/plain": "                                 SS         MS  NumDF      DenomDF     F-stat  \\\ndecision                   6.699902   6.699902      1  2978.930258  20.093258   \ntta_0                     10.986597  10.986597      1  2982.707584  32.949217   \ncondition                  2.999869   0.749967      4  2973.874358   2.249180   \ndecision:tta_0             0.000071   0.000071      1  2977.777531   0.000212   \ndecision:condition         9.882377   2.470594      4  2974.004224   7.409405   \ncondition:tta_0            4.669410   1.167353      4  2973.998403   3.500934   \ndecision:condition:tta_0   9.943541   2.485885      4  2974.160004   7.455263   \n\n                                 P-val  Sig  \ndecision                  7.653882e-06  ***  \ntta_0                     1.041041e-08  ***  \ncondition                 6.144640e-02    .  \ndecision:tta_0            9.883909e-01       \ndecision:condition        6.184003e-06  ***  \ncondition:tta_0           7.373453e-03   **  \ndecision:condition:tta_0  5.679566e-06  ***  ",
      "text/html": "<div>\n<style scoped>\n    .dataframe tbody tr th:only-of-type {\n        vertical-align: middle;\n    }\n\n    .dataframe tbody tr th {\n        vertical-align: top;\n    }\n\n    .dataframe thead th {\n        text-align: right;\n    }\n</style>\n<table border=\"1\" class=\"dataframe\">\n  <thead>\n    <tr style=\"text-align: right;\">\n      <th></th>\n      <th>SS</th>\n      <th>MS</th>\n      <th>NumDF</th>\n      <th>DenomDF</th>\n      <th>F-stat</th>\n      <th>P-val</th>\n      <th>Sig</th>\n    </tr>\n  </thead>\n  <tbody>\n    <tr>\n      <th>decision</th>\n      <td>6.699902</td>\n      <td>6.699902</td>\n      <td>1</td>\n      <td>2978.930258</td>\n      <td>20.093258</td>\n      <td>7.653882e-06</td>\n      <td>***</td>\n    </tr>\n    <tr>\n      <th>tta_0</th>\n      <td>10.986597</td>\n      <td>10.986597</td>\n      <td>1</td>\n      <td>2982.707584</td>\n      <td>32.949217</td>\n      <td>1.041041e-08</td>\n      <td>***</td>\n    </tr>\n    <tr>\n      <th>condition</th>\n      <td>2.999869</td>\n      <td>0.749967</td>\n      <td>4</td>\n      <td>2973.874358</td>\n      <td>2.249180</td>\n      <td>6.144640e-02</td>\n      <td>.</td>\n    </tr>\n    <tr>\n      <th>decision:tta_0</th>\n      <td>0.000071</td>\n      <td>0.000071</td>\n      <td>1</td>\n      <td>2977.777531</td>\n      <td>0.000212</td>\n      <td>9.883909e-01</td>\n      <td></td>\n    </tr>\n    <tr>\n      <th>decision:condition</th>\n      <td>9.882377</td>\n      <td>2.470594</td>\n      <td>4</td>\n      <td>2974.004224</td>\n      <td>7.409405</td>\n      <td>6.184003e-06</td>\n      <td>***</td>\n    </tr>\n    <tr>\n      <th>condition:tta_0</th>\n      <td>4.669410</td>\n      <td>1.167353</td>\n      <td>4</td>\n      <td>2973.998403</td>\n      <td>3.500934</td>\n      <td>7.373453e-03</td>\n      <td>**</td>\n    </tr>\n    <tr>\n      <th>decision:condition:tta_0</th>\n      <td>9.943541</td>\n      <td>2.485885</td>\n      <td>4</td>\n      <td>2974.160004</td>\n      <td>7.455263</td>\n      <td>5.679566e-06</td>\n      <td>***</td>\n    </tr>\n  </tbody>\n</table>\n</div>"
     },
     "execution_count": 31,
     "metadata": {},
     "output_type": "execute_result"
    }
   ],
   "source": [
    "RT_anova"
   ],
   "metadata": {
    "collapsed": false,
    "pycharm": {
     "name": "#%%\n"
    }
   }
  },
  {
   "cell_type": "code",
   "execution_count": 24,
   "outputs": [
    {
     "data": {
      "text/plain": "                                 SS         MS  NumDF      DenomDF     F-stat  \\\ndecision                  21.706644  21.706644      1  2977.088373  50.562648   \ntta_0                      9.523504   9.523504      1  2980.102654  22.183696   \ncondition                  3.033443   0.758361      4  2973.340971   1.766498   \ndecision:tta_0             2.363398   2.363398      1  2976.213888   5.505212   \ndecision:condition         5.229346   1.307336      4  2973.425526   3.045261   \ncondition:tta_0            4.261908   1.065477      4  2973.431562   2.481883   \ndecision:condition:tta_0   5.760032   1.440008      4  2973.539100   3.354301   \n\n                                 P-val  Sig  \ndecision                  1.439148e-12  ***  \ntta_0                     2.591024e-06  ***  \ncondition                 1.327523e-01       \ndecision:tta_0            1.902515e-02    *  \ndecision:condition        1.619858e-02    *  \ncondition:tta_0           4.189584e-02    *  \ndecision:condition:tta_0  9.513032e-03   **  ",
      "text/html": "<div>\n<style scoped>\n    .dataframe tbody tr th:only-of-type {\n        vertical-align: middle;\n    }\n\n    .dataframe tbody tr th {\n        vertical-align: top;\n    }\n\n    .dataframe thead th {\n        text-align: right;\n    }\n</style>\n<table border=\"1\" class=\"dataframe\">\n  <thead>\n    <tr style=\"text-align: right;\">\n      <th></th>\n      <th>SS</th>\n      <th>MS</th>\n      <th>NumDF</th>\n      <th>DenomDF</th>\n      <th>F-stat</th>\n      <th>P-val</th>\n      <th>Sig</th>\n    </tr>\n  </thead>\n  <tbody>\n    <tr>\n      <th>decision</th>\n      <td>21.706644</td>\n      <td>21.706644</td>\n      <td>1</td>\n      <td>2977.088373</td>\n      <td>50.562648</td>\n      <td>1.439148e-12</td>\n      <td>***</td>\n    </tr>\n    <tr>\n      <th>tta_0</th>\n      <td>9.523504</td>\n      <td>9.523504</td>\n      <td>1</td>\n      <td>2980.102654</td>\n      <td>22.183696</td>\n      <td>2.591024e-06</td>\n      <td>***</td>\n    </tr>\n    <tr>\n      <th>condition</th>\n      <td>3.033443</td>\n      <td>0.758361</td>\n      <td>4</td>\n      <td>2973.340971</td>\n      <td>1.766498</td>\n      <td>1.327523e-01</td>\n      <td></td>\n    </tr>\n    <tr>\n      <th>decision:tta_0</th>\n      <td>2.363398</td>\n      <td>2.363398</td>\n      <td>1</td>\n      <td>2976.213888</td>\n      <td>5.505212</td>\n      <td>1.902515e-02</td>\n      <td>*</td>\n    </tr>\n    <tr>\n      <th>decision:condition</th>\n      <td>5.229346</td>\n      <td>1.307336</td>\n      <td>4</td>\n      <td>2973.425526</td>\n      <td>3.045261</td>\n      <td>1.619858e-02</td>\n      <td>*</td>\n    </tr>\n    <tr>\n      <th>condition:tta_0</th>\n      <td>4.261908</td>\n      <td>1.065477</td>\n      <td>4</td>\n      <td>2973.431562</td>\n      <td>2.481883</td>\n      <td>4.189584e-02</td>\n      <td>*</td>\n    </tr>\n    <tr>\n      <th>decision:condition:tta_0</th>\n      <td>5.760032</td>\n      <td>1.440008</td>\n      <td>4</td>\n      <td>2973.539100</td>\n      <td>3.354301</td>\n      <td>9.513032e-03</td>\n      <td>**</td>\n    </tr>\n  </tbody>\n</table>\n</div>"
     },
     "execution_count": 24,
     "metadata": {},
     "output_type": "execute_result"
    }
   ],
   "source": [
    "log_RT_anova"
   ],
   "metadata": {
    "collapsed": false,
    "pycharm": {
     "name": "#%%\n"
    }
   }
  },
  {
   "cell_type": "code",
   "execution_count": 32,
   "outputs": [],
   "source": [
    "df = RT_anova.loc[:, [\"SS\", \"MS\", \"NumDF\", \"F-stat\", \"P-val\"]]\n",
    "\n",
    "p_func = lambda p: \"{:.2f}\".format(p) if p>0.001 else \"$<0.001$\"\n",
    "df[\"P-val\"] = df[\"P-val\"].apply(p_func)\n",
    "\n",
    "styler = df.rename(columns=column_names, index=var_names).style.format(precision=2)\n",
    "\n",
    "with open('figures/tab_RT.tex', 'w') as tf:\n",
    "     tf.write(styler.to_latex(\n",
    "         column_format=\"rrrrrrr\", position=\"h\", position_float=\"centering\",\n",
    "         hrules=True, label=\"tab:RT\", caption=\"ANOVA table based on the mixed-effects linear regression describing response time as a function of decision, $\\\\textrm{TTA}_0$, and condition.\"\n",
    "     )\n",
    ")"
   ],
   "metadata": {
    "collapsed": false,
    "pycharm": {
     "name": "#%%\n"
    }
   }
  },
  {
   "cell_type": "code",
   "execution_count": 25,
   "outputs": [],
   "source": [
    "df = log_RT_anova.loc[:, [\"SS\", \"MS\", \"NumDF\", \"F-stat\", \"P-val\"]]\n",
    "\n",
    "p_func = lambda p: \"{:.2f}\".format(p) if p>0.001 else \"$<0.001$\"\n",
    "df[\"P-val\"] = df[\"P-val\"].apply(p_func)\n",
    "\n",
    "styler = df.rename(columns=column_names, index=var_names).style.format(precision=2)\n",
    "\n",
    "with open('figures/tab_log_RT.tex', 'w') as tf:\n",
    "     tf.write(styler.to_latex(\n",
    "         column_format=\"rrrrrrr\", position=\"h\", position_float=\"centering\",\n",
    "         hrules=True, label=\"tab:log_RT\", caption=\"ANOVA table based on the mixed-effects linear regression describing log-transformed response time as a function of decision, $\\\\textrm{TTA}_0$, and condition.\"\n",
    "     )\n",
    ")"
   ],
   "metadata": {
    "collapsed": false,
    "pycharm": {
     "name": "#%%\n"
    }
   }
  },
  {
   "cell_type": "markdown",
   "source": [
    "# Post hocs"
   ],
   "metadata": {
    "collapsed": false,
    "pycharm": {
     "name": "#%% md\n"
    }
   }
  },
  {
   "cell_type": "code",
   "execution_count": 33,
   "outputs": [
    {
     "data": {
      "text/plain": "  decision  Estimate  2.5_ci  97.5_ci     SE      DF\n1     Stay     1.639   1.498    1.779  0.067  19.405\n2       Go     0.577   0.435    0.718  0.068  20.107",
      "text/html": "<div>\n<style scoped>\n    .dataframe tbody tr th:only-of-type {\n        vertical-align: middle;\n    }\n\n    .dataframe tbody tr th {\n        vertical-align: top;\n    }\n\n    .dataframe thead th {\n        text-align: right;\n    }\n</style>\n<table border=\"1\" class=\"dataframe\">\n  <thead>\n    <tr style=\"text-align: right;\">\n      <th></th>\n      <th>decision</th>\n      <th>Estimate</th>\n      <th>2.5_ci</th>\n      <th>97.5_ci</th>\n      <th>SE</th>\n      <th>DF</th>\n    </tr>\n  </thead>\n  <tbody>\n    <tr>\n      <th>1</th>\n      <td>Stay</td>\n      <td>1.639</td>\n      <td>1.498</td>\n      <td>1.779</td>\n      <td>0.067</td>\n      <td>19.405</td>\n    </tr>\n    <tr>\n      <th>2</th>\n      <td>Go</td>\n      <td>0.577</td>\n      <td>0.435</td>\n      <td>0.718</td>\n      <td>0.068</td>\n      <td>20.107</td>\n    </tr>\n  </tbody>\n</table>\n</div>"
     },
     "execution_count": 33,
     "metadata": {},
     "output_type": "execute_result"
    }
   ],
   "source": [
    "marginal_estimates, comparisons = model_RT.post_hoc(marginal_vars=[\"decision\"])\n",
    "# \"Cell\" means of the ANOVA\n",
    "marginal_estimates"
   ],
   "metadata": {
    "collapsed": false,
    "pycharm": {
     "name": "#%%\n"
    }
   }
  },
  {
   "cell_type": "code",
   "execution_count": 34,
   "outputs": [
    {
     "data": {
      "text/plain": "  decision  Estimate  2.5_ci  97.5_ci     SE      DF\n1     Stay     0.300   0.110    0.489  0.090  18.688\n2       Go    -0.993  -1.184   -0.803  0.091  19.170",
      "text/html": "<div>\n<style scoped>\n    .dataframe tbody tr th:only-of-type {\n        vertical-align: middle;\n    }\n\n    .dataframe tbody tr th {\n        vertical-align: top;\n    }\n\n    .dataframe thead th {\n        text-align: right;\n    }\n</style>\n<table border=\"1\" class=\"dataframe\">\n  <thead>\n    <tr style=\"text-align: right;\">\n      <th></th>\n      <th>decision</th>\n      <th>Estimate</th>\n      <th>2.5_ci</th>\n      <th>97.5_ci</th>\n      <th>SE</th>\n      <th>DF</th>\n    </tr>\n  </thead>\n  <tbody>\n    <tr>\n      <th>1</th>\n      <td>Stay</td>\n      <td>0.300</td>\n      <td>0.110</td>\n      <td>0.489</td>\n      <td>0.090</td>\n      <td>18.688</td>\n    </tr>\n    <tr>\n      <th>2</th>\n      <td>Go</td>\n      <td>-0.993</td>\n      <td>-1.184</td>\n      <td>-0.803</td>\n      <td>0.091</td>\n      <td>19.170</td>\n    </tr>\n  </tbody>\n</table>\n</div>"
     },
     "execution_count": 34,
     "metadata": {},
     "output_type": "execute_result"
    }
   ],
   "source": [
    "log_RT_marginal_estimates, log_RT_comparisons = model_log_RT.post_hoc(marginal_vars=[\"decision\"])\n",
    "# \"Cell\" means of the ANOVA\n",
    "log_RT_marginal_estimates"
   ],
   "metadata": {
    "collapsed": false,
    "pycharm": {
     "name": "#%%\n"
    }
   }
  },
  {
   "cell_type": "code",
   "execution_count": 35,
   "outputs": [
    {
     "data": {
      "text/plain": "    Contrast  Estimate  2.5_ci  97.5_ci     SE        DF  T-stat  P-val  Sig\n1  Stay - Go     1.062   1.006    1.117  0.028  2959.141  37.371    0.0  ***",
      "text/html": "<div>\n<style scoped>\n    .dataframe tbody tr th:only-of-type {\n        vertical-align: middle;\n    }\n\n    .dataframe tbody tr th {\n        vertical-align: top;\n    }\n\n    .dataframe thead th {\n        text-align: right;\n    }\n</style>\n<table border=\"1\" class=\"dataframe\">\n  <thead>\n    <tr style=\"text-align: right;\">\n      <th></th>\n      <th>Contrast</th>\n      <th>Estimate</th>\n      <th>2.5_ci</th>\n      <th>97.5_ci</th>\n      <th>SE</th>\n      <th>DF</th>\n      <th>T-stat</th>\n      <th>P-val</th>\n      <th>Sig</th>\n    </tr>\n  </thead>\n  <tbody>\n    <tr>\n      <th>1</th>\n      <td>Stay - Go</td>\n      <td>1.062</td>\n      <td>1.006</td>\n      <td>1.117</td>\n      <td>0.028</td>\n      <td>2959.141</td>\n      <td>37.371</td>\n      <td>0.0</td>\n      <td>***</td>\n    </tr>\n  </tbody>\n</table>\n</div>"
     },
     "execution_count": 35,
     "metadata": {},
     "output_type": "execute_result"
    }
   ],
   "source": [
    "comparisons"
   ],
   "metadata": {
    "collapsed": false,
    "pycharm": {
     "name": "#%%\n"
    }
   }
  },
  {
   "cell_type": "code",
   "execution_count": 37,
   "outputs": [
    {
     "data": {
      "text/plain": "    Contrast  Estimate  2.5_ci  97.5_ci     SE        DF  T-stat  P-val  Sig\n1  Stay - Go     1.293   1.229    1.356  0.032  2983.333  40.017    0.0  ***",
      "text/html": "<div>\n<style scoped>\n    .dataframe tbody tr th:only-of-type {\n        vertical-align: middle;\n    }\n\n    .dataframe tbody tr th {\n        vertical-align: top;\n    }\n\n    .dataframe thead th {\n        text-align: right;\n    }\n</style>\n<table border=\"1\" class=\"dataframe\">\n  <thead>\n    <tr style=\"text-align: right;\">\n      <th></th>\n      <th>Contrast</th>\n      <th>Estimate</th>\n      <th>2.5_ci</th>\n      <th>97.5_ci</th>\n      <th>SE</th>\n      <th>DF</th>\n      <th>T-stat</th>\n      <th>P-val</th>\n      <th>Sig</th>\n    </tr>\n  </thead>\n  <tbody>\n    <tr>\n      <th>1</th>\n      <td>Stay - Go</td>\n      <td>1.293</td>\n      <td>1.229</td>\n      <td>1.356</td>\n      <td>0.032</td>\n      <td>2983.333</td>\n      <td>40.017</td>\n      <td>0.0</td>\n      <td>***</td>\n    </tr>\n  </tbody>\n</table>\n</div>"
     },
     "execution_count": 37,
     "metadata": {},
     "output_type": "execute_result"
    }
   ],
   "source": [
    "log_RT_comparisons"
   ],
   "metadata": {
    "collapsed": false,
    "pycharm": {
     "name": "#%%\n"
    }
   }
  },
  {
   "cell_type": "code",
   "execution_count": 38,
   "outputs": [
    {
     "name": "stdout",
     "output_type": "stream",
     "text": [
      "P-values adjusted by tukey method for family of 10 estimates\n"
     ]
    },
    {
     "data": {
      "text/plain": "             condition decision  Estimate  2.5_ci  97.5_ci     SE      DF\n1       Constant speed     Stay     1.634   1.485    1.783  0.072  25.839\n2    Long acceleration     Stay     1.559   1.411    1.707  0.072  25.327\n3   Acceleration nudge     Stay     1.509   1.360    1.658  0.072  25.886\n4   Deceleration nudge     Stay     1.696   1.546    1.847  0.073  27.418\n5    Long deceleration     Stay     1.794   1.633    1.955  0.080  38.005\n6       Constant speed       Go     0.528   0.372    0.683  0.076  32.073\n7    Long acceleration       Go     0.484   0.320    0.648  0.081  40.762\n8   Acceleration nudge       Go     0.562   0.405    0.720  0.077  33.795\n9   Deceleration nudge       Go     0.523   0.371    0.676  0.074  28.968\n10   Long deceleration       Go     0.787   0.637    0.936  0.073  26.314",
      "text/html": "<div>\n<style scoped>\n    .dataframe tbody tr th:only-of-type {\n        vertical-align: middle;\n    }\n\n    .dataframe tbody tr th {\n        vertical-align: top;\n    }\n\n    .dataframe thead th {\n        text-align: right;\n    }\n</style>\n<table border=\"1\" class=\"dataframe\">\n  <thead>\n    <tr style=\"text-align: right;\">\n      <th></th>\n      <th>condition</th>\n      <th>decision</th>\n      <th>Estimate</th>\n      <th>2.5_ci</th>\n      <th>97.5_ci</th>\n      <th>SE</th>\n      <th>DF</th>\n    </tr>\n  </thead>\n  <tbody>\n    <tr>\n      <th>1</th>\n      <td>Constant speed</td>\n      <td>Stay</td>\n      <td>1.634</td>\n      <td>1.485</td>\n      <td>1.783</td>\n      <td>0.072</td>\n      <td>25.839</td>\n    </tr>\n    <tr>\n      <th>2</th>\n      <td>Long acceleration</td>\n      <td>Stay</td>\n      <td>1.559</td>\n      <td>1.411</td>\n      <td>1.707</td>\n      <td>0.072</td>\n      <td>25.327</td>\n    </tr>\n    <tr>\n      <th>3</th>\n      <td>Acceleration nudge</td>\n      <td>Stay</td>\n      <td>1.509</td>\n      <td>1.360</td>\n      <td>1.658</td>\n      <td>0.072</td>\n      <td>25.886</td>\n    </tr>\n    <tr>\n      <th>4</th>\n      <td>Deceleration nudge</td>\n      <td>Stay</td>\n      <td>1.696</td>\n      <td>1.546</td>\n      <td>1.847</td>\n      <td>0.073</td>\n      <td>27.418</td>\n    </tr>\n    <tr>\n      <th>5</th>\n      <td>Long deceleration</td>\n      <td>Stay</td>\n      <td>1.794</td>\n      <td>1.633</td>\n      <td>1.955</td>\n      <td>0.080</td>\n      <td>38.005</td>\n    </tr>\n    <tr>\n      <th>6</th>\n      <td>Constant speed</td>\n      <td>Go</td>\n      <td>0.528</td>\n      <td>0.372</td>\n      <td>0.683</td>\n      <td>0.076</td>\n      <td>32.073</td>\n    </tr>\n    <tr>\n      <th>7</th>\n      <td>Long acceleration</td>\n      <td>Go</td>\n      <td>0.484</td>\n      <td>0.320</td>\n      <td>0.648</td>\n      <td>0.081</td>\n      <td>40.762</td>\n    </tr>\n    <tr>\n      <th>8</th>\n      <td>Acceleration nudge</td>\n      <td>Go</td>\n      <td>0.562</td>\n      <td>0.405</td>\n      <td>0.720</td>\n      <td>0.077</td>\n      <td>33.795</td>\n    </tr>\n    <tr>\n      <th>9</th>\n      <td>Deceleration nudge</td>\n      <td>Go</td>\n      <td>0.523</td>\n      <td>0.371</td>\n      <td>0.676</td>\n      <td>0.074</td>\n      <td>28.968</td>\n    </tr>\n    <tr>\n      <th>10</th>\n      <td>Long deceleration</td>\n      <td>Go</td>\n      <td>0.787</td>\n      <td>0.637</td>\n      <td>0.936</td>\n      <td>0.073</td>\n      <td>26.314</td>\n    </tr>\n  </tbody>\n</table>\n</div>"
     },
     "execution_count": 38,
     "metadata": {},
     "output_type": "execute_result"
    }
   ],
   "source": [
    "marginal_estimates, comparisons = model_RT.post_hoc(marginal_vars=[\"condition\"], grouping_vars=[\"decision\"])\n",
    "# \"Cell\" means of the ANOVA\n",
    "marginal_estimates"
   ],
   "metadata": {
    "collapsed": false,
    "pycharm": {
     "name": "#%%\n"
    }
   }
  },
  {
   "cell_type": "code",
   "execution_count": 39,
   "outputs": [
    {
     "name": "stdout",
     "output_type": "stream",
     "text": [
      "P-values adjusted by tukey method for family of 10 estimates\n"
     ]
    },
    {
     "data": {
      "text/plain": "             condition decision  Estimate  2.5_ci  97.5_ci     SE      DF\n1       Constant speed     Stay     0.294   0.096    0.491  0.095  23.012\n2    Long acceleration     Stay     0.269   0.072    0.466  0.095  22.670\n3   Acceleration nudge     Stay     0.250   0.053    0.448  0.095  23.038\n4   Deceleration nudge     Stay     0.334   0.135    0.533  0.096  24.057\n5    Long deceleration     Stay     0.351   0.142    0.560  0.103  30.865\n6       Constant speed       Go    -1.036  -1.239   -0.832  0.099  27.081\n7    Long acceleration       Go    -1.153  -1.364   -0.941  0.104  32.593\n8   Acceleration nudge       Go    -0.991  -1.196   -0.785  0.100  28.182\n9   Deceleration nudge       Go    -0.978  -1.178   -0.777  0.097  25.061\n10   Long deceleration       Go    -0.809  -1.007   -0.612  0.096  23.319",
      "text/html": "<div>\n<style scoped>\n    .dataframe tbody tr th:only-of-type {\n        vertical-align: middle;\n    }\n\n    .dataframe tbody tr th {\n        vertical-align: top;\n    }\n\n    .dataframe thead th {\n        text-align: right;\n    }\n</style>\n<table border=\"1\" class=\"dataframe\">\n  <thead>\n    <tr style=\"text-align: right;\">\n      <th></th>\n      <th>condition</th>\n      <th>decision</th>\n      <th>Estimate</th>\n      <th>2.5_ci</th>\n      <th>97.5_ci</th>\n      <th>SE</th>\n      <th>DF</th>\n    </tr>\n  </thead>\n  <tbody>\n    <tr>\n      <th>1</th>\n      <td>Constant speed</td>\n      <td>Stay</td>\n      <td>0.294</td>\n      <td>0.096</td>\n      <td>0.491</td>\n      <td>0.095</td>\n      <td>23.012</td>\n    </tr>\n    <tr>\n      <th>2</th>\n      <td>Long acceleration</td>\n      <td>Stay</td>\n      <td>0.269</td>\n      <td>0.072</td>\n      <td>0.466</td>\n      <td>0.095</td>\n      <td>22.670</td>\n    </tr>\n    <tr>\n      <th>3</th>\n      <td>Acceleration nudge</td>\n      <td>Stay</td>\n      <td>0.250</td>\n      <td>0.053</td>\n      <td>0.448</td>\n      <td>0.095</td>\n      <td>23.038</td>\n    </tr>\n    <tr>\n      <th>4</th>\n      <td>Deceleration nudge</td>\n      <td>Stay</td>\n      <td>0.334</td>\n      <td>0.135</td>\n      <td>0.533</td>\n      <td>0.096</td>\n      <td>24.057</td>\n    </tr>\n    <tr>\n      <th>5</th>\n      <td>Long deceleration</td>\n      <td>Stay</td>\n      <td>0.351</td>\n      <td>0.142</td>\n      <td>0.560</td>\n      <td>0.103</td>\n      <td>30.865</td>\n    </tr>\n    <tr>\n      <th>6</th>\n      <td>Constant speed</td>\n      <td>Go</td>\n      <td>-1.036</td>\n      <td>-1.239</td>\n      <td>-0.832</td>\n      <td>0.099</td>\n      <td>27.081</td>\n    </tr>\n    <tr>\n      <th>7</th>\n      <td>Long acceleration</td>\n      <td>Go</td>\n      <td>-1.153</td>\n      <td>-1.364</td>\n      <td>-0.941</td>\n      <td>0.104</td>\n      <td>32.593</td>\n    </tr>\n    <tr>\n      <th>8</th>\n      <td>Acceleration nudge</td>\n      <td>Go</td>\n      <td>-0.991</td>\n      <td>-1.196</td>\n      <td>-0.785</td>\n      <td>0.100</td>\n      <td>28.182</td>\n    </tr>\n    <tr>\n      <th>9</th>\n      <td>Deceleration nudge</td>\n      <td>Go</td>\n      <td>-0.978</td>\n      <td>-1.178</td>\n      <td>-0.777</td>\n      <td>0.097</td>\n      <td>25.061</td>\n    </tr>\n    <tr>\n      <th>10</th>\n      <td>Long deceleration</td>\n      <td>Go</td>\n      <td>-0.809</td>\n      <td>-1.007</td>\n      <td>-0.612</td>\n      <td>0.096</td>\n      <td>23.319</td>\n    </tr>\n  </tbody>\n</table>\n</div>"
     },
     "execution_count": 39,
     "metadata": {},
     "output_type": "execute_result"
    }
   ],
   "source": [
    "log_RT_marginal_estimates, log_RT_comparisons = model_log_RT.post_hoc(marginal_vars=[\"condition\"], grouping_vars=[\"decision\"])\n",
    "# \"Cell\" means of the ANOVA\n",
    "log_RT_marginal_estimates"
   ],
   "metadata": {
    "collapsed": false,
    "pycharm": {
     "name": "#%%\n"
    }
   }
  },
  {
   "cell_type": "code",
   "execution_count": 40,
   "outputs": [
    {
     "data": {
      "text/plain": "                                  Contrast decision  Estimate  2.5_ci  \\\n4       Constant speed - Long deceleration     Stay    -0.160  -0.309   \n7    Long acceleration - Long deceleration     Stay    -0.235  -0.383   \n9   Acceleration nudge - Long deceleration     Stay    -0.285  -0.435   \n10  Deceleration nudge - Long deceleration     Stay    -0.098  -0.249   \n14      Constant speed - Long deceleration       Go    -0.259  -0.396   \n17   Long acceleration - Long deceleration       Go    -0.303  -0.459   \n19  Acceleration nudge - Long deceleration       Go    -0.224  -0.366   \n20  Deceleration nudge - Long deceleration       Go    -0.263  -0.393   \n\n    97.5_ci     SE        DF  T-stat  P-val  Sig  \n4    -0.011  0.055  2978.218  -2.933  0.028    *  \n7    -0.086  0.054  2980.403  -4.314  0.000  ***  \n9    -0.135  0.055  2980.974  -5.184  0.000  ***  \n10    0.054  0.055  2974.938  -1.758  0.399       \n14   -0.122  0.050  2975.828  -5.154  0.000  ***  \n17   -0.146  0.057  2977.957  -5.275  0.000  ***  \n19   -0.083  0.052  2975.561  -4.322  0.000  ***  \n20   -0.133  0.047  2974.297  -5.539  0.000  ***  ",
      "text/html": "<div>\n<style scoped>\n    .dataframe tbody tr th:only-of-type {\n        vertical-align: middle;\n    }\n\n    .dataframe tbody tr th {\n        vertical-align: top;\n    }\n\n    .dataframe thead th {\n        text-align: right;\n    }\n</style>\n<table border=\"1\" class=\"dataframe\">\n  <thead>\n    <tr style=\"text-align: right;\">\n      <th></th>\n      <th>Contrast</th>\n      <th>decision</th>\n      <th>Estimate</th>\n      <th>2.5_ci</th>\n      <th>97.5_ci</th>\n      <th>SE</th>\n      <th>DF</th>\n      <th>T-stat</th>\n      <th>P-val</th>\n      <th>Sig</th>\n    </tr>\n  </thead>\n  <tbody>\n    <tr>\n      <th>4</th>\n      <td>Constant speed - Long deceleration</td>\n      <td>Stay</td>\n      <td>-0.160</td>\n      <td>-0.309</td>\n      <td>-0.011</td>\n      <td>0.055</td>\n      <td>2978.218</td>\n      <td>-2.933</td>\n      <td>0.028</td>\n      <td>*</td>\n    </tr>\n    <tr>\n      <th>7</th>\n      <td>Long acceleration - Long deceleration</td>\n      <td>Stay</td>\n      <td>-0.235</td>\n      <td>-0.383</td>\n      <td>-0.086</td>\n      <td>0.054</td>\n      <td>2980.403</td>\n      <td>-4.314</td>\n      <td>0.000</td>\n      <td>***</td>\n    </tr>\n    <tr>\n      <th>9</th>\n      <td>Acceleration nudge - Long deceleration</td>\n      <td>Stay</td>\n      <td>-0.285</td>\n      <td>-0.435</td>\n      <td>-0.135</td>\n      <td>0.055</td>\n      <td>2980.974</td>\n      <td>-5.184</td>\n      <td>0.000</td>\n      <td>***</td>\n    </tr>\n    <tr>\n      <th>10</th>\n      <td>Deceleration nudge - Long deceleration</td>\n      <td>Stay</td>\n      <td>-0.098</td>\n      <td>-0.249</td>\n      <td>0.054</td>\n      <td>0.055</td>\n      <td>2974.938</td>\n      <td>-1.758</td>\n      <td>0.399</td>\n      <td></td>\n    </tr>\n    <tr>\n      <th>14</th>\n      <td>Constant speed - Long deceleration</td>\n      <td>Go</td>\n      <td>-0.259</td>\n      <td>-0.396</td>\n      <td>-0.122</td>\n      <td>0.050</td>\n      <td>2975.828</td>\n      <td>-5.154</td>\n      <td>0.000</td>\n      <td>***</td>\n    </tr>\n    <tr>\n      <th>17</th>\n      <td>Long acceleration - Long deceleration</td>\n      <td>Go</td>\n      <td>-0.303</td>\n      <td>-0.459</td>\n      <td>-0.146</td>\n      <td>0.057</td>\n      <td>2977.957</td>\n      <td>-5.275</td>\n      <td>0.000</td>\n      <td>***</td>\n    </tr>\n    <tr>\n      <th>19</th>\n      <td>Acceleration nudge - Long deceleration</td>\n      <td>Go</td>\n      <td>-0.224</td>\n      <td>-0.366</td>\n      <td>-0.083</td>\n      <td>0.052</td>\n      <td>2975.561</td>\n      <td>-4.322</td>\n      <td>0.000</td>\n      <td>***</td>\n    </tr>\n    <tr>\n      <th>20</th>\n      <td>Deceleration nudge - Long deceleration</td>\n      <td>Go</td>\n      <td>-0.263</td>\n      <td>-0.393</td>\n      <td>-0.133</td>\n      <td>0.047</td>\n      <td>2974.297</td>\n      <td>-5.539</td>\n      <td>0.000</td>\n      <td>***</td>\n    </tr>\n  </tbody>\n</table>\n</div>"
     },
     "execution_count": 40,
     "metadata": {},
     "output_type": "execute_result"
    }
   ],
   "source": [
    "comparisons[comparisons.Contrast.str.contains(\"Long deceleration\")]"
   ],
   "metadata": {
    "collapsed": false,
    "pycharm": {
     "name": "#%%\n"
    }
   }
  },
  {
   "cell_type": "code",
   "execution_count": 43,
   "outputs": [
    {
     "data": {
      "text/plain": "                                  Contrast decision  Estimate  2.5_ci  \\\n4       Constant speed - Long deceleration     Stay    -0.057  -0.226   \n7    Long acceleration - Long deceleration     Stay    -0.082  -0.250   \n9   Acceleration nudge - Long deceleration     Stay    -0.101  -0.271   \n10  Deceleration nudge - Long deceleration     Stay    -0.017  -0.189   \n14      Constant speed - Long deceleration       Go    -0.226  -0.382   \n17   Long acceleration - Long deceleration       Go    -0.343  -0.521   \n19  Acceleration nudge - Long deceleration       Go    -0.181  -0.342   \n20  Deceleration nudge - Long deceleration       Go    -0.168  -0.315   \n\n    97.5_ci     SE        DF  T-stat  P-val  Sig  \n4     0.112  0.062  2976.564  -0.926  0.887       \n7     0.086  0.062  2978.269  -1.328  0.674       \n9     0.070  0.062  2978.717  -1.611  0.491       \n10    0.155  0.063  2974.106  -0.272  0.999       \n14   -0.070  0.057  2974.763  -3.965  0.001  ***  \n17   -0.165  0.065  2976.367  -5.267  0.000  ***  \n19   -0.021  0.059  2974.571  -3.078  0.018    *  \n20   -0.021  0.054  2973.641  -3.119  0.016    *  ",
      "text/html": "<div>\n<style scoped>\n    .dataframe tbody tr th:only-of-type {\n        vertical-align: middle;\n    }\n\n    .dataframe tbody tr th {\n        vertical-align: top;\n    }\n\n    .dataframe thead th {\n        text-align: right;\n    }\n</style>\n<table border=\"1\" class=\"dataframe\">\n  <thead>\n    <tr style=\"text-align: right;\">\n      <th></th>\n      <th>Contrast</th>\n      <th>decision</th>\n      <th>Estimate</th>\n      <th>2.5_ci</th>\n      <th>97.5_ci</th>\n      <th>SE</th>\n      <th>DF</th>\n      <th>T-stat</th>\n      <th>P-val</th>\n      <th>Sig</th>\n    </tr>\n  </thead>\n  <tbody>\n    <tr>\n      <th>4</th>\n      <td>Constant speed - Long deceleration</td>\n      <td>Stay</td>\n      <td>-0.057</td>\n      <td>-0.226</td>\n      <td>0.112</td>\n      <td>0.062</td>\n      <td>2976.564</td>\n      <td>-0.926</td>\n      <td>0.887</td>\n      <td></td>\n    </tr>\n    <tr>\n      <th>7</th>\n      <td>Long acceleration - Long deceleration</td>\n      <td>Stay</td>\n      <td>-0.082</td>\n      <td>-0.250</td>\n      <td>0.086</td>\n      <td>0.062</td>\n      <td>2978.269</td>\n      <td>-1.328</td>\n      <td>0.674</td>\n      <td></td>\n    </tr>\n    <tr>\n      <th>9</th>\n      <td>Acceleration nudge - Long deceleration</td>\n      <td>Stay</td>\n      <td>-0.101</td>\n      <td>-0.271</td>\n      <td>0.070</td>\n      <td>0.062</td>\n      <td>2978.717</td>\n      <td>-1.611</td>\n      <td>0.491</td>\n      <td></td>\n    </tr>\n    <tr>\n      <th>10</th>\n      <td>Deceleration nudge - Long deceleration</td>\n      <td>Stay</td>\n      <td>-0.017</td>\n      <td>-0.189</td>\n      <td>0.155</td>\n      <td>0.063</td>\n      <td>2974.106</td>\n      <td>-0.272</td>\n      <td>0.999</td>\n      <td></td>\n    </tr>\n    <tr>\n      <th>14</th>\n      <td>Constant speed - Long deceleration</td>\n      <td>Go</td>\n      <td>-0.226</td>\n      <td>-0.382</td>\n      <td>-0.070</td>\n      <td>0.057</td>\n      <td>2974.763</td>\n      <td>-3.965</td>\n      <td>0.001</td>\n      <td>***</td>\n    </tr>\n    <tr>\n      <th>17</th>\n      <td>Long acceleration - Long deceleration</td>\n      <td>Go</td>\n      <td>-0.343</td>\n      <td>-0.521</td>\n      <td>-0.165</td>\n      <td>0.065</td>\n      <td>2976.367</td>\n      <td>-5.267</td>\n      <td>0.000</td>\n      <td>***</td>\n    </tr>\n    <tr>\n      <th>19</th>\n      <td>Acceleration nudge - Long deceleration</td>\n      <td>Go</td>\n      <td>-0.181</td>\n      <td>-0.342</td>\n      <td>-0.021</td>\n      <td>0.059</td>\n      <td>2974.571</td>\n      <td>-3.078</td>\n      <td>0.018</td>\n      <td>*</td>\n    </tr>\n    <tr>\n      <th>20</th>\n      <td>Deceleration nudge - Long deceleration</td>\n      <td>Go</td>\n      <td>-0.168</td>\n      <td>-0.315</td>\n      <td>-0.021</td>\n      <td>0.054</td>\n      <td>2973.641</td>\n      <td>-3.119</td>\n      <td>0.016</td>\n      <td>*</td>\n    </tr>\n  </tbody>\n</table>\n</div>"
     },
     "execution_count": 43,
     "metadata": {},
     "output_type": "execute_result"
    }
   ],
   "source": [
    "log_RT_comparisons[log_RT_comparisons.Contrast.str.contains(\"Long deceleration\")]"
   ],
   "metadata": {
    "collapsed": false,
    "pycharm": {
     "name": "#%%\n"
    }
   }
  },
  {
   "cell_type": "code",
   "execution_count": 44,
   "outputs": [
    {
     "data": {
      "text/plain": "                                   Contrast decision  Estimate  2.5_ci  \\\n2       Constant speed - Acceleration nudge     Stay     0.125   0.007   \n5    Long acceleration - Acceleration nudge     Stay     0.051  -0.066   \n8   Acceleration nudge - Deceleration nudge     Stay    -0.188  -0.311   \n9    Acceleration nudge - Long deceleration     Stay    -0.285  -0.435   \n12      Constant speed - Acceleration nudge       Go    -0.035  -0.188   \n15   Long acceleration - Acceleration nudge       Go    -0.079  -0.249   \n18  Acceleration nudge - Deceleration nudge       Go     0.039  -0.108   \n19   Acceleration nudge - Long deceleration       Go    -0.224  -0.366   \n\n    97.5_ci     SE        DF  T-stat  P-val  Sig  \n2     0.243  0.043  2974.144   2.884  0.032    *  \n5     0.167  0.043  2973.373   1.180  0.763       \n8    -0.064  0.045  2978.270  -4.149  0.000  ***  \n9    -0.135  0.055  2980.974  -5.184  0.000  ***  \n12    0.118  0.056  2973.159  -0.618  0.972       \n15    0.092  0.062  2974.195  -1.258  0.717       \n18    0.186  0.054  2973.776   0.720  0.952       \n19   -0.083  0.052  2975.561  -4.322  0.000  ***  ",
      "text/html": "<div>\n<style scoped>\n    .dataframe tbody tr th:only-of-type {\n        vertical-align: middle;\n    }\n\n    .dataframe tbody tr th {\n        vertical-align: top;\n    }\n\n    .dataframe thead th {\n        text-align: right;\n    }\n</style>\n<table border=\"1\" class=\"dataframe\">\n  <thead>\n    <tr style=\"text-align: right;\">\n      <th></th>\n      <th>Contrast</th>\n      <th>decision</th>\n      <th>Estimate</th>\n      <th>2.5_ci</th>\n      <th>97.5_ci</th>\n      <th>SE</th>\n      <th>DF</th>\n      <th>T-stat</th>\n      <th>P-val</th>\n      <th>Sig</th>\n    </tr>\n  </thead>\n  <tbody>\n    <tr>\n      <th>2</th>\n      <td>Constant speed - Acceleration nudge</td>\n      <td>Stay</td>\n      <td>0.125</td>\n      <td>0.007</td>\n      <td>0.243</td>\n      <td>0.043</td>\n      <td>2974.144</td>\n      <td>2.884</td>\n      <td>0.032</td>\n      <td>*</td>\n    </tr>\n    <tr>\n      <th>5</th>\n      <td>Long acceleration - Acceleration nudge</td>\n      <td>Stay</td>\n      <td>0.051</td>\n      <td>-0.066</td>\n      <td>0.167</td>\n      <td>0.043</td>\n      <td>2973.373</td>\n      <td>1.180</td>\n      <td>0.763</td>\n      <td></td>\n    </tr>\n    <tr>\n      <th>8</th>\n      <td>Acceleration nudge - Deceleration nudge</td>\n      <td>Stay</td>\n      <td>-0.188</td>\n      <td>-0.311</td>\n      <td>-0.064</td>\n      <td>0.045</td>\n      <td>2978.270</td>\n      <td>-4.149</td>\n      <td>0.000</td>\n      <td>***</td>\n    </tr>\n    <tr>\n      <th>9</th>\n      <td>Acceleration nudge - Long deceleration</td>\n      <td>Stay</td>\n      <td>-0.285</td>\n      <td>-0.435</td>\n      <td>-0.135</td>\n      <td>0.055</td>\n      <td>2980.974</td>\n      <td>-5.184</td>\n      <td>0.000</td>\n      <td>***</td>\n    </tr>\n    <tr>\n      <th>12</th>\n      <td>Constant speed - Acceleration nudge</td>\n      <td>Go</td>\n      <td>-0.035</td>\n      <td>-0.188</td>\n      <td>0.118</td>\n      <td>0.056</td>\n      <td>2973.159</td>\n      <td>-0.618</td>\n      <td>0.972</td>\n      <td></td>\n    </tr>\n    <tr>\n      <th>15</th>\n      <td>Long acceleration - Acceleration nudge</td>\n      <td>Go</td>\n      <td>-0.079</td>\n      <td>-0.249</td>\n      <td>0.092</td>\n      <td>0.062</td>\n      <td>2974.195</td>\n      <td>-1.258</td>\n      <td>0.717</td>\n      <td></td>\n    </tr>\n    <tr>\n      <th>18</th>\n      <td>Acceleration nudge - Deceleration nudge</td>\n      <td>Go</td>\n      <td>0.039</td>\n      <td>-0.108</td>\n      <td>0.186</td>\n      <td>0.054</td>\n      <td>2973.776</td>\n      <td>0.720</td>\n      <td>0.952</td>\n      <td></td>\n    </tr>\n    <tr>\n      <th>19</th>\n      <td>Acceleration nudge - Long deceleration</td>\n      <td>Go</td>\n      <td>-0.224</td>\n      <td>-0.366</td>\n      <td>-0.083</td>\n      <td>0.052</td>\n      <td>2975.561</td>\n      <td>-4.322</td>\n      <td>0.000</td>\n      <td>***</td>\n    </tr>\n  </tbody>\n</table>\n</div>"
     },
     "execution_count": 44,
     "metadata": {},
     "output_type": "execute_result"
    }
   ],
   "source": [
    "comparisons[comparisons.Contrast.str.contains(\"Acceleration nudge\")]"
   ],
   "metadata": {
    "collapsed": false,
    "pycharm": {
     "name": "#%%\n"
    }
   }
  },
  {
   "cell_type": "code",
   "execution_count": 45,
   "outputs": [
    {
     "data": {
      "text/plain": "                                   Contrast decision  Estimate  2.5_ci  \\\n2       Constant speed - Acceleration nudge     Stay     0.043  -0.091   \n5    Long acceleration - Acceleration nudge     Stay     0.019  -0.114   \n8   Acceleration nudge - Deceleration nudge     Stay    -0.083  -0.223   \n9    Acceleration nudge - Long deceleration     Stay    -0.101  -0.271   \n12      Constant speed - Acceleration nudge       Go    -0.045  -0.219   \n15   Long acceleration - Acceleration nudge       Go    -0.162  -0.355   \n18  Acceleration nudge - Deceleration nudge       Go    -0.013  -0.180   \n19   Acceleration nudge - Long deceleration       Go    -0.181  -0.342   \n\n    97.5_ci     SE        DF  T-stat  P-val Sig  \n2     0.177  0.049  2973.543   0.878  0.905      \n5     0.151  0.049  2972.970   0.382  0.995      \n8     0.057  0.051  2976.633  -1.626  0.481      \n9     0.070  0.062  2978.717  -1.611  0.491      \n12    0.129  0.064  2972.817  -0.704  0.956      \n15    0.032  0.071  2973.576  -2.284  0.150      \n18    0.154  0.061  2973.261  -0.215  1.000      \n19   -0.021  0.059  2974.571  -3.078  0.018   *  ",
      "text/html": "<div>\n<style scoped>\n    .dataframe tbody tr th:only-of-type {\n        vertical-align: middle;\n    }\n\n    .dataframe tbody tr th {\n        vertical-align: top;\n    }\n\n    .dataframe thead th {\n        text-align: right;\n    }\n</style>\n<table border=\"1\" class=\"dataframe\">\n  <thead>\n    <tr style=\"text-align: right;\">\n      <th></th>\n      <th>Contrast</th>\n      <th>decision</th>\n      <th>Estimate</th>\n      <th>2.5_ci</th>\n      <th>97.5_ci</th>\n      <th>SE</th>\n      <th>DF</th>\n      <th>T-stat</th>\n      <th>P-val</th>\n      <th>Sig</th>\n    </tr>\n  </thead>\n  <tbody>\n    <tr>\n      <th>2</th>\n      <td>Constant speed - Acceleration nudge</td>\n      <td>Stay</td>\n      <td>0.043</td>\n      <td>-0.091</td>\n      <td>0.177</td>\n      <td>0.049</td>\n      <td>2973.543</td>\n      <td>0.878</td>\n      <td>0.905</td>\n      <td></td>\n    </tr>\n    <tr>\n      <th>5</th>\n      <td>Long acceleration - Acceleration nudge</td>\n      <td>Stay</td>\n      <td>0.019</td>\n      <td>-0.114</td>\n      <td>0.151</td>\n      <td>0.049</td>\n      <td>2972.970</td>\n      <td>0.382</td>\n      <td>0.995</td>\n      <td></td>\n    </tr>\n    <tr>\n      <th>8</th>\n      <td>Acceleration nudge - Deceleration nudge</td>\n      <td>Stay</td>\n      <td>-0.083</td>\n      <td>-0.223</td>\n      <td>0.057</td>\n      <td>0.051</td>\n      <td>2976.633</td>\n      <td>-1.626</td>\n      <td>0.481</td>\n      <td></td>\n    </tr>\n    <tr>\n      <th>9</th>\n      <td>Acceleration nudge - Long deceleration</td>\n      <td>Stay</td>\n      <td>-0.101</td>\n      <td>-0.271</td>\n      <td>0.070</td>\n      <td>0.062</td>\n      <td>2978.717</td>\n      <td>-1.611</td>\n      <td>0.491</td>\n      <td></td>\n    </tr>\n    <tr>\n      <th>12</th>\n      <td>Constant speed - Acceleration nudge</td>\n      <td>Go</td>\n      <td>-0.045</td>\n      <td>-0.219</td>\n      <td>0.129</td>\n      <td>0.064</td>\n      <td>2972.817</td>\n      <td>-0.704</td>\n      <td>0.956</td>\n      <td></td>\n    </tr>\n    <tr>\n      <th>15</th>\n      <td>Long acceleration - Acceleration nudge</td>\n      <td>Go</td>\n      <td>-0.162</td>\n      <td>-0.355</td>\n      <td>0.032</td>\n      <td>0.071</td>\n      <td>2973.576</td>\n      <td>-2.284</td>\n      <td>0.150</td>\n      <td></td>\n    </tr>\n    <tr>\n      <th>18</th>\n      <td>Acceleration nudge - Deceleration nudge</td>\n      <td>Go</td>\n      <td>-0.013</td>\n      <td>-0.180</td>\n      <td>0.154</td>\n      <td>0.061</td>\n      <td>2973.261</td>\n      <td>-0.215</td>\n      <td>1.000</td>\n      <td></td>\n    </tr>\n    <tr>\n      <th>19</th>\n      <td>Acceleration nudge - Long deceleration</td>\n      <td>Go</td>\n      <td>-0.181</td>\n      <td>-0.342</td>\n      <td>-0.021</td>\n      <td>0.059</td>\n      <td>2974.571</td>\n      <td>-3.078</td>\n      <td>0.018</td>\n      <td>*</td>\n    </tr>\n  </tbody>\n</table>\n</div>"
     },
     "execution_count": 45,
     "metadata": {},
     "output_type": "execute_result"
    }
   ],
   "source": [
    "log_RT_comparisons[log_RT_comparisons.Contrast.str.contains(\"Acceleration nudge\")]"
   ],
   "metadata": {
    "collapsed": false,
    "pycharm": {
     "name": "#%%\n"
    }
   }
  },
  {
   "cell_type": "code",
   "execution_count": 46,
   "outputs": [
    {
     "data": {
      "text/plain": "                                   Contrast decision  Estimate  2.5_ci  \\\n3       Constant speed - Deceleration nudge     Stay    -0.063  -0.185   \n6    Long acceleration - Deceleration nudge     Stay    -0.137  -0.258   \n8   Acceleration nudge - Deceleration nudge     Stay    -0.188  -0.311   \n10   Deceleration nudge - Long deceleration     Stay    -0.098  -0.249   \n13      Constant speed - Deceleration nudge       Go     0.004  -0.139   \n16   Long acceleration - Deceleration nudge       Go    -0.040  -0.201   \n18  Acceleration nudge - Deceleration nudge       Go     0.039  -0.108   \n20   Deceleration nudge - Long deceleration       Go    -0.263  -0.393   \n\n    97.5_ci     SE        DF  T-stat  P-val  Sig  \n3     0.060  0.045  2975.095  -1.396  0.630       \n6    -0.016  0.044  2977.830  -3.081  0.018    *  \n8    -0.064  0.045  2978.270  -4.149  0.000  ***  \n10    0.054  0.055  2974.938  -1.758  0.399       \n13    0.147  0.052  2974.058   0.080  1.000       \n16    0.122  0.059  2975.242  -0.672  0.963       \n18    0.186  0.054  2973.776   0.720  0.952       \n20   -0.133  0.047  2974.297  -5.539  0.000  ***  ",
      "text/html": "<div>\n<style scoped>\n    .dataframe tbody tr th:only-of-type {\n        vertical-align: middle;\n    }\n\n    .dataframe tbody tr th {\n        vertical-align: top;\n    }\n\n    .dataframe thead th {\n        text-align: right;\n    }\n</style>\n<table border=\"1\" class=\"dataframe\">\n  <thead>\n    <tr style=\"text-align: right;\">\n      <th></th>\n      <th>Contrast</th>\n      <th>decision</th>\n      <th>Estimate</th>\n      <th>2.5_ci</th>\n      <th>97.5_ci</th>\n      <th>SE</th>\n      <th>DF</th>\n      <th>T-stat</th>\n      <th>P-val</th>\n      <th>Sig</th>\n    </tr>\n  </thead>\n  <tbody>\n    <tr>\n      <th>3</th>\n      <td>Constant speed - Deceleration nudge</td>\n      <td>Stay</td>\n      <td>-0.063</td>\n      <td>-0.185</td>\n      <td>0.060</td>\n      <td>0.045</td>\n      <td>2975.095</td>\n      <td>-1.396</td>\n      <td>0.630</td>\n      <td></td>\n    </tr>\n    <tr>\n      <th>6</th>\n      <td>Long acceleration - Deceleration nudge</td>\n      <td>Stay</td>\n      <td>-0.137</td>\n      <td>-0.258</td>\n      <td>-0.016</td>\n      <td>0.044</td>\n      <td>2977.830</td>\n      <td>-3.081</td>\n      <td>0.018</td>\n      <td>*</td>\n    </tr>\n    <tr>\n      <th>8</th>\n      <td>Acceleration nudge - Deceleration nudge</td>\n      <td>Stay</td>\n      <td>-0.188</td>\n      <td>-0.311</td>\n      <td>-0.064</td>\n      <td>0.045</td>\n      <td>2978.270</td>\n      <td>-4.149</td>\n      <td>0.000</td>\n      <td>***</td>\n    </tr>\n    <tr>\n      <th>10</th>\n      <td>Deceleration nudge - Long deceleration</td>\n      <td>Stay</td>\n      <td>-0.098</td>\n      <td>-0.249</td>\n      <td>0.054</td>\n      <td>0.055</td>\n      <td>2974.938</td>\n      <td>-1.758</td>\n      <td>0.399</td>\n      <td></td>\n    </tr>\n    <tr>\n      <th>13</th>\n      <td>Constant speed - Deceleration nudge</td>\n      <td>Go</td>\n      <td>0.004</td>\n      <td>-0.139</td>\n      <td>0.147</td>\n      <td>0.052</td>\n      <td>2974.058</td>\n      <td>0.080</td>\n      <td>1.000</td>\n      <td></td>\n    </tr>\n    <tr>\n      <th>16</th>\n      <td>Long acceleration - Deceleration nudge</td>\n      <td>Go</td>\n      <td>-0.040</td>\n      <td>-0.201</td>\n      <td>0.122</td>\n      <td>0.059</td>\n      <td>2975.242</td>\n      <td>-0.672</td>\n      <td>0.963</td>\n      <td></td>\n    </tr>\n    <tr>\n      <th>18</th>\n      <td>Acceleration nudge - Deceleration nudge</td>\n      <td>Go</td>\n      <td>0.039</td>\n      <td>-0.108</td>\n      <td>0.186</td>\n      <td>0.054</td>\n      <td>2973.776</td>\n      <td>0.720</td>\n      <td>0.952</td>\n      <td></td>\n    </tr>\n    <tr>\n      <th>20</th>\n      <td>Deceleration nudge - Long deceleration</td>\n      <td>Go</td>\n      <td>-0.263</td>\n      <td>-0.393</td>\n      <td>-0.133</td>\n      <td>0.047</td>\n      <td>2974.297</td>\n      <td>-5.539</td>\n      <td>0.000</td>\n      <td>***</td>\n    </tr>\n  </tbody>\n</table>\n</div>"
     },
     "execution_count": 46,
     "metadata": {},
     "output_type": "execute_result"
    }
   ],
   "source": [
    "comparisons[comparisons.Contrast.str.contains(\"Deceleration nudge\")]"
   ],
   "metadata": {
    "collapsed": false,
    "pycharm": {
     "name": "#%%\n"
    }
   }
  },
  {
   "cell_type": "code",
   "execution_count": 47,
   "outputs": [
    {
     "data": {
      "text/plain": "                                   Contrast decision  Estimate  2.5_ci  \\\n3       Constant speed - Deceleration nudge     Stay    -0.040  -0.179   \n6    Long acceleration - Deceleration nudge     Stay    -0.065  -0.203   \n8   Acceleration nudge - Deceleration nudge     Stay    -0.083  -0.223   \n10   Deceleration nudge - Long deceleration     Stay    -0.017  -0.189   \n13      Constant speed - Deceleration nudge       Go    -0.058  -0.220   \n16   Long acceleration - Deceleration nudge       Go    -0.175  -0.358   \n18  Acceleration nudge - Deceleration nudge       Go    -0.013  -0.180   \n20   Deceleration nudge - Long deceleration       Go    -0.168  -0.315   \n\n    97.5_ci     SE        DF  T-stat  P-val Sig  \n3     0.099  0.051  2974.235  -0.791  0.933      \n6     0.073  0.050  2976.309  -1.284  0.701      \n8     0.057  0.051  2976.633  -1.626  0.481      \n10    0.155  0.063  2974.106  -0.272  0.999      \n13    0.104  0.059  2973.466  -0.976  0.866      \n16    0.008  0.067  2974.336  -2.609  0.069   .  \n18    0.154  0.061  2973.261  -0.215  1.000      \n20   -0.021  0.054  2973.641  -3.119  0.016   *  ",
      "text/html": "<div>\n<style scoped>\n    .dataframe tbody tr th:only-of-type {\n        vertical-align: middle;\n    }\n\n    .dataframe tbody tr th {\n        vertical-align: top;\n    }\n\n    .dataframe thead th {\n        text-align: right;\n    }\n</style>\n<table border=\"1\" class=\"dataframe\">\n  <thead>\n    <tr style=\"text-align: right;\">\n      <th></th>\n      <th>Contrast</th>\n      <th>decision</th>\n      <th>Estimate</th>\n      <th>2.5_ci</th>\n      <th>97.5_ci</th>\n      <th>SE</th>\n      <th>DF</th>\n      <th>T-stat</th>\n      <th>P-val</th>\n      <th>Sig</th>\n    </tr>\n  </thead>\n  <tbody>\n    <tr>\n      <th>3</th>\n      <td>Constant speed - Deceleration nudge</td>\n      <td>Stay</td>\n      <td>-0.040</td>\n      <td>-0.179</td>\n      <td>0.099</td>\n      <td>0.051</td>\n      <td>2974.235</td>\n      <td>-0.791</td>\n      <td>0.933</td>\n      <td></td>\n    </tr>\n    <tr>\n      <th>6</th>\n      <td>Long acceleration - Deceleration nudge</td>\n      <td>Stay</td>\n      <td>-0.065</td>\n      <td>-0.203</td>\n      <td>0.073</td>\n      <td>0.050</td>\n      <td>2976.309</td>\n      <td>-1.284</td>\n      <td>0.701</td>\n      <td></td>\n    </tr>\n    <tr>\n      <th>8</th>\n      <td>Acceleration nudge - Deceleration nudge</td>\n      <td>Stay</td>\n      <td>-0.083</td>\n      <td>-0.223</td>\n      <td>0.057</td>\n      <td>0.051</td>\n      <td>2976.633</td>\n      <td>-1.626</td>\n      <td>0.481</td>\n      <td></td>\n    </tr>\n    <tr>\n      <th>10</th>\n      <td>Deceleration nudge - Long deceleration</td>\n      <td>Stay</td>\n      <td>-0.017</td>\n      <td>-0.189</td>\n      <td>0.155</td>\n      <td>0.063</td>\n      <td>2974.106</td>\n      <td>-0.272</td>\n      <td>0.999</td>\n      <td></td>\n    </tr>\n    <tr>\n      <th>13</th>\n      <td>Constant speed - Deceleration nudge</td>\n      <td>Go</td>\n      <td>-0.058</td>\n      <td>-0.220</td>\n      <td>0.104</td>\n      <td>0.059</td>\n      <td>2973.466</td>\n      <td>-0.976</td>\n      <td>0.866</td>\n      <td></td>\n    </tr>\n    <tr>\n      <th>16</th>\n      <td>Long acceleration - Deceleration nudge</td>\n      <td>Go</td>\n      <td>-0.175</td>\n      <td>-0.358</td>\n      <td>0.008</td>\n      <td>0.067</td>\n      <td>2974.336</td>\n      <td>-2.609</td>\n      <td>0.069</td>\n      <td>.</td>\n    </tr>\n    <tr>\n      <th>18</th>\n      <td>Acceleration nudge - Deceleration nudge</td>\n      <td>Go</td>\n      <td>-0.013</td>\n      <td>-0.180</td>\n      <td>0.154</td>\n      <td>0.061</td>\n      <td>2973.261</td>\n      <td>-0.215</td>\n      <td>1.000</td>\n      <td></td>\n    </tr>\n    <tr>\n      <th>20</th>\n      <td>Deceleration nudge - Long deceleration</td>\n      <td>Go</td>\n      <td>-0.168</td>\n      <td>-0.315</td>\n      <td>-0.021</td>\n      <td>0.054</td>\n      <td>2973.641</td>\n      <td>-3.119</td>\n      <td>0.016</td>\n      <td>*</td>\n    </tr>\n  </tbody>\n</table>\n</div>"
     },
     "execution_count": 47,
     "metadata": {},
     "output_type": "execute_result"
    }
   ],
   "source": [
    "log_RT_comparisons[log_RT_comparisons.Contrast.str.contains(\"Deceleration nudge\")]"
   ],
   "metadata": {
    "collapsed": false,
    "pycharm": {
     "name": "#%%\n"
    }
   }
  },
  {
   "cell_type": "markdown",
   "source": [
    "# Negative rating"
   ],
   "metadata": {
    "collapsed": false
   }
  },
  {
   "cell_type": "code",
   "execution_count": 10,
   "outputs": [
    {
     "name": "stdout",
     "output_type": "stream",
     "text": [
      "Linear mixed model fit by maximum likelihood  ['lmerMod']\n",
      "Formula: is_negative_rating~tta_0+decision+condition+(1|subj_id)\n",
      "\n",
      "Family: binomial\t Inference: parametric\n",
      "\n",
      "Number of observations: 3800\t Groups: {'subj_id': 19.0}\n",
      "\n",
      "Log-likelihood: -590.305 \t AIC: 1196.610\n",
      "\n",
      "Random effects:\n",
      "\n",
      "                Name    Var    Std\n",
      "subj_id  (Intercept)  1.302  1.141\n",
      "\n",
      "No random effect correlations specified\n",
      "\n",
      "Fixed effects:\n"
     ]
    }
   ],
   "source": [
    "model_rating = pymer4.models.Lmer(\"is_negative_rating ~ tta_0 + decision + condition +  (1 | subj_id)\", data=exp_measures, family=\"binomial\")\n",
    "# model_rating = pymer4.models.Lmer(\"is_negative_rating ~ decision + condition + (1 | subj_id) \", data=exp_measures, family=\"binomial\")\n",
    "model_rating_fit = model_rating.fit(factors={\"condition\": [\"Constant speed\", \"Long acceleration\", \"Acceleration nudge\", \"Deceleration nudge\", \"Long deceleration\"], \"decision\": [\"Stay\", \"Go\"]}, summarize=True)"
   ],
   "metadata": {
    "collapsed": false,
    "pycharm": {
     "name": "#%%\n"
    },
    "ExecuteTime": {
     "end_time": "2023-08-24T10:48:21.697998200Z",
     "start_time": "2023-08-24T10:48:16.140346900Z"
    }
   }
  },
  {
   "cell_type": "code",
   "execution_count": 22,
   "outputs": [
    {
     "data": {
      "text/plain": "0.2539205152358433"
     },
     "execution_count": 22,
     "metadata": {},
     "output_type": "execute_result"
    }
   ],
   "source": [
    "wald_stat = ((model_rating.ranef_var[\"Var\"]/model_rating.ranef_var[\"Std\"])**2).values[0]\n",
    "scipy.stats.chi2.sf(wald_stat, 1)"
   ],
   "metadata": {
    "collapsed": false,
    "ExecuteTime": {
     "end_time": "2023-08-24T10:51:16.680829600Z",
     "start_time": "2023-08-24T10:51:16.656829800Z"
    }
   }
  },
  {
   "cell_type": "code",
   "execution_count": 373,
   "outputs": [],
   "source": [
    "df = model_rating.coefs.loc[:, [\"Estimate\", \"SE\", \"Z-stat\", \"P-val\"]]\n",
    "\n",
    "p_func = lambda p: \"{:.2f}\".format(p) if p>0.001 else \"$<0.001$\"\n",
    "\n",
    "df[\"P-val\"] = df[\"P-val\"].apply(p_func)\n",
    "\n",
    "styler = df.rename(columns=column_names, index=var_names).style.format(precision=2)\n",
    "\n",
    "with open('figures/tab_rating.tex', 'w') as tf:\n",
    "     tf.write(styler.to_latex(\n",
    "         column_format=\"rrrrrr\", position=\"h\", position_float=\"centering\",\n",
    "         hrules=True, label=\"tab:rating\", caption=\"Coefficients of the mixed-effects logistic regression describing occurrence of the negative rating as a function of $\\\\textrm{TTA}_0$ and condition (with Constant speed as the reference category). Participant ID was included as a random intercept.\"\n",
    "     )\n",
    ")"
   ],
   "metadata": {
    "collapsed": false,
    "pycharm": {
     "name": "#%%\n"
    }
   }
  },
  {
   "cell_type": "code",
   "execution_count": 376,
   "outputs": [
    {
     "name": "stdout",
     "output_type": "stream",
     "text": [
      "P-values adjusted by tukey method for family of 10 estimates\n"
     ]
    },
    {
     "data": {
      "text/plain": "            condition  Estimate  2.5_ci  97.5_ci     SE   DF\n0      Constant speed    -5.101  -5.879   -4.323  0.397  inf\n1   Long acceleration    -5.161  -5.929   -4.393  0.392  inf\n2  Acceleration nudge    -4.583  -5.293   -3.873  0.362  inf\n3  Deceleration nudge    -4.310  -5.004   -3.617  0.354  inf\n4   Long deceleration    -1.730  -2.303   -1.157  0.292  inf",
      "text/html": "<div>\n<style scoped>\n    .dataframe tbody tr th:only-of-type {\n        vertical-align: middle;\n    }\n\n    .dataframe tbody tr th {\n        vertical-align: top;\n    }\n\n    .dataframe thead th {\n        text-align: right;\n    }\n</style>\n<table border=\"1\" class=\"dataframe\">\n  <thead>\n    <tr style=\"text-align: right;\">\n      <th></th>\n      <th>condition</th>\n      <th>Estimate</th>\n      <th>2.5_ci</th>\n      <th>97.5_ci</th>\n      <th>SE</th>\n      <th>DF</th>\n    </tr>\n  </thead>\n  <tbody>\n    <tr>\n      <th>0</th>\n      <td>Constant speed</td>\n      <td>-5.101</td>\n      <td>-5.879</td>\n      <td>-4.323</td>\n      <td>0.397</td>\n      <td>inf</td>\n    </tr>\n    <tr>\n      <th>1</th>\n      <td>Long acceleration</td>\n      <td>-5.161</td>\n      <td>-5.929</td>\n      <td>-4.393</td>\n      <td>0.392</td>\n      <td>inf</td>\n    </tr>\n    <tr>\n      <th>2</th>\n      <td>Acceleration nudge</td>\n      <td>-4.583</td>\n      <td>-5.293</td>\n      <td>-3.873</td>\n      <td>0.362</td>\n      <td>inf</td>\n    </tr>\n    <tr>\n      <th>3</th>\n      <td>Deceleration nudge</td>\n      <td>-4.310</td>\n      <td>-5.004</td>\n      <td>-3.617</td>\n      <td>0.354</td>\n      <td>inf</td>\n    </tr>\n    <tr>\n      <th>4</th>\n      <td>Long deceleration</td>\n      <td>-1.730</td>\n      <td>-2.303</td>\n      <td>-1.157</td>\n      <td>0.292</td>\n      <td>inf</td>\n    </tr>\n  </tbody>\n</table>\n</div>"
     },
     "execution_count": 376,
     "metadata": {},
     "output_type": "execute_result"
    }
   ],
   "source": [
    "marginal_estimates, comparisons = model_rating.post_hoc(marginal_vars=[\"condition\"])\n",
    "# \"Cell\" means of the ANOVA\n",
    "marginal_estimates"
   ],
   "metadata": {
    "collapsed": false,
    "pycharm": {
     "name": "#%%\n"
    }
   }
  },
  {
   "cell_type": "code",
   "execution_count": 363,
   "outputs": [
    {
     "data": {
      "text/plain": "                                  Contrast  Estimate  2.5_ci  97.5_ci     SE  \\\n0       Constant speed - Long acceleration     0.060  -0.946    1.066  0.369   \n1      Constant speed - Acceleration nudge    -0.517  -1.446    0.411  0.340   \n2      Constant speed - Deceleration nudge    -0.790  -1.694    0.113  0.331   \n3       Constant speed - Long deceleration    -3.371  -4.194   -2.547  0.302   \n4   Long acceleration - Acceleration nudge    -0.578  -1.487    0.332  0.333   \n5   Long acceleration - Deceleration nudge    -0.851  -1.735    0.034  0.324   \n6    Long acceleration - Long deceleration    -3.431  -4.238   -2.624  0.296   \n7  Acceleration nudge - Deceleration nudge    -0.273  -1.068    0.522  0.292   \n8   Acceleration nudge - Long deceleration    -2.853  -3.551   -2.155  0.256   \n9   Deceleration nudge - Long deceleration    -2.580  -3.242   -1.919  0.242   \n\n    DF  Z-stat  P-val  Sig  \n0  inf   0.163  1.000       \n1  inf  -1.520  0.549       \n2  inf  -2.387  0.119       \n3  inf -11.163  0.000  ***  \n4  inf  -1.732  0.414       \n5  inf  -2.623  0.066    .  \n6  inf -11.599  0.000  ***  \n7  inf  -0.937  0.883       \n8  inf -11.150  0.000  ***  \n9  inf -10.641  0.000  ***  ",
      "text/html": "<div>\n<style scoped>\n    .dataframe tbody tr th:only-of-type {\n        vertical-align: middle;\n    }\n\n    .dataframe tbody tr th {\n        vertical-align: top;\n    }\n\n    .dataframe thead th {\n        text-align: right;\n    }\n</style>\n<table border=\"1\" class=\"dataframe\">\n  <thead>\n    <tr style=\"text-align: right;\">\n      <th></th>\n      <th>Contrast</th>\n      <th>Estimate</th>\n      <th>2.5_ci</th>\n      <th>97.5_ci</th>\n      <th>SE</th>\n      <th>DF</th>\n      <th>Z-stat</th>\n      <th>P-val</th>\n      <th>Sig</th>\n    </tr>\n  </thead>\n  <tbody>\n    <tr>\n      <th>0</th>\n      <td>Constant speed - Long acceleration</td>\n      <td>0.060</td>\n      <td>-0.946</td>\n      <td>1.066</td>\n      <td>0.369</td>\n      <td>inf</td>\n      <td>0.163</td>\n      <td>1.000</td>\n      <td></td>\n    </tr>\n    <tr>\n      <th>1</th>\n      <td>Constant speed - Acceleration nudge</td>\n      <td>-0.517</td>\n      <td>-1.446</td>\n      <td>0.411</td>\n      <td>0.340</td>\n      <td>inf</td>\n      <td>-1.520</td>\n      <td>0.549</td>\n      <td></td>\n    </tr>\n    <tr>\n      <th>2</th>\n      <td>Constant speed - Deceleration nudge</td>\n      <td>-0.790</td>\n      <td>-1.694</td>\n      <td>0.113</td>\n      <td>0.331</td>\n      <td>inf</td>\n      <td>-2.387</td>\n      <td>0.119</td>\n      <td></td>\n    </tr>\n    <tr>\n      <th>3</th>\n      <td>Constant speed - Long deceleration</td>\n      <td>-3.371</td>\n      <td>-4.194</td>\n      <td>-2.547</td>\n      <td>0.302</td>\n      <td>inf</td>\n      <td>-11.163</td>\n      <td>0.000</td>\n      <td>***</td>\n    </tr>\n    <tr>\n      <th>4</th>\n      <td>Long acceleration - Acceleration nudge</td>\n      <td>-0.578</td>\n      <td>-1.487</td>\n      <td>0.332</td>\n      <td>0.333</td>\n      <td>inf</td>\n      <td>-1.732</td>\n      <td>0.414</td>\n      <td></td>\n    </tr>\n    <tr>\n      <th>5</th>\n      <td>Long acceleration - Deceleration nudge</td>\n      <td>-0.851</td>\n      <td>-1.735</td>\n      <td>0.034</td>\n      <td>0.324</td>\n      <td>inf</td>\n      <td>-2.623</td>\n      <td>0.066</td>\n      <td>.</td>\n    </tr>\n    <tr>\n      <th>6</th>\n      <td>Long acceleration - Long deceleration</td>\n      <td>-3.431</td>\n      <td>-4.238</td>\n      <td>-2.624</td>\n      <td>0.296</td>\n      <td>inf</td>\n      <td>-11.599</td>\n      <td>0.000</td>\n      <td>***</td>\n    </tr>\n    <tr>\n      <th>7</th>\n      <td>Acceleration nudge - Deceleration nudge</td>\n      <td>-0.273</td>\n      <td>-1.068</td>\n      <td>0.522</td>\n      <td>0.292</td>\n      <td>inf</td>\n      <td>-0.937</td>\n      <td>0.883</td>\n      <td></td>\n    </tr>\n    <tr>\n      <th>8</th>\n      <td>Acceleration nudge - Long deceleration</td>\n      <td>-2.853</td>\n      <td>-3.551</td>\n      <td>-2.155</td>\n      <td>0.256</td>\n      <td>inf</td>\n      <td>-11.150</td>\n      <td>0.000</td>\n      <td>***</td>\n    </tr>\n    <tr>\n      <th>9</th>\n      <td>Deceleration nudge - Long deceleration</td>\n      <td>-2.580</td>\n      <td>-3.242</td>\n      <td>-1.919</td>\n      <td>0.242</td>\n      <td>inf</td>\n      <td>-10.641</td>\n      <td>0.000</td>\n      <td>***</td>\n    </tr>\n  </tbody>\n</table>\n</div>"
     },
     "execution_count": 363,
     "metadata": {},
     "output_type": "execute_result"
    }
   ],
   "source": [
    "comparisons"
   ],
   "metadata": {
    "collapsed": false,
    "pycharm": {
     "name": "#%%\n"
    }
   }
  }
 ],
 "metadata": {
  "kernelspec": {
   "display_name": "Python 3",
   "language": "python",
   "name": "python3"
  },
  "language_info": {
   "codemirror_mode": {
    "name": "ipython",
    "version": 2
   },
   "file_extension": ".py",
   "mimetype": "text/x-python",
   "name": "python",
   "nbconvert_exporter": "python",
   "pygments_lexer": "ipython2",
   "version": "2.7.6"
  }
 },
 "nbformat": 4,
 "nbformat_minor": 0
}