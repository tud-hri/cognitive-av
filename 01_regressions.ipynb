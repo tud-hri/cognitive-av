{
 "cells": [
  {
   "cell_type": "code",
   "execution_count": 247,
   "metadata": {
    "collapsed": true
   },
   "outputs": [],
   "source": [
    "import numpy as np\n",
    "import pandas as pd\n",
    "import utils\n",
    "import pymer4.models\n",
    "import ast\n",
    "import matplotlib.pyplot as plt"
   ]
  },
  {
   "cell_type": "code",
   "execution_count": 115,
   "outputs": [],
   "source": [
    "exp_measures = pd.read_csv(\"data/measures.csv\")\n",
    "\n",
    "condition_map = utils.get_nudge_condition_map()\n",
    "exp_measures[\"a_values\"] = exp_measures.a_values.apply(ast.literal_eval).apply(tuple)\n",
    "exp_measures[\"condition\"] = pd.Categorical(exp_measures[\"a_values\"].map(condition_map), categories=condition_map.values(), ordered=True)\n",
    "# exp_measures[\"condition_coded\"] = exp_measures[\"condition\"].cat.codes-2\n",
    "exp_measures[\"a_values\"] = exp_measures[\"a_values\"].apply(str)"
   ],
   "metadata": {
    "collapsed": false,
    "pycharm": {
     "name": "#%%\n"
    }
   }
  },
  {
   "cell_type": "code",
   "execution_count": 368,
   "outputs": [],
   "source": [
    "column_names = {\"Estimate\": \"$b$\", \"Z-stat\": \"$z$\", \"P-val\": \"$p$\", \"T-stat\": \"$t$\", \"F-stat\": \"$F$\", \"2.5_ci\": \"CI 2.5\\%\", \"97.5_ci\": \"CI 97.5\\%\", \"NumDF\": \"df\"}\n",
    "var_names = {\"tta_0\": \"$\\\\textrm{TTA}_0$\",\n",
    "             \"decision:tta_0\": \"decision:$\\\\textrm{TTA}_0$\",\n",
    "             \"condition:tta_0\": \"condition:$\\\\textrm{TTA}_0$\",\n",
    "             \"decision:condition:tta_0\": \"decision:condition:$\\\\textrm{TTA}_0$\",\n",
    "             \"condition1\": \"Long acceleration\",\n",
    "             \"condition2\": \"Acceleration nudge\",\n",
    "             \"condition3\": \"Deceleration nudge\",\n",
    "             \"condition4\": \"Long deceleration\",\n",
    "             \"decision1\": \"decision\"}"
   ],
   "metadata": {
    "collapsed": false,
    "pycharm": {
     "name": "#%%\n"
    }
   }
  },
  {
   "cell_type": "markdown",
   "source": [
    "# Decision"
   ],
   "metadata": {
    "collapsed": false,
    "pycharm": {
     "name": "#%% md\n"
    }
   }
  },
  {
   "cell_type": "code",
   "source": [
    "model_is_go_decision = pymer4.models.Lmer(\"is_go_decision ~ tta_0 + condition + (1 | subj_id) \", data=exp_measures, family=\"binomial\")\n",
    "model_is_go_decision_fit = model_is_go_decision.fit(factors={\"condition\": [\"Constant speed\", \"Long acceleration\", \"Acceleration nudge\", \"Deceleration nudge\", \"Long deceleration\"]})\n",
    "print(model_is_go_decision.coefs)"
   ],
   "metadata": {
    "collapsed": false,
    "pycharm": {
     "name": "#%%\n"
    }
   },
   "execution_count": 248,
   "outputs": [
    {
     "name": "stderr",
     "output_type": "stream",
     "text": [
      "D:\\source\\cognitive-av\\venv\\lib\\site-packages\\rpy2\\robjects\\pandas2ri.py:55: FutureWarning: iteritems is deprecated and will be removed in a future version. Use .items instead.\n",
      "  for name, values in obj.iteritems():\n"
     ]
    },
    {
     "name": "stdout",
     "output_type": "stream",
     "text": [
      "Formula: is_go_decision~tta_0+condition+(1|subj_id)\n",
      "\n",
      "Family: binomial\t Inference: parametric\n",
      "\n",
      "Number of observations: 3800\t Groups: {'subj_id': 19.0}\n",
      "\n",
      "Log-likelihood: -1543.917 \t AIC: 3101.833\n",
      "\n",
      "Random effects:\n",
      "\n",
      "                Name    Var    Std\n",
      "subj_id  (Intercept)  4.321  2.079\n",
      "\n",
      "No random effect correlations specified\n",
      "\n",
      "Fixed effects:\n",
      "\n",
      "             Estimate     2.5_ci   97.5_ci        SE        OR  OR_2.5_ci  \\\n",
      "(Intercept) -9.370903 -10.758697 -7.983109  0.708071  0.000085   0.000021   \n",
      "tta_0        1.825554   1.625594  2.025513  0.102022  6.206230   5.081438   \n",
      "condition1  -0.767809  -1.052470 -0.483147  0.145238  0.464029   0.349074   \n",
      "condition2  -0.113153  -0.393691  0.167386  0.143134  0.893014   0.674562   \n",
      "condition3   0.504310   0.222531  0.786089  0.143767  1.655842   1.249234   \n",
      "condition4   1.477320   1.183432  1.771207  0.149945  4.381186   3.265564   \n",
      "\n",
      "             OR_97.5_ci      Prob  Prob_2.5_ci  Prob_97.5_ci     Z-stat  \\\n",
      "(Intercept)    0.000341  0.000085     0.000021      0.000341 -13.234410   \n",
      "tta_0          7.579999  0.861231     0.835565      0.883450  17.893729   \n",
      "condition1     0.616839  0.316953     0.258751      0.381509  -5.286551   \n",
      "condition2     1.182210  0.471742     0.402829      0.541749  -0.790534   \n",
      "condition3     2.194795  0.623472     0.555404      0.686991   3.507816   \n",
      "condition4     5.877942  0.814167     0.765564      0.854608   9.852397   \n",
      "\n",
      "                    P-val  Sig  \n",
      "(Intercept)  5.553130e-40  ***  \n",
      "tta_0        1.319740e-71  ***  \n",
      "condition1   1.246438e-07  ***  \n",
      "condition2   4.292158e-01       \n",
      "condition3   4.518016e-04  ***  \n",
      "condition4   6.692842e-23  ***  \n"
     ]
    }
   ]
  },
  {
   "cell_type": "code",
   "execution_count": 193,
   "outputs": [
    {
     "name": "stdout",
     "output_type": "stream",
     "text": [
      "P-values adjusted by tukey method for family of 10 estimates\n"
     ]
    }
   ],
   "source": [
    "marginal_estimates, comparisons = model_is_go_decision.post_hoc(marginal_vars=[\"condition\"])"
   ],
   "metadata": {
    "collapsed": false,
    "pycharm": {
     "name": "#%%\n"
    }
   }
  },
  {
   "cell_type": "code",
   "execution_count": 194,
   "outputs": [
    {
     "data": {
      "text/plain": "            condition  Estimate  2.5_ci  97.5_ci     SE   DF\n0      Constant speed    -0.243  -1.200    0.714  0.488  inf\n1   Long acceleration    -1.011  -1.969   -0.053  0.489  inf\n2  Acceleration nudge    -0.356  -1.313    0.600  0.488  inf\n3  Deceleration nudge     0.261  -0.696    1.218  0.488  inf\n4   Long deceleration     1.234   0.275    2.193  0.489  inf",
      "text/html": "<div>\n<style scoped>\n    .dataframe tbody tr th:only-of-type {\n        vertical-align: middle;\n    }\n\n    .dataframe tbody tr th {\n        vertical-align: top;\n    }\n\n    .dataframe thead th {\n        text-align: right;\n    }\n</style>\n<table border=\"1\" class=\"dataframe\">\n  <thead>\n    <tr style=\"text-align: right;\">\n      <th></th>\n      <th>condition</th>\n      <th>Estimate</th>\n      <th>2.5_ci</th>\n      <th>97.5_ci</th>\n      <th>SE</th>\n      <th>DF</th>\n    </tr>\n  </thead>\n  <tbody>\n    <tr>\n      <th>0</th>\n      <td>Constant speed</td>\n      <td>-0.243</td>\n      <td>-1.200</td>\n      <td>0.714</td>\n      <td>0.488</td>\n      <td>inf</td>\n    </tr>\n    <tr>\n      <th>1</th>\n      <td>Long acceleration</td>\n      <td>-1.011</td>\n      <td>-1.969</td>\n      <td>-0.053</td>\n      <td>0.489</td>\n      <td>inf</td>\n    </tr>\n    <tr>\n      <th>2</th>\n      <td>Acceleration nudge</td>\n      <td>-0.356</td>\n      <td>-1.313</td>\n      <td>0.600</td>\n      <td>0.488</td>\n      <td>inf</td>\n    </tr>\n    <tr>\n      <th>3</th>\n      <td>Deceleration nudge</td>\n      <td>0.261</td>\n      <td>-0.696</td>\n      <td>1.218</td>\n      <td>0.488</td>\n      <td>inf</td>\n    </tr>\n    <tr>\n      <th>4</th>\n      <td>Long deceleration</td>\n      <td>1.234</td>\n      <td>0.275</td>\n      <td>2.193</td>\n      <td>0.489</td>\n      <td>inf</td>\n    </tr>\n  </tbody>\n</table>\n</div>"
     },
     "execution_count": 194,
     "metadata": {},
     "output_type": "execute_result"
    }
   ],
   "source": [
    "marginal_estimates"
   ],
   "metadata": {
    "collapsed": false,
    "pycharm": {
     "name": "#%%\n"
    }
   }
  },
  {
   "cell_type": "code",
   "execution_count": 195,
   "outputs": [
    {
     "data": {
      "text/plain": "                                  Contrast  Estimate  2.5_ci  97.5_ci     SE  \\\n0       Constant speed - Long acceleration     0.768   0.372    1.164  0.145   \n1      Constant speed - Acceleration nudge     0.113  -0.277    0.504  0.143   \n2      Constant speed - Deceleration nudge    -0.504  -0.896   -0.112  0.144   \n3       Constant speed - Long deceleration    -1.477  -1.886   -1.068  0.150   \n4   Long acceleration - Acceleration nudge    -0.655  -1.050   -0.259  0.145   \n5   Long acceleration - Deceleration nudge    -1.272  -1.674   -0.870  0.147   \n6    Long acceleration - Long deceleration    -2.245  -2.671   -1.819  0.156   \n7  Acceleration nudge - Deceleration nudge    -0.617  -1.010   -0.224  0.144   \n8   Acceleration nudge - Long deceleration    -1.590  -2.001   -1.180  0.151   \n9   Deceleration nudge - Long deceleration    -0.973  -1.376   -0.570  0.148   \n\n    DF  Z-stat  P-val  Sig  \n0  inf   5.287  0.000  ***  \n1  inf   0.791  0.933       \n2  inf  -3.508  0.004   **  \n3  inf  -9.852  0.000  ***  \n4  inf  -4.517  0.000  ***  \n5  inf  -8.626  0.000  ***  \n6  inf -14.388  0.000  ***  \n7  inf  -4.286  0.000  ***  \n8  inf -10.557  0.000  ***  \n9  inf  -6.591  0.000  ***  ",
      "text/html": "<div>\n<style scoped>\n    .dataframe tbody tr th:only-of-type {\n        vertical-align: middle;\n    }\n\n    .dataframe tbody tr th {\n        vertical-align: top;\n    }\n\n    .dataframe thead th {\n        text-align: right;\n    }\n</style>\n<table border=\"1\" class=\"dataframe\">\n  <thead>\n    <tr style=\"text-align: right;\">\n      <th></th>\n      <th>Contrast</th>\n      <th>Estimate</th>\n      <th>2.5_ci</th>\n      <th>97.5_ci</th>\n      <th>SE</th>\n      <th>DF</th>\n      <th>Z-stat</th>\n      <th>P-val</th>\n      <th>Sig</th>\n    </tr>\n  </thead>\n  <tbody>\n    <tr>\n      <th>0</th>\n      <td>Constant speed - Long acceleration</td>\n      <td>0.768</td>\n      <td>0.372</td>\n      <td>1.164</td>\n      <td>0.145</td>\n      <td>inf</td>\n      <td>5.287</td>\n      <td>0.000</td>\n      <td>***</td>\n    </tr>\n    <tr>\n      <th>1</th>\n      <td>Constant speed - Acceleration nudge</td>\n      <td>0.113</td>\n      <td>-0.277</td>\n      <td>0.504</td>\n      <td>0.143</td>\n      <td>inf</td>\n      <td>0.791</td>\n      <td>0.933</td>\n      <td></td>\n    </tr>\n    <tr>\n      <th>2</th>\n      <td>Constant speed - Deceleration nudge</td>\n      <td>-0.504</td>\n      <td>-0.896</td>\n      <td>-0.112</td>\n      <td>0.144</td>\n      <td>inf</td>\n      <td>-3.508</td>\n      <td>0.004</td>\n      <td>**</td>\n    </tr>\n    <tr>\n      <th>3</th>\n      <td>Constant speed - Long deceleration</td>\n      <td>-1.477</td>\n      <td>-1.886</td>\n      <td>-1.068</td>\n      <td>0.150</td>\n      <td>inf</td>\n      <td>-9.852</td>\n      <td>0.000</td>\n      <td>***</td>\n    </tr>\n    <tr>\n      <th>4</th>\n      <td>Long acceleration - Acceleration nudge</td>\n      <td>-0.655</td>\n      <td>-1.050</td>\n      <td>-0.259</td>\n      <td>0.145</td>\n      <td>inf</td>\n      <td>-4.517</td>\n      <td>0.000</td>\n      <td>***</td>\n    </tr>\n    <tr>\n      <th>5</th>\n      <td>Long acceleration - Deceleration nudge</td>\n      <td>-1.272</td>\n      <td>-1.674</td>\n      <td>-0.870</td>\n      <td>0.147</td>\n      <td>inf</td>\n      <td>-8.626</td>\n      <td>0.000</td>\n      <td>***</td>\n    </tr>\n    <tr>\n      <th>6</th>\n      <td>Long acceleration - Long deceleration</td>\n      <td>-2.245</td>\n      <td>-2.671</td>\n      <td>-1.819</td>\n      <td>0.156</td>\n      <td>inf</td>\n      <td>-14.388</td>\n      <td>0.000</td>\n      <td>***</td>\n    </tr>\n    <tr>\n      <th>7</th>\n      <td>Acceleration nudge - Deceleration nudge</td>\n      <td>-0.617</td>\n      <td>-1.010</td>\n      <td>-0.224</td>\n      <td>0.144</td>\n      <td>inf</td>\n      <td>-4.286</td>\n      <td>0.000</td>\n      <td>***</td>\n    </tr>\n    <tr>\n      <th>8</th>\n      <td>Acceleration nudge - Long deceleration</td>\n      <td>-1.590</td>\n      <td>-2.001</td>\n      <td>-1.180</td>\n      <td>0.151</td>\n      <td>inf</td>\n      <td>-10.557</td>\n      <td>0.000</td>\n      <td>***</td>\n    </tr>\n    <tr>\n      <th>9</th>\n      <td>Deceleration nudge - Long deceleration</td>\n      <td>-0.973</td>\n      <td>-1.376</td>\n      <td>-0.570</td>\n      <td>0.148</td>\n      <td>inf</td>\n      <td>-6.591</td>\n      <td>0.000</td>\n      <td>***</td>\n    </tr>\n  </tbody>\n</table>\n</div>"
     },
     "execution_count": 195,
     "metadata": {},
     "output_type": "execute_result"
    }
   ],
   "source": [
    "comparisons"
   ],
   "metadata": {
    "collapsed": false,
    "pycharm": {
     "name": "#%%\n"
    }
   }
  },
  {
   "cell_type": "code",
   "execution_count": 212,
   "outputs": [],
   "source": [
    "df = model_is_go_decision.coefs.loc[:, [\"Estimate\", \"SE\", \"Z-stat\", \"P-val\"]]\n",
    "\n",
    "p_func = lambda p: \"{:.2f}\".format(p) if p>0.001 else \"$<0.001$\"\n",
    "\n",
    "df[\"P-val\"] = df[\"P-val\"].apply(p_func)\n",
    "\n",
    "styler = df.rename(columns=column_names, index=var_names).style.format(precision=2)\n",
    "\n",
    "with open('figures/tab_decision.tex', 'w') as tf:\n",
    "     tf.write(styler.to_latex(\n",
    "         column_format=\"rrrrr\", position=\"h\", position_float=\"centering\",\n",
    "         hrules=True, label=\"tab:decision\", caption=\"Coefficients of the mixed-effects logistic regression describing the final decision as a function of $\\\\textrm{TTA}_0$ and condition (with Constant speed as the reference category). Participant ID was included as a random intercept.\"\n",
    "     )\n",
    ")"
   ],
   "metadata": {
    "collapsed": false,
    "pycharm": {
     "name": "#%%\n"
    }
   }
  },
  {
   "cell_type": "markdown",
   "source": [
    "# Response time"
   ],
   "metadata": {
    "collapsed": false
   }
  },
  {
   "cell_type": "markdown",
   "source": [
    "Full model with three-way interactions"
   ],
   "metadata": {
    "collapsed": false,
    "pycharm": {
     "name": "#%% md\n"
    }
   }
  },
  {
   "cell_type": "code",
   "execution_count": 305,
   "outputs": [
    {
     "name": "stderr",
     "output_type": "stream",
     "text": [
      "D:\\source\\cognitive-av\\venv\\lib\\site-packages\\rpy2\\robjects\\pandas2ri.py:55: FutureWarning: iteritems is deprecated and will be removed in a future version. Use .items instead.\n",
      "  for name, values in obj.iteritems():\n"
     ]
    },
    {
     "name": "stdout",
     "output_type": "stream",
     "text": [
      "**NOTE**: Column for 'residuals' not created in model.data, but saved in model.resid only. This is because you have rows with NaNs in your data.\n",
      "\n",
      "**NOTE** Column for 'fits' not created in model.data, but saved in model.fits only. This is because you have rows with NaNs in your data.\n",
      "\n"
     ]
    }
   ],
   "source": [
    "# model_RT = pymer4.models.Lmer(\"RT ~ 1 + decision * tta_0 * condition + (1 | subj_id)\", data=exp_measures, family=\"gaussian\")\n",
    "model_RT = pymer4.models.Lmer(\"RT ~ 1 + decision + tta_0 + condition + decision:tta_0 + decision:condition + condition:tta_0 + decision:condition:tta_0 + (1 | subj_id)\", data=exp_measures, family=\"gaussian\")\n",
    "model_RT_fit = model_RT.fit(factors={\"condition\": [\"Constant speed\", \"Long acceleration\", \"Acceleration nudge\", \"Deceleration nudge\", \"Long deceleration\"], \"decision\": [\"Stay\", \"Go\"]}, summarize=False)\n",
    "# df = model_RT.coefs.loc[:, [\"Estimate\", \"2.5_ci\", \"97.5_ci\", \"T-stat\", \"P-val\", \"Sig\"]]"
   ],
   "metadata": {
    "collapsed": false,
    "pycharm": {
     "name": "#%%\n"
    }
   }
  },
  {
   "cell_type": "code",
   "execution_count": 306,
   "outputs": [
    {
     "name": "stdout",
     "output_type": "stream",
     "text": [
      "SS Type III Analysis of Variance Table with Satterthwaite approximated degrees of freedom:\n",
      "(NOTE: Using original model contrasts, orthogonality not guaranteed)\n"
     ]
    }
   ],
   "source": [
    "RT_anova = model_RT.anova()\n",
    "RT_anova.index = [\"decision\", \"tta_0\", \"condition\", \"decision:tta_0\", \"decision:condition\", \"condition:tta_0\", \"decision:condition:tta_0\"]"
   ],
   "metadata": {
    "collapsed": false,
    "pycharm": {
     "name": "#%%\n"
    }
   }
  },
  {
   "cell_type": "code",
   "execution_count": 290,
   "outputs": [
    {
     "data": {
      "text/plain": "                                 SS         MS  NumDF      DenomDF     F-stat  \\\ndecision                   6.699902   6.699902      1  2978.930242  20.093258   \ntta_0                     10.986597  10.986597      1  2982.707584  32.949217   \ncondition                  2.999869   0.749967      4  2973.874348   2.249180   \ndecision:tta_0             0.000071   0.000071      1  2977.777514   0.000212   \ndecision:condition         9.882377   2.470594      4  2974.004193   7.409405   \ncondition:tta_0            4.669410   1.167353      4  2973.998393   3.500934   \ndecision:tta_0:condition   9.943541   2.485885      4  2974.159973   7.455263   \n\n                                 P-val  Sig  \ndecision                  7.653882e-06  ***  \ntta_0                     1.041041e-08  ***  \ncondition                 6.144640e-02    .  \ndecision:tta_0            9.883909e-01       \ndecision:condition        6.184003e-06  ***  \ncondition:tta_0           7.373453e-03   **  \ndecision:tta_0:condition  5.679566e-06  ***  ",
      "text/html": "<div>\n<style scoped>\n    .dataframe tbody tr th:only-of-type {\n        vertical-align: middle;\n    }\n\n    .dataframe tbody tr th {\n        vertical-align: top;\n    }\n\n    .dataframe thead th {\n        text-align: right;\n    }\n</style>\n<table border=\"1\" class=\"dataframe\">\n  <thead>\n    <tr style=\"text-align: right;\">\n      <th></th>\n      <th>SS</th>\n      <th>MS</th>\n      <th>NumDF</th>\n      <th>DenomDF</th>\n      <th>F-stat</th>\n      <th>P-val</th>\n      <th>Sig</th>\n    </tr>\n  </thead>\n  <tbody>\n    <tr>\n      <th>decision</th>\n      <td>6.699902</td>\n      <td>6.699902</td>\n      <td>1</td>\n      <td>2978.930242</td>\n      <td>20.093258</td>\n      <td>7.653882e-06</td>\n      <td>***</td>\n    </tr>\n    <tr>\n      <th>tta_0</th>\n      <td>10.986597</td>\n      <td>10.986597</td>\n      <td>1</td>\n      <td>2982.707584</td>\n      <td>32.949217</td>\n      <td>1.041041e-08</td>\n      <td>***</td>\n    </tr>\n    <tr>\n      <th>condition</th>\n      <td>2.999869</td>\n      <td>0.749967</td>\n      <td>4</td>\n      <td>2973.874348</td>\n      <td>2.249180</td>\n      <td>6.144640e-02</td>\n      <td>.</td>\n    </tr>\n    <tr>\n      <th>decision:tta_0</th>\n      <td>0.000071</td>\n      <td>0.000071</td>\n      <td>1</td>\n      <td>2977.777514</td>\n      <td>0.000212</td>\n      <td>9.883909e-01</td>\n      <td></td>\n    </tr>\n    <tr>\n      <th>decision:condition</th>\n      <td>9.882377</td>\n      <td>2.470594</td>\n      <td>4</td>\n      <td>2974.004193</td>\n      <td>7.409405</td>\n      <td>6.184003e-06</td>\n      <td>***</td>\n    </tr>\n    <tr>\n      <th>condition:tta_0</th>\n      <td>4.669410</td>\n      <td>1.167353</td>\n      <td>4</td>\n      <td>2973.998393</td>\n      <td>3.500934</td>\n      <td>7.373453e-03</td>\n      <td>**</td>\n    </tr>\n    <tr>\n      <th>decision:tta_0:condition</th>\n      <td>9.943541</td>\n      <td>2.485885</td>\n      <td>4</td>\n      <td>2974.159973</td>\n      <td>7.455263</td>\n      <td>5.679566e-06</td>\n      <td>***</td>\n    </tr>\n  </tbody>\n</table>\n</div>"
     },
     "execution_count": 290,
     "metadata": {},
     "output_type": "execute_result"
    }
   ],
   "source": [
    "RT_anova"
   ],
   "metadata": {
    "collapsed": false,
    "pycharm": {
     "name": "#%%\n"
    }
   }
  },
  {
   "cell_type": "code",
   "execution_count": 304,
   "outputs": [],
   "source": [
    "df = RT_anova.loc[:, [\"SS\", \"MS\", \"NumDF\", \"F-stat\", \"P-val\"]]\n",
    "\n",
    "p_func = lambda p: \"{:.2f}\".format(p) if p>0.001 else \"$<0.001$\"\n",
    "df[\"P-val\"] = df[\"P-val\"].apply(p_func)\n",
    "#\n",
    "# df[\"order\"] = range(len(df))\n",
    "# df.loc[\"\\\\textit{Go decisions}\"] = [\"\", \"\", \"\", \"\", \"\", 1.5]\n",
    "# df.loc[\"\\\\textit{Stay decisions}\"] = [\"\", \"\", \"\", \"\", \"\", 6.5]\n",
    "# df = df.sort_values([\"order\"]).drop(columns=[\"order\"])\n",
    "\n",
    "styler = df.rename(columns=column_names, index=var_names).style.format(precision=2)\n",
    "\n",
    "with open('figures/tab_RT.tex', 'w') as tf:\n",
    "     tf.write(styler.to_latex(\n",
    "         column_format=\"rrrrrrr\", position=\"h\", position_float=\"centering\",\n",
    "         hrules=True, label=\"tab:RT\", caption=\"ANOVA table based on the mixed-effects linear regression describing response time as a function of decision, $\\\\textrm{TTA}_0$, and condition.\"\n",
    "     )\n",
    ")"
   ],
   "metadata": {
    "collapsed": false,
    "pycharm": {
     "name": "#%%\n"
    }
   }
  },
  {
   "cell_type": "markdown",
   "source": [
    "# Post hocs"
   ],
   "metadata": {
    "collapsed": false,
    "pycharm": {
     "name": "#%% md\n"
    }
   }
  },
  {
   "cell_type": "code",
   "execution_count": 319,
   "outputs": [
    {
     "data": {
      "text/plain": "  decision  Estimate  2.5_ci  97.5_ci     SE      DF\n0     Stay     1.639   1.498    1.779  0.067  19.405\n1       Go     0.577   0.435    0.718  0.068  20.107",
      "text/html": "<div>\n<style scoped>\n    .dataframe tbody tr th:only-of-type {\n        vertical-align: middle;\n    }\n\n    .dataframe tbody tr th {\n        vertical-align: top;\n    }\n\n    .dataframe thead th {\n        text-align: right;\n    }\n</style>\n<table border=\"1\" class=\"dataframe\">\n  <thead>\n    <tr style=\"text-align: right;\">\n      <th></th>\n      <th>decision</th>\n      <th>Estimate</th>\n      <th>2.5_ci</th>\n      <th>97.5_ci</th>\n      <th>SE</th>\n      <th>DF</th>\n    </tr>\n  </thead>\n  <tbody>\n    <tr>\n      <th>0</th>\n      <td>Stay</td>\n      <td>1.639</td>\n      <td>1.498</td>\n      <td>1.779</td>\n      <td>0.067</td>\n      <td>19.405</td>\n    </tr>\n    <tr>\n      <th>1</th>\n      <td>Go</td>\n      <td>0.577</td>\n      <td>0.435</td>\n      <td>0.718</td>\n      <td>0.068</td>\n      <td>20.107</td>\n    </tr>\n  </tbody>\n</table>\n</div>"
     },
     "execution_count": 319,
     "metadata": {},
     "output_type": "execute_result"
    }
   ],
   "source": [
    "marginal_estimates, comparisons = model_RT.post_hoc(marginal_vars=[\"decision\"])\n",
    "# \"Cell\" means of the ANOVA\n",
    "marginal_estimates"
   ],
   "metadata": {
    "collapsed": false,
    "pycharm": {
     "name": "#%%\n"
    }
   }
  },
  {
   "cell_type": "code",
   "execution_count": 197,
   "outputs": [
    {
     "data": {
      "text/plain": "    Contrast  Estimate  2.5_ci  97.5_ci     SE        DF  T-stat  P-val  Sig\n0  Stay - Go     1.068   1.013    1.124  0.028  2963.701  37.832    0.0  ***",
      "text/html": "<div>\n<style scoped>\n    .dataframe tbody tr th:only-of-type {\n        vertical-align: middle;\n    }\n\n    .dataframe tbody tr th {\n        vertical-align: top;\n    }\n\n    .dataframe thead th {\n        text-align: right;\n    }\n</style>\n<table border=\"1\" class=\"dataframe\">\n  <thead>\n    <tr style=\"text-align: right;\">\n      <th></th>\n      <th>Contrast</th>\n      <th>Estimate</th>\n      <th>2.5_ci</th>\n      <th>97.5_ci</th>\n      <th>SE</th>\n      <th>DF</th>\n      <th>T-stat</th>\n      <th>P-val</th>\n      <th>Sig</th>\n    </tr>\n  </thead>\n  <tbody>\n    <tr>\n      <th>0</th>\n      <td>Stay - Go</td>\n      <td>1.068</td>\n      <td>1.013</td>\n      <td>1.124</td>\n      <td>0.028</td>\n      <td>2963.701</td>\n      <td>37.832</td>\n      <td>0.0</td>\n      <td>***</td>\n    </tr>\n  </tbody>\n</table>\n</div>"
     },
     "execution_count": 197,
     "metadata": {},
     "output_type": "execute_result"
    }
   ],
   "source": [
    "comparisons"
   ],
   "metadata": {
    "collapsed": false,
    "pycharm": {
     "name": "#%%\n"
    }
   }
  },
  {
   "cell_type": "code",
   "execution_count": 344,
   "outputs": [
    {
     "name": "stdout",
     "output_type": "stream",
     "text": [
      "P-values adjusted by tukey method for family of 10 estimates\n"
     ]
    },
    {
     "data": {
      "text/plain": "            condition decision  Estimate  2.5_ci  97.5_ci     SE      DF\n0      Constant speed     Stay     1.634   1.485    1.783  0.072  25.839\n1   Long acceleration     Stay     1.559   1.411    1.707  0.072  25.327\n2  Acceleration nudge     Stay     1.509   1.360    1.658  0.072  25.886\n3  Deceleration nudge     Stay     1.696   1.546    1.847  0.073  27.418\n4   Long deceleration     Stay     1.794   1.633    1.955  0.080  38.005\n5      Constant speed       Go     0.528   0.372    0.683  0.076  32.073\n6   Long acceleration       Go     0.484   0.320    0.648  0.081  40.762\n7  Acceleration nudge       Go     0.562   0.405    0.720  0.077  33.795\n8  Deceleration nudge       Go     0.523   0.371    0.676  0.074  28.968\n9   Long deceleration       Go     0.787   0.637    0.936  0.073  26.314",
      "text/html": "<div>\n<style scoped>\n    .dataframe tbody tr th:only-of-type {\n        vertical-align: middle;\n    }\n\n    .dataframe tbody tr th {\n        vertical-align: top;\n    }\n\n    .dataframe thead th {\n        text-align: right;\n    }\n</style>\n<table border=\"1\" class=\"dataframe\">\n  <thead>\n    <tr style=\"text-align: right;\">\n      <th></th>\n      <th>condition</th>\n      <th>decision</th>\n      <th>Estimate</th>\n      <th>2.5_ci</th>\n      <th>97.5_ci</th>\n      <th>SE</th>\n      <th>DF</th>\n    </tr>\n  </thead>\n  <tbody>\n    <tr>\n      <th>0</th>\n      <td>Constant speed</td>\n      <td>Stay</td>\n      <td>1.634</td>\n      <td>1.485</td>\n      <td>1.783</td>\n      <td>0.072</td>\n      <td>25.839</td>\n    </tr>\n    <tr>\n      <th>1</th>\n      <td>Long acceleration</td>\n      <td>Stay</td>\n      <td>1.559</td>\n      <td>1.411</td>\n      <td>1.707</td>\n      <td>0.072</td>\n      <td>25.327</td>\n    </tr>\n    <tr>\n      <th>2</th>\n      <td>Acceleration nudge</td>\n      <td>Stay</td>\n      <td>1.509</td>\n      <td>1.360</td>\n      <td>1.658</td>\n      <td>0.072</td>\n      <td>25.886</td>\n    </tr>\n    <tr>\n      <th>3</th>\n      <td>Deceleration nudge</td>\n      <td>Stay</td>\n      <td>1.696</td>\n      <td>1.546</td>\n      <td>1.847</td>\n      <td>0.073</td>\n      <td>27.418</td>\n    </tr>\n    <tr>\n      <th>4</th>\n      <td>Long deceleration</td>\n      <td>Stay</td>\n      <td>1.794</td>\n      <td>1.633</td>\n      <td>1.955</td>\n      <td>0.080</td>\n      <td>38.005</td>\n    </tr>\n    <tr>\n      <th>5</th>\n      <td>Constant speed</td>\n      <td>Go</td>\n      <td>0.528</td>\n      <td>0.372</td>\n      <td>0.683</td>\n      <td>0.076</td>\n      <td>32.073</td>\n    </tr>\n    <tr>\n      <th>6</th>\n      <td>Long acceleration</td>\n      <td>Go</td>\n      <td>0.484</td>\n      <td>0.320</td>\n      <td>0.648</td>\n      <td>0.081</td>\n      <td>40.762</td>\n    </tr>\n    <tr>\n      <th>7</th>\n      <td>Acceleration nudge</td>\n      <td>Go</td>\n      <td>0.562</td>\n      <td>0.405</td>\n      <td>0.720</td>\n      <td>0.077</td>\n      <td>33.795</td>\n    </tr>\n    <tr>\n      <th>8</th>\n      <td>Deceleration nudge</td>\n      <td>Go</td>\n      <td>0.523</td>\n      <td>0.371</td>\n      <td>0.676</td>\n      <td>0.074</td>\n      <td>28.968</td>\n    </tr>\n    <tr>\n      <th>9</th>\n      <td>Long deceleration</td>\n      <td>Go</td>\n      <td>0.787</td>\n      <td>0.637</td>\n      <td>0.936</td>\n      <td>0.073</td>\n      <td>26.314</td>\n    </tr>\n  </tbody>\n</table>\n</div>"
     },
     "execution_count": 344,
     "metadata": {},
     "output_type": "execute_result"
    }
   ],
   "source": [
    "marginal_estimates, comparisons = model_RT.post_hoc(marginal_vars=[\"condition\"], grouping_vars=[\"decision\"])\n",
    "# \"Cell\" means of the ANOVA\n",
    "marginal_estimates"
   ],
   "metadata": {
    "collapsed": false,
    "pycharm": {
     "name": "#%%\n"
    }
   }
  },
  {
   "cell_type": "code",
   "execution_count": 348,
   "outputs": [
    {
     "data": {
      "text/plain": "                                  Contrast decision  Estimate  2.5_ci  \\\n3       Constant speed - Long deceleration     Stay    -0.160  -0.309   \n6    Long acceleration - Long deceleration     Stay    -0.235  -0.383   \n8   Acceleration nudge - Long deceleration     Stay    -0.285  -0.435   \n9   Deceleration nudge - Long deceleration     Stay    -0.098  -0.249   \n13      Constant speed - Long deceleration       Go    -0.259  -0.396   \n16   Long acceleration - Long deceleration       Go    -0.303  -0.459   \n18  Acceleration nudge - Long deceleration       Go    -0.224  -0.366   \n19  Deceleration nudge - Long deceleration       Go    -0.263  -0.393   \n\n    97.5_ci     SE        DF  T-stat  P-val  Sig  \n3    -0.011  0.055  2978.218  -2.933  0.028    *  \n6    -0.086  0.054  2980.403  -4.314  0.000  ***  \n8    -0.135  0.055  2980.974  -5.184  0.000  ***  \n9     0.054  0.055  2974.938  -1.758  0.399       \n13   -0.122  0.050  2975.828  -5.154  0.000  ***  \n16   -0.146  0.057  2977.957  -5.275  0.000  ***  \n18   -0.083  0.052  2975.561  -4.322  0.000  ***  \n19   -0.133  0.047  2974.297  -5.539  0.000  ***  ",
      "text/html": "<div>\n<style scoped>\n    .dataframe tbody tr th:only-of-type {\n        vertical-align: middle;\n    }\n\n    .dataframe tbody tr th {\n        vertical-align: top;\n    }\n\n    .dataframe thead th {\n        text-align: right;\n    }\n</style>\n<table border=\"1\" class=\"dataframe\">\n  <thead>\n    <tr style=\"text-align: right;\">\n      <th></th>\n      <th>Contrast</th>\n      <th>decision</th>\n      <th>Estimate</th>\n      <th>2.5_ci</th>\n      <th>97.5_ci</th>\n      <th>SE</th>\n      <th>DF</th>\n      <th>T-stat</th>\n      <th>P-val</th>\n      <th>Sig</th>\n    </tr>\n  </thead>\n  <tbody>\n    <tr>\n      <th>3</th>\n      <td>Constant speed - Long deceleration</td>\n      <td>Stay</td>\n      <td>-0.160</td>\n      <td>-0.309</td>\n      <td>-0.011</td>\n      <td>0.055</td>\n      <td>2978.218</td>\n      <td>-2.933</td>\n      <td>0.028</td>\n      <td>*</td>\n    </tr>\n    <tr>\n      <th>6</th>\n      <td>Long acceleration - Long deceleration</td>\n      <td>Stay</td>\n      <td>-0.235</td>\n      <td>-0.383</td>\n      <td>-0.086</td>\n      <td>0.054</td>\n      <td>2980.403</td>\n      <td>-4.314</td>\n      <td>0.000</td>\n      <td>***</td>\n    </tr>\n    <tr>\n      <th>8</th>\n      <td>Acceleration nudge - Long deceleration</td>\n      <td>Stay</td>\n      <td>-0.285</td>\n      <td>-0.435</td>\n      <td>-0.135</td>\n      <td>0.055</td>\n      <td>2980.974</td>\n      <td>-5.184</td>\n      <td>0.000</td>\n      <td>***</td>\n    </tr>\n    <tr>\n      <th>9</th>\n      <td>Deceleration nudge - Long deceleration</td>\n      <td>Stay</td>\n      <td>-0.098</td>\n      <td>-0.249</td>\n      <td>0.054</td>\n      <td>0.055</td>\n      <td>2974.938</td>\n      <td>-1.758</td>\n      <td>0.399</td>\n      <td></td>\n    </tr>\n    <tr>\n      <th>13</th>\n      <td>Constant speed - Long deceleration</td>\n      <td>Go</td>\n      <td>-0.259</td>\n      <td>-0.396</td>\n      <td>-0.122</td>\n      <td>0.050</td>\n      <td>2975.828</td>\n      <td>-5.154</td>\n      <td>0.000</td>\n      <td>***</td>\n    </tr>\n    <tr>\n      <th>16</th>\n      <td>Long acceleration - Long deceleration</td>\n      <td>Go</td>\n      <td>-0.303</td>\n      <td>-0.459</td>\n      <td>-0.146</td>\n      <td>0.057</td>\n      <td>2977.957</td>\n      <td>-5.275</td>\n      <td>0.000</td>\n      <td>***</td>\n    </tr>\n    <tr>\n      <th>18</th>\n      <td>Acceleration nudge - Long deceleration</td>\n      <td>Go</td>\n      <td>-0.224</td>\n      <td>-0.366</td>\n      <td>-0.083</td>\n      <td>0.052</td>\n      <td>2975.561</td>\n      <td>-4.322</td>\n      <td>0.000</td>\n      <td>***</td>\n    </tr>\n    <tr>\n      <th>19</th>\n      <td>Deceleration nudge - Long deceleration</td>\n      <td>Go</td>\n      <td>-0.263</td>\n      <td>-0.393</td>\n      <td>-0.133</td>\n      <td>0.047</td>\n      <td>2974.297</td>\n      <td>-5.539</td>\n      <td>0.000</td>\n      <td>***</td>\n    </tr>\n  </tbody>\n</table>\n</div>"
     },
     "execution_count": 348,
     "metadata": {},
     "output_type": "execute_result"
    }
   ],
   "source": [
    "comparisons[comparisons.Contrast.str.contains(\"Long deceleration\")]"
   ],
   "metadata": {
    "collapsed": false,
    "pycharm": {
     "name": "#%%\n"
    }
   }
  },
  {
   "cell_type": "code",
   "execution_count": 347,
   "outputs": [
    {
     "data": {
      "text/plain": "                                   Contrast decision  Estimate  2.5_ci  \\\n1       Constant speed - Acceleration nudge     Stay     0.125   0.007   \n4    Long acceleration - Acceleration nudge     Stay     0.051  -0.066   \n7   Acceleration nudge - Deceleration nudge     Stay    -0.188  -0.311   \n8    Acceleration nudge - Long deceleration     Stay    -0.285  -0.435   \n11      Constant speed - Acceleration nudge       Go    -0.035  -0.188   \n14   Long acceleration - Acceleration nudge       Go    -0.079  -0.249   \n17  Acceleration nudge - Deceleration nudge       Go     0.039  -0.108   \n18   Acceleration nudge - Long deceleration       Go    -0.224  -0.366   \n\n    97.5_ci     SE        DF  T-stat  P-val  Sig  \n1     0.243  0.043  2974.144   2.884  0.032    *  \n4     0.167  0.043  2973.373   1.180  0.763       \n7    -0.064  0.045  2978.270  -4.149  0.000  ***  \n8    -0.135  0.055  2980.974  -5.184  0.000  ***  \n11    0.118  0.056  2973.159  -0.618  0.972       \n14    0.092  0.062  2974.195  -1.258  0.717       \n17    0.186  0.054  2973.776   0.720  0.952       \n18   -0.083  0.052  2975.561  -4.322  0.000  ***  ",
      "text/html": "<div>\n<style scoped>\n    .dataframe tbody tr th:only-of-type {\n        vertical-align: middle;\n    }\n\n    .dataframe tbody tr th {\n        vertical-align: top;\n    }\n\n    .dataframe thead th {\n        text-align: right;\n    }\n</style>\n<table border=\"1\" class=\"dataframe\">\n  <thead>\n    <tr style=\"text-align: right;\">\n      <th></th>\n      <th>Contrast</th>\n      <th>decision</th>\n      <th>Estimate</th>\n      <th>2.5_ci</th>\n      <th>97.5_ci</th>\n      <th>SE</th>\n      <th>DF</th>\n      <th>T-stat</th>\n      <th>P-val</th>\n      <th>Sig</th>\n    </tr>\n  </thead>\n  <tbody>\n    <tr>\n      <th>1</th>\n      <td>Constant speed - Acceleration nudge</td>\n      <td>Stay</td>\n      <td>0.125</td>\n      <td>0.007</td>\n      <td>0.243</td>\n      <td>0.043</td>\n      <td>2974.144</td>\n      <td>2.884</td>\n      <td>0.032</td>\n      <td>*</td>\n    </tr>\n    <tr>\n      <th>4</th>\n      <td>Long acceleration - Acceleration nudge</td>\n      <td>Stay</td>\n      <td>0.051</td>\n      <td>-0.066</td>\n      <td>0.167</td>\n      <td>0.043</td>\n      <td>2973.373</td>\n      <td>1.180</td>\n      <td>0.763</td>\n      <td></td>\n    </tr>\n    <tr>\n      <th>7</th>\n      <td>Acceleration nudge - Deceleration nudge</td>\n      <td>Stay</td>\n      <td>-0.188</td>\n      <td>-0.311</td>\n      <td>-0.064</td>\n      <td>0.045</td>\n      <td>2978.270</td>\n      <td>-4.149</td>\n      <td>0.000</td>\n      <td>***</td>\n    </tr>\n    <tr>\n      <th>8</th>\n      <td>Acceleration nudge - Long deceleration</td>\n      <td>Stay</td>\n      <td>-0.285</td>\n      <td>-0.435</td>\n      <td>-0.135</td>\n      <td>0.055</td>\n      <td>2980.974</td>\n      <td>-5.184</td>\n      <td>0.000</td>\n      <td>***</td>\n    </tr>\n    <tr>\n      <th>11</th>\n      <td>Constant speed - Acceleration nudge</td>\n      <td>Go</td>\n      <td>-0.035</td>\n      <td>-0.188</td>\n      <td>0.118</td>\n      <td>0.056</td>\n      <td>2973.159</td>\n      <td>-0.618</td>\n      <td>0.972</td>\n      <td></td>\n    </tr>\n    <tr>\n      <th>14</th>\n      <td>Long acceleration - Acceleration nudge</td>\n      <td>Go</td>\n      <td>-0.079</td>\n      <td>-0.249</td>\n      <td>0.092</td>\n      <td>0.062</td>\n      <td>2974.195</td>\n      <td>-1.258</td>\n      <td>0.717</td>\n      <td></td>\n    </tr>\n    <tr>\n      <th>17</th>\n      <td>Acceleration nudge - Deceleration nudge</td>\n      <td>Go</td>\n      <td>0.039</td>\n      <td>-0.108</td>\n      <td>0.186</td>\n      <td>0.054</td>\n      <td>2973.776</td>\n      <td>0.720</td>\n      <td>0.952</td>\n      <td></td>\n    </tr>\n    <tr>\n      <th>18</th>\n      <td>Acceleration nudge - Long deceleration</td>\n      <td>Go</td>\n      <td>-0.224</td>\n      <td>-0.366</td>\n      <td>-0.083</td>\n      <td>0.052</td>\n      <td>2975.561</td>\n      <td>-4.322</td>\n      <td>0.000</td>\n      <td>***</td>\n    </tr>\n  </tbody>\n</table>\n</div>"
     },
     "execution_count": 347,
     "metadata": {},
     "output_type": "execute_result"
    }
   ],
   "source": [
    "comparisons[comparisons.Contrast.str.contains(\"Acceleration nudge\")]"
   ],
   "metadata": {
    "collapsed": false,
    "pycharm": {
     "name": "#%%\n"
    }
   }
  },
  {
   "cell_type": "code",
   "execution_count": 346,
   "outputs": [
    {
     "data": {
      "text/plain": "                                   Contrast decision  Estimate  2.5_ci  \\\n2       Constant speed - Deceleration nudge     Stay    -0.063  -0.185   \n5    Long acceleration - Deceleration nudge     Stay    -0.137  -0.258   \n7   Acceleration nudge - Deceleration nudge     Stay    -0.188  -0.311   \n9    Deceleration nudge - Long deceleration     Stay    -0.098  -0.249   \n12      Constant speed - Deceleration nudge       Go     0.004  -0.139   \n15   Long acceleration - Deceleration nudge       Go    -0.040  -0.201   \n17  Acceleration nudge - Deceleration nudge       Go     0.039  -0.108   \n19   Deceleration nudge - Long deceleration       Go    -0.263  -0.393   \n\n    97.5_ci     SE        DF  T-stat  P-val  Sig  \n2     0.060  0.045  2975.095  -1.396  0.630       \n5    -0.016  0.044  2977.830  -3.081  0.018    *  \n7    -0.064  0.045  2978.270  -4.149  0.000  ***  \n9     0.054  0.055  2974.938  -1.758  0.399       \n12    0.147  0.052  2974.058   0.080  1.000       \n15    0.122  0.059  2975.242  -0.672  0.963       \n17    0.186  0.054  2973.776   0.720  0.952       \n19   -0.133  0.047  2974.297  -5.539  0.000  ***  ",
      "text/html": "<div>\n<style scoped>\n    .dataframe tbody tr th:only-of-type {\n        vertical-align: middle;\n    }\n\n    .dataframe tbody tr th {\n        vertical-align: top;\n    }\n\n    .dataframe thead th {\n        text-align: right;\n    }\n</style>\n<table border=\"1\" class=\"dataframe\">\n  <thead>\n    <tr style=\"text-align: right;\">\n      <th></th>\n      <th>Contrast</th>\n      <th>decision</th>\n      <th>Estimate</th>\n      <th>2.5_ci</th>\n      <th>97.5_ci</th>\n      <th>SE</th>\n      <th>DF</th>\n      <th>T-stat</th>\n      <th>P-val</th>\n      <th>Sig</th>\n    </tr>\n  </thead>\n  <tbody>\n    <tr>\n      <th>2</th>\n      <td>Constant speed - Deceleration nudge</td>\n      <td>Stay</td>\n      <td>-0.063</td>\n      <td>-0.185</td>\n      <td>0.060</td>\n      <td>0.045</td>\n      <td>2975.095</td>\n      <td>-1.396</td>\n      <td>0.630</td>\n      <td></td>\n    </tr>\n    <tr>\n      <th>5</th>\n      <td>Long acceleration - Deceleration nudge</td>\n      <td>Stay</td>\n      <td>-0.137</td>\n      <td>-0.258</td>\n      <td>-0.016</td>\n      <td>0.044</td>\n      <td>2977.830</td>\n      <td>-3.081</td>\n      <td>0.018</td>\n      <td>*</td>\n    </tr>\n    <tr>\n      <th>7</th>\n      <td>Acceleration nudge - Deceleration nudge</td>\n      <td>Stay</td>\n      <td>-0.188</td>\n      <td>-0.311</td>\n      <td>-0.064</td>\n      <td>0.045</td>\n      <td>2978.270</td>\n      <td>-4.149</td>\n      <td>0.000</td>\n      <td>***</td>\n    </tr>\n    <tr>\n      <th>9</th>\n      <td>Deceleration nudge - Long deceleration</td>\n      <td>Stay</td>\n      <td>-0.098</td>\n      <td>-0.249</td>\n      <td>0.054</td>\n      <td>0.055</td>\n      <td>2974.938</td>\n      <td>-1.758</td>\n      <td>0.399</td>\n      <td></td>\n    </tr>\n    <tr>\n      <th>12</th>\n      <td>Constant speed - Deceleration nudge</td>\n      <td>Go</td>\n      <td>0.004</td>\n      <td>-0.139</td>\n      <td>0.147</td>\n      <td>0.052</td>\n      <td>2974.058</td>\n      <td>0.080</td>\n      <td>1.000</td>\n      <td></td>\n    </tr>\n    <tr>\n      <th>15</th>\n      <td>Long acceleration - Deceleration nudge</td>\n      <td>Go</td>\n      <td>-0.040</td>\n      <td>-0.201</td>\n      <td>0.122</td>\n      <td>0.059</td>\n      <td>2975.242</td>\n      <td>-0.672</td>\n      <td>0.963</td>\n      <td></td>\n    </tr>\n    <tr>\n      <th>17</th>\n      <td>Acceleration nudge - Deceleration nudge</td>\n      <td>Go</td>\n      <td>0.039</td>\n      <td>-0.108</td>\n      <td>0.186</td>\n      <td>0.054</td>\n      <td>2973.776</td>\n      <td>0.720</td>\n      <td>0.952</td>\n      <td></td>\n    </tr>\n    <tr>\n      <th>19</th>\n      <td>Deceleration nudge - Long deceleration</td>\n      <td>Go</td>\n      <td>-0.263</td>\n      <td>-0.393</td>\n      <td>-0.133</td>\n      <td>0.047</td>\n      <td>2974.297</td>\n      <td>-5.539</td>\n      <td>0.000</td>\n      <td>***</td>\n    </tr>\n  </tbody>\n</table>\n</div>"
     },
     "execution_count": 346,
     "metadata": {},
     "output_type": "execute_result"
    }
   ],
   "source": [
    "comparisons[comparisons.Contrast.str.contains(\"Deceleration nudge\")]"
   ],
   "metadata": {
    "collapsed": false,
    "pycharm": {
     "name": "#%%\n"
    }
   }
  },
  {
   "cell_type": "markdown",
   "source": [
    "# Negative rating"
   ],
   "metadata": {
    "collapsed": false
   }
  },
  {
   "cell_type": "code",
   "execution_count": 372,
   "outputs": [
    {
     "name": "stderr",
     "output_type": "stream",
     "text": [
      "D:\\source\\cognitive-av\\venv\\lib\\site-packages\\rpy2\\robjects\\pandas2ri.py:55: FutureWarning: iteritems is deprecated and will be removed in a future version. Use .items instead.\n",
      "  for name, values in obj.iteritems():\n"
     ]
    },
    {
     "name": "stdout",
     "output_type": "stream",
     "text": [
      "Formula: is_negative_rating~tta_0+decision+condition+(1|subj_id)\n",
      "\n",
      "Family: binomial\t Inference: parametric\n",
      "\n",
      "Number of observations: 3800\t Groups: {'subj_id': 19.0}\n",
      "\n",
      "Log-likelihood: -590.305 \t AIC: 1196.610\n",
      "\n",
      "Random effects:\n",
      "\n",
      "                Name    Var    Std\n",
      "subj_id  (Intercept)  1.302  1.141\n",
      "\n",
      "No random effect correlations specified\n",
      "\n",
      "Fixed effects:\n",
      "\n"
     ]
    }
   ],
   "source": [
    "model_rating = pymer4.models.Lmer(\"is_negative_rating ~ tta_0 + decision + condition +  (1 | subj_id)\", data=exp_measures, family=\"binomial\")\n",
    "# model_rating = pymer4.models.Lmer(\"is_negative_rating ~ decision + condition + (1 | subj_id) \", data=exp_measures, family=\"binomial\")\n",
    "model_rating_fit = model_rating.fit(factors={\"condition\": [\"Constant speed\", \"Long acceleration\", \"Acceleration nudge\", \"Deceleration nudge\", \"Long deceleration\"], \"decision\": [\"Stay\", \"Go\"]}, summarize=True)"
   ],
   "metadata": {
    "collapsed": false,
    "pycharm": {
     "name": "#%%\n"
    }
   }
  },
  {
   "cell_type": "code",
   "execution_count": 373,
   "outputs": [],
   "source": [
    "df = model_rating.coefs.loc[:, [\"Estimate\", \"SE\", \"Z-stat\", \"P-val\"]]\n",
    "\n",
    "p_func = lambda p: \"{:.2f}\".format(p) if p>0.001 else \"$<0.001$\"\n",
    "\n",
    "df[\"P-val\"] = df[\"P-val\"].apply(p_func)\n",
    "\n",
    "styler = df.rename(columns=column_names, index=var_names).style.format(precision=2)\n",
    "\n",
    "with open('figures/tab_rating.tex', 'w') as tf:\n",
    "     tf.write(styler.to_latex(\n",
    "         column_format=\"rrrrrr\", position=\"h\", position_float=\"centering\",\n",
    "         hrules=True, label=\"tab:rating\", caption=\"Coefficients of the mixed-effects logistic regression describing occurrence of the negative rating as a function of $\\\\textrm{TTA}_0$ and condition (with Constant speed as the reference category). Participant ID was included as a random intercept.\"\n",
    "     )\n",
    ")"
   ],
   "metadata": {
    "collapsed": false,
    "pycharm": {
     "name": "#%%\n"
    }
   }
  },
  {
   "cell_type": "code",
   "execution_count": 376,
   "outputs": [
    {
     "name": "stdout",
     "output_type": "stream",
     "text": [
      "P-values adjusted by tukey method for family of 10 estimates\n"
     ]
    },
    {
     "data": {
      "text/plain": "            condition  Estimate  2.5_ci  97.5_ci     SE   DF\n0      Constant speed    -5.101  -5.879   -4.323  0.397  inf\n1   Long acceleration    -5.161  -5.929   -4.393  0.392  inf\n2  Acceleration nudge    -4.583  -5.293   -3.873  0.362  inf\n3  Deceleration nudge    -4.310  -5.004   -3.617  0.354  inf\n4   Long deceleration    -1.730  -2.303   -1.157  0.292  inf",
      "text/html": "<div>\n<style scoped>\n    .dataframe tbody tr th:only-of-type {\n        vertical-align: middle;\n    }\n\n    .dataframe tbody tr th {\n        vertical-align: top;\n    }\n\n    .dataframe thead th {\n        text-align: right;\n    }\n</style>\n<table border=\"1\" class=\"dataframe\">\n  <thead>\n    <tr style=\"text-align: right;\">\n      <th></th>\n      <th>condition</th>\n      <th>Estimate</th>\n      <th>2.5_ci</th>\n      <th>97.5_ci</th>\n      <th>SE</th>\n      <th>DF</th>\n    </tr>\n  </thead>\n  <tbody>\n    <tr>\n      <th>0</th>\n      <td>Constant speed</td>\n      <td>-5.101</td>\n      <td>-5.879</td>\n      <td>-4.323</td>\n      <td>0.397</td>\n      <td>inf</td>\n    </tr>\n    <tr>\n      <th>1</th>\n      <td>Long acceleration</td>\n      <td>-5.161</td>\n      <td>-5.929</td>\n      <td>-4.393</td>\n      <td>0.392</td>\n      <td>inf</td>\n    </tr>\n    <tr>\n      <th>2</th>\n      <td>Acceleration nudge</td>\n      <td>-4.583</td>\n      <td>-5.293</td>\n      <td>-3.873</td>\n      <td>0.362</td>\n      <td>inf</td>\n    </tr>\n    <tr>\n      <th>3</th>\n      <td>Deceleration nudge</td>\n      <td>-4.310</td>\n      <td>-5.004</td>\n      <td>-3.617</td>\n      <td>0.354</td>\n      <td>inf</td>\n    </tr>\n    <tr>\n      <th>4</th>\n      <td>Long deceleration</td>\n      <td>-1.730</td>\n      <td>-2.303</td>\n      <td>-1.157</td>\n      <td>0.292</td>\n      <td>inf</td>\n    </tr>\n  </tbody>\n</table>\n</div>"
     },
     "execution_count": 376,
     "metadata": {},
     "output_type": "execute_result"
    }
   ],
   "source": [
    "marginal_estimates, comparisons = model_rating.post_hoc(marginal_vars=[\"condition\"])\n",
    "# \"Cell\" means of the ANOVA\n",
    "marginal_estimates"
   ],
   "metadata": {
    "collapsed": false,
    "pycharm": {
     "name": "#%%\n"
    }
   }
  },
  {
   "cell_type": "code",
   "execution_count": 363,
   "outputs": [
    {
     "data": {
      "text/plain": "                                  Contrast  Estimate  2.5_ci  97.5_ci     SE  \\\n0       Constant speed - Long acceleration     0.060  -0.946    1.066  0.369   \n1      Constant speed - Acceleration nudge    -0.517  -1.446    0.411  0.340   \n2      Constant speed - Deceleration nudge    -0.790  -1.694    0.113  0.331   \n3       Constant speed - Long deceleration    -3.371  -4.194   -2.547  0.302   \n4   Long acceleration - Acceleration nudge    -0.578  -1.487    0.332  0.333   \n5   Long acceleration - Deceleration nudge    -0.851  -1.735    0.034  0.324   \n6    Long acceleration - Long deceleration    -3.431  -4.238   -2.624  0.296   \n7  Acceleration nudge - Deceleration nudge    -0.273  -1.068    0.522  0.292   \n8   Acceleration nudge - Long deceleration    -2.853  -3.551   -2.155  0.256   \n9   Deceleration nudge - Long deceleration    -2.580  -3.242   -1.919  0.242   \n\n    DF  Z-stat  P-val  Sig  \n0  inf   0.163  1.000       \n1  inf  -1.520  0.549       \n2  inf  -2.387  0.119       \n3  inf -11.163  0.000  ***  \n4  inf  -1.732  0.414       \n5  inf  -2.623  0.066    .  \n6  inf -11.599  0.000  ***  \n7  inf  -0.937  0.883       \n8  inf -11.150  0.000  ***  \n9  inf -10.641  0.000  ***  ",
      "text/html": "<div>\n<style scoped>\n    .dataframe tbody tr th:only-of-type {\n        vertical-align: middle;\n    }\n\n    .dataframe tbody tr th {\n        vertical-align: top;\n    }\n\n    .dataframe thead th {\n        text-align: right;\n    }\n</style>\n<table border=\"1\" class=\"dataframe\">\n  <thead>\n    <tr style=\"text-align: right;\">\n      <th></th>\n      <th>Contrast</th>\n      <th>Estimate</th>\n      <th>2.5_ci</th>\n      <th>97.5_ci</th>\n      <th>SE</th>\n      <th>DF</th>\n      <th>Z-stat</th>\n      <th>P-val</th>\n      <th>Sig</th>\n    </tr>\n  </thead>\n  <tbody>\n    <tr>\n      <th>0</th>\n      <td>Constant speed - Long acceleration</td>\n      <td>0.060</td>\n      <td>-0.946</td>\n      <td>1.066</td>\n      <td>0.369</td>\n      <td>inf</td>\n      <td>0.163</td>\n      <td>1.000</td>\n      <td></td>\n    </tr>\n    <tr>\n      <th>1</th>\n      <td>Constant speed - Acceleration nudge</td>\n      <td>-0.517</td>\n      <td>-1.446</td>\n      <td>0.411</td>\n      <td>0.340</td>\n      <td>inf</td>\n      <td>-1.520</td>\n      <td>0.549</td>\n      <td></td>\n    </tr>\n    <tr>\n      <th>2</th>\n      <td>Constant speed - Deceleration nudge</td>\n      <td>-0.790</td>\n      <td>-1.694</td>\n      <td>0.113</td>\n      <td>0.331</td>\n      <td>inf</td>\n      <td>-2.387</td>\n      <td>0.119</td>\n      <td></td>\n    </tr>\n    <tr>\n      <th>3</th>\n      <td>Constant speed - Long deceleration</td>\n      <td>-3.371</td>\n      <td>-4.194</td>\n      <td>-2.547</td>\n      <td>0.302</td>\n      <td>inf</td>\n      <td>-11.163</td>\n      <td>0.000</td>\n      <td>***</td>\n    </tr>\n    <tr>\n      <th>4</th>\n      <td>Long acceleration - Acceleration nudge</td>\n      <td>-0.578</td>\n      <td>-1.487</td>\n      <td>0.332</td>\n      <td>0.333</td>\n      <td>inf</td>\n      <td>-1.732</td>\n      <td>0.414</td>\n      <td></td>\n    </tr>\n    <tr>\n      <th>5</th>\n      <td>Long acceleration - Deceleration nudge</td>\n      <td>-0.851</td>\n      <td>-1.735</td>\n      <td>0.034</td>\n      <td>0.324</td>\n      <td>inf</td>\n      <td>-2.623</td>\n      <td>0.066</td>\n      <td>.</td>\n    </tr>\n    <tr>\n      <th>6</th>\n      <td>Long acceleration - Long deceleration</td>\n      <td>-3.431</td>\n      <td>-4.238</td>\n      <td>-2.624</td>\n      <td>0.296</td>\n      <td>inf</td>\n      <td>-11.599</td>\n      <td>0.000</td>\n      <td>***</td>\n    </tr>\n    <tr>\n      <th>7</th>\n      <td>Acceleration nudge - Deceleration nudge</td>\n      <td>-0.273</td>\n      <td>-1.068</td>\n      <td>0.522</td>\n      <td>0.292</td>\n      <td>inf</td>\n      <td>-0.937</td>\n      <td>0.883</td>\n      <td></td>\n    </tr>\n    <tr>\n      <th>8</th>\n      <td>Acceleration nudge - Long deceleration</td>\n      <td>-2.853</td>\n      <td>-3.551</td>\n      <td>-2.155</td>\n      <td>0.256</td>\n      <td>inf</td>\n      <td>-11.150</td>\n      <td>0.000</td>\n      <td>***</td>\n    </tr>\n    <tr>\n      <th>9</th>\n      <td>Deceleration nudge - Long deceleration</td>\n      <td>-2.580</td>\n      <td>-3.242</td>\n      <td>-1.919</td>\n      <td>0.242</td>\n      <td>inf</td>\n      <td>-10.641</td>\n      <td>0.000</td>\n      <td>***</td>\n    </tr>\n  </tbody>\n</table>\n</div>"
     },
     "execution_count": 363,
     "metadata": {},
     "output_type": "execute_result"
    }
   ],
   "source": [
    "comparisons"
   ],
   "metadata": {
    "collapsed": false,
    "pycharm": {
     "name": "#%%\n"
    }
   }
  }
 ],
 "metadata": {
  "kernelspec": {
   "display_name": "Python 3",
   "language": "python",
   "name": "python3"
  },
  "language_info": {
   "codemirror_mode": {
    "name": "ipython",
    "version": 2
   },
   "file_extension": ".py",
   "mimetype": "text/x-python",
   "name": "python",
   "nbconvert_exporter": "python",
   "pygments_lexer": "ipython2",
   "version": "2.7.6"
  }
 },
 "nbformat": 4,
 "nbformat_minor": 0
}