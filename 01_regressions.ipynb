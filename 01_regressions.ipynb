{
 "cells": [
  {
   "cell_type": "code",
   "execution_count": 240,
   "metadata": {
    "collapsed": true
   },
   "outputs": [],
   "source": [
    "import numpy as np\n",
    "import pandas as pd\n",
    "import utils\n",
    "from pymer4.models import Lmer, Lm\n",
    "import ast"
   ]
  },
  {
   "cell_type": "code",
   "execution_count": 241,
   "outputs": [],
   "source": [
    "data = pd.read_csv(\"data/measures.csv\")\n",
    "\n",
    "condition_map = utils.get_nudge_condition_map()\n",
    "data[\"condition\"] = pd.Categorical(data[\"a_values\"].map(condition_map), categories=condition_map.values(), ordered=True)\n",
    "data[\"condition_coded\"] = data[\"condition\"].cat.codes"
   ],
   "metadata": {
    "collapsed": false,
    "pycharm": {
     "name": "#%%\n"
    }
   }
  },
  {
   "cell_type": "code",
   "execution_count": 242,
   "outputs": [],
   "source": [
    "column_names = {\"Estimate\": \"$b$\", \"Z-stat\": \"$z$\", \"P-val\": \"$p$\", \"T-stat\": \"$t$\", \"2.5_ci\": \"CI 2.5\\%\", \"97.5_ci\": \"CI 97.5\\%\"}\n",
    "var_names = {\"tta_0\": \"$\\\\textrm{TTA}_0$\", \"condition_coded\": \"condition\", \"tta_0:condition_coded\": \"$\\\\textrm{TTA}_0$:condition\",\n",
    "             \"decisionStay:tta_0\": \"decision Stay:$\\\\textrm{TTA}_0$\", \"decisionStay:condition_coded\": \"decision Stay:condition\"}"
   ],
   "metadata": {
    "collapsed": false,
    "pycharm": {
     "name": "#%%\n"
    }
   }
  },
  {
   "cell_type": "markdown",
   "source": [
    "# Decision"
   ],
   "metadata": {
    "collapsed": false,
    "pycharm": {
     "name": "#%% md\n"
    }
   }
  },
  {
   "cell_type": "code",
   "execution_count": 236,
   "outputs": [
    {
     "name": "stderr",
     "output_type": "stream",
     "text": [
      "D:\\source\\cognitive-av\\venv\\lib\\site-packages\\rpy2\\robjects\\pandas2ri.py:55: FutureWarning: iteritems is deprecated and will be removed in a future version. Use .items instead.\n",
      "  for name, values in obj.iteritems():\n"
     ]
    },
    {
     "name": "stdout",
     "output_type": "stream",
     "text": [
      "Formula: is_go_decision~tta_0+condition_coded+(1|subj_id)\n",
      "\n",
      "Family: binomial\t Inference: parametric\n",
      "\n",
      "Number of observations: 2800\t Groups: {'subj_id': 14.0}\n",
      "\n",
      "Log-likelihood: -1307.765 \t AIC: 2623.531\n",
      "\n",
      "Random effects:\n",
      "\n",
      "                Name   Var    Std\n",
      "subj_id  (Intercept)  2.41  1.552\n",
      "\n",
      "No random effect correlations specified\n",
      "\n",
      "Fixed effects:\n",
      "\n",
      "                 Estimate     2.5_ci   97.5_ci        SE        OR  OR_2.5_ci  \\\n",
      "(Intercept)     -9.909279 -11.268453 -8.550106  0.693469  0.000050   0.000013   \n",
      "tta_0            1.816345   1.605998  2.026692  0.107322  6.149342   4.982831   \n",
      "condition_coded  0.505252   0.432648  0.577855  0.037043  1.657403   1.541333   \n",
      "\n",
      "                 OR_97.5_ci      Prob  Prob_2.5_ci  Prob_97.5_ci     Z-stat  \\\n",
      "(Intercept)        0.000194  0.000050     0.000013      0.000193 -14.289440   \n",
      "tta_0              7.588941  0.860127     0.832855      0.883571  16.924280   \n",
      "condition_coded    1.782212  0.623693     0.606506      0.640574  13.639449   \n",
      "\n",
      "                        P-val  Sig  \n",
      "(Intercept)      2.546503e-46  ***  \n",
      "tta_0            2.979709e-64  ***  \n",
      "condition_coded  2.333164e-42  ***  \n"
     ]
    }
   ],
   "source": [
    "model_is_go_decision = Lmer(\"is_go_decision ~ tta_0+condition_coded + (1 | subj_id) \", data=data, family=\"binomial\")\n",
    "model_is_go_decision_fit = model_is_go_decision.fit()\n",
    "print(model_is_go_decision.coefs)"
   ],
   "metadata": {
    "collapsed": false,
    "pycharm": {
     "name": "#%%\n"
    }
   }
  },
  {
   "cell_type": "code",
   "execution_count": 213,
   "outputs": [],
   "source": [
    "df = model_is_go_decision.coefs.loc[:, [\"Estimate\", \"2.5_ci\", \"97.5_ci\", \"Z-stat\", \"P-val\"]]\n",
    "\n",
    "styler = df.rename(columns=column_names, index=var_names).style.format(precision=2)\n",
    "\n",
    "with open('figures/tab_decision.tex', 'w') as tf:\n",
    "     tf.write(styler.to_latex(\n",
    "         column_format=\"rrrrrr\", position=\"h\", position_float=\"centering\",\n",
    "         hrules=True, label=\"tab:decision\", caption=\"Coefficients of the logistic regression describing the final decision\"\n",
    "     )\n",
    ")"
   ],
   "metadata": {
    "collapsed": false,
    "pycharm": {
     "name": "#%%\n"
    }
   }
  },
  {
   "cell_type": "markdown",
   "source": [
    "# Response time"
   ],
   "metadata": {
    "collapsed": false,
    "pycharm": {
     "name": "#%% md\n"
    }
   }
  },
  {
   "cell_type": "code",
   "execution_count": 215,
   "outputs": [
    {
     "name": "stderr",
     "output_type": "stream",
     "text": [
      "D:\\source\\cognitive-av\\venv\\lib\\site-packages\\rpy2\\robjects\\pandas2ri.py:55: FutureWarning: iteritems is deprecated and will be removed in a future version. Use .items instead.\n",
      "  for name, values in obj.iteritems():\n"
     ]
    },
    {
     "name": "stdout",
     "output_type": "stream",
     "text": [
      "**NOTE**: Column for 'residuals' not created in model.data, but saved in model.resid only. This is because you have rows with NaNs in your data.\n",
      "\n",
      "**NOTE** Column for 'fits' not created in model.data, but saved in model.fits only. This is because you have rows with NaNs in your data.\n",
      "\n",
      "Formula: RT~decision+tta_0+condition_coded+tta_0:decision+condition_coded:decision+(1|subj_id)\n",
      "\n",
      "Family: gaussian\t Inference: parametric\n",
      "\n",
      "Number of observations: 2700\t Groups: {'subj_id': 14.0}\n",
      "\n",
      "Log-likelihood: -2248.742 \t AIC: 4497.484\n",
      "\n",
      "Random effects:\n",
      "\n",
      "                 Name    Var    Std\n",
      "subj_id   (Intercept)  0.063  0.251\n",
      "Residual               0.345  0.587\n",
      "\n",
      "No random effect correlations specified\n",
      "\n",
      "Fixed effects:\n",
      "\n",
      "                              Estimate    2.5_ci   97.5_ci    T-stat  \\\n",
      "(Intercept)                  -0.769750 -1.220119 -0.319381 -3.349879   \n",
      "decisionStay                  1.540577  1.014194  2.066959  5.736273   \n",
      "tta_0                         0.228416  0.147529  0.309304  5.534708   \n",
      "condition_coded               0.113663  0.087015  0.140311  8.359932   \n",
      "decisionStay:tta_0           -0.092517 -0.193508  0.008473 -1.795523   \n",
      "decisionStay:condition_coded -0.055905 -0.090336 -0.021474 -3.182348   \n",
      "\n",
      "                                     P-val  \n",
      "(Intercept)                   8.370232e-04  \n",
      "decisionStay                  1.085557e-08  \n",
      "tta_0                         3.445119e-08  \n",
      "condition_coded               1.032060e-16  \n",
      "decisionStay:tta_0            7.269237e-02  \n",
      "decisionStay:condition_coded  1.478960e-03  \n"
     ]
    }
   ],
   "source": [
    "model_RT = Lmer(\"RT ~ decision + tta_0 + condition_coded + tta_0:decision + condition_coded:decision + (1 | subj_id) \", data=data, family=\"gaussian\")\n",
    "model_RT_fit = model_RT.fit()\n",
    "\n",
    "df = model_RT.coefs.loc[:, [\"Estimate\", \"2.5_ci\", \"97.5_ci\", \"T-stat\", \"P-val\"]]\n",
    "\n",
    "print(df)"
   ],
   "metadata": {
    "collapsed": false,
    "pycharm": {
     "name": "#%%\n"
    }
   }
  },
  {
   "cell_type": "code",
   "execution_count": 216,
   "outputs": [],
   "source": [
    "styler = df.rename(columns=column_names, index=var_names).style.format(precision=2)\n",
    "\n",
    "with open('figures/tab_RT.tex', 'w') as tf:\n",
    "     tf.write(styler.to_latex(\n",
    "         column_format=\"rrrrrr\", position=\"h\", position_float=\"centering\",\n",
    "         hrules=True, label=\"tab:RT\", caption=\"Coefficients of the multilevel linear regression describing the response time\"\n",
    "     )\n",
    ")"
   ],
   "metadata": {
    "collapsed": false,
    "pycharm": {
     "name": "#%%\n"
    }
   }
  },
  {
   "cell_type": "markdown",
   "source": [
    "# Negative rating"
   ],
   "metadata": {
    "collapsed": false,
    "pycharm": {
     "name": "#%% md\n"
    }
   }
  },
  {
   "cell_type": "code",
   "execution_count": 217,
   "outputs": [
    {
     "name": "stderr",
     "output_type": "stream",
     "text": [
      "D:\\source\\cognitive-av\\venv\\lib\\site-packages\\rpy2\\robjects\\pandas2ri.py:55: FutureWarning: iteritems is deprecated and will be removed in a future version. Use .items instead.\n",
      "  for name, values in obj.iteritems():\n"
     ]
    },
    {
     "name": "stdout",
     "output_type": "stream",
     "text": [
      "Formula: is_negative_rating~decision+tta_0+condition_coded+(1|subj_id)\n",
      "\n",
      "Family: binomial\t Inference: parametric\n",
      "\n",
      "Number of observations: 2700\t Groups: {'subj_id': 14.0}\n",
      "\n",
      "Log-likelihood: -451.232 \t AIC: 912.464\n",
      "\n",
      "Random effects:\n",
      "\n",
      "                Name    Var    Std\n",
      "subj_id  (Intercept)  1.216  1.103\n",
      "\n",
      "No random effect correlations specified\n",
      "\n",
      "Fixed effects:\n",
      "\n",
      "                  Estimate     2.5_ci   97.5_ci     Z-stat         P-val\n",
      "(Intercept)     -10.871522 -13.248237 -8.494807  -8.965228  3.096406e-19\n",
      "decisionStay      2.393874   1.859025  2.928723   8.772403  1.748934e-18\n",
      "tta_0             0.539995   0.161391  0.918599   2.795455  5.182671e-03\n",
      "condition_coded   1.237107   1.045834  1.428380  12.676556  7.976016e-37\n"
     ]
    }
   ],
   "source": [
    "model_rating = Lmer(\"is_negative_rating ~ decision + tta_0 + condition_coded + (1 | subj_id) \", data=data, family=\"binomial\")\n",
    "model_rating_fit = model_rating.fit()\n",
    "\n",
    "df = model_rating.coefs.loc[:, [\"Estimate\", \"2.5_ci\", \"97.5_ci\", \"Z-stat\", \"P-val\"]]\n",
    "\n",
    "print(df)"
   ],
   "metadata": {
    "collapsed": false,
    "pycharm": {
     "name": "#%%\n"
    }
   }
  },
  {
   "cell_type": "code",
   "execution_count": 218,
   "outputs": [],
   "source": [
    "styler = df.rename(columns=column_names, index=var_names).style.format(precision=2)\n",
    "\n",
    "with open('figures/tab_rating.tex', 'w') as tf:\n",
    "     tf.write(styler.to_latex(\n",
    "         column_format=\"rrrrrr\", position=\"h\", position_float=\"centering\",\n",
    "         hrules=True, label=\"tab:rating\", caption=\"Multilevel logistic regression describing the negative rating\"\n",
    "     )\n",
    ")"
   ],
   "metadata": {
    "collapsed": false,
    "pycharm": {
     "name": "#%%\n"
    }
   }
  },
  {
   "cell_type": "markdown",
   "source": [
    "# Posthoc testing"
   ],
   "metadata": {
    "collapsed": false,
    "pycharm": {
     "name": "#%% md\n"
    }
   }
  },
  {
   "cell_type": "code",
   "execution_count": 247,
   "outputs": [
    {
     "name": "stderr",
     "output_type": "stream",
     "text": [
      "D:\\source\\cognitive-av\\venv\\lib\\site-packages\\rpy2\\robjects\\pandas2ri.py:55: FutureWarning: iteritems is deprecated and will be removed in a future version. Use .items instead.\n",
      "  for name, values in obj.iteritems():\n"
     ]
    }
   ],
   "source": [
    "model_is_go_decision = Lmer(\"is_go_decision ~ tta_0 + condition + (1 | subj_id) \", data=data, family=\"binomial\")\n",
    "model_is_go_decision_fit = model_is_go_decision.fit(factors={\"condition\": list(condition_map.values())}, ordered=True, summarize=False)"
   ],
   "metadata": {
    "collapsed": false,
    "pycharm": {
     "name": "#%%\n"
    }
   }
  },
  {
   "cell_type": "code",
   "execution_count": 249,
   "outputs": [
    {
     "name": "stdout",
     "output_type": "stream",
     "text": [
      "P-values adjusted by tukey method for family of 10 estimates\n",
      "            condition  Estimate  2.5_ci  97.5_ci     SE   DF\n",
      "0   Long acceleration    -1.011  -1.969   -0.053  0.489  inf\n",
      "1  Acceleration nudge    -0.356  -1.313    0.600  0.488  inf\n",
      "2      Constant speed    -0.243  -1.200    0.713  0.488  inf\n",
      "3  Deceleration nudge     0.261  -0.695    1.218  0.488  inf\n",
      "4   Long deceleration     1.234   0.275    2.193  0.489  inf\n"
     ]
    }
   ],
   "source": [
    "marginal_estimates, comparisons = model_is_go_decision.post_hoc(\n",
    "    marginal_vars=\"condition\"#, grouping_vars=\"tta_0\"\n",
    ")\n",
    "\n",
    "# \"Cell\" means of the ANOVA\n",
    "print(marginal_estimates)"
   ],
   "metadata": {
    "collapsed": false,
    "pycharm": {
     "name": "#%%\n"
    }
   }
  },
  {
   "cell_type": "markdown",
   "source": [
    "All subjects"
   ],
   "metadata": {
    "collapsed": false,
    "pycharm": {
     "name": "#%% md\n"
    }
   }
  },
  {
   "cell_type": "code",
   "execution_count": 250,
   "outputs": [
    {
     "name": "stdout",
     "output_type": "stream",
     "text": [
      "                                  Contrast  Estimate  2.5_ci  97.5_ci     SE  \\\n",
      "0   Long acceleration - Acceleration nudge    -0.655  -1.050   -0.259  0.145   \n",
      "1       Long acceleration - Constant speed    -0.768  -1.164   -0.372  0.145   \n",
      "2   Long acceleration - Deceleration nudge    -1.272  -1.674   -0.870  0.147   \n",
      "3    Long acceleration - Long deceleration    -2.245  -2.671   -1.819  0.156   \n",
      "4      Acceleration nudge - Constant speed    -0.113  -0.504    0.277  0.143   \n",
      "5  Acceleration nudge - Deceleration nudge    -0.617  -1.010   -0.224  0.144   \n",
      "6   Acceleration nudge - Long deceleration    -1.590  -2.001   -1.180  0.151   \n",
      "7      Constant speed - Deceleration nudge    -0.504  -0.896   -0.112  0.144   \n",
      "8       Constant speed - Long deceleration    -1.477  -1.886   -1.068  0.150   \n",
      "9   Deceleration nudge - Long deceleration    -0.973  -1.376   -0.570  0.148   \n",
      "\n",
      "    DF  Z-stat  P-val  Sig  \n",
      "0  inf  -4.517  0.000  ***  \n",
      "1  inf  -5.287  0.000  ***  \n",
      "2  inf  -8.626  0.000  ***  \n",
      "3  inf -14.388  0.000  ***  \n",
      "4  inf  -0.791  0.933       \n",
      "5  inf  -4.286  0.000  ***  \n",
      "6  inf -10.557  0.000  ***  \n",
      "7  inf  -3.508  0.004   **  \n",
      "8  inf  -9.853  0.000  ***  \n",
      "9  inf  -6.591  0.000  ***  \n"
     ]
    }
   ],
   "source": [
    "print(comparisons)"
   ],
   "metadata": {
    "collapsed": false,
    "pycharm": {
     "name": "#%%\n"
    }
   }
  },
  {
   "cell_type": "markdown",
   "source": [
    "15 subjects"
   ],
   "metadata": {
    "collapsed": false
   }
  },
  {
   "cell_type": "code",
   "execution_count": 239,
   "outputs": [
    {
     "name": "stdout",
     "output_type": "stream",
     "text": [
      "                                  Contrast  Estimate  2.5_ci  97.5_ci     SE  \\\n",
      "0   Long acceleration - Acceleration nudge    -0.542  -0.962   -0.121  0.154   \n",
      "1       Long acceleration - Constant speed    -0.681  -1.102   -0.260  0.154   \n",
      "2   Long acceleration - Deceleration nudge    -1.277  -1.706   -0.848  0.157   \n",
      "3    Long acceleration - Long deceleration    -2.192  -2.650   -1.734  0.168   \n",
      "4      Acceleration nudge - Constant speed    -0.139  -0.555    0.276  0.152   \n",
      "5  Acceleration nudge - Deceleration nudge    -0.735  -1.156   -0.315  0.154   \n",
      "6   Acceleration nudge - Long deceleration    -1.650  -2.096   -1.205  0.163   \n",
      "7      Constant speed - Deceleration nudge    -0.596  -1.015   -0.177  0.154   \n",
      "8       Constant speed - Long deceleration    -1.511  -1.954   -1.068  0.162   \n",
      "9   Deceleration nudge - Long deceleration    -0.915  -1.353   -0.477  0.161   \n",
      "\n",
      "    DF  Z-stat  P-val  Sig  \n",
      "0  inf  -3.515  0.004   **  \n",
      "1  inf  -4.413  0.000  ***  \n",
      "2  inf  -8.118  0.000  ***  \n",
      "3  inf -13.058  0.000  ***  \n",
      "4  inf  -0.915  0.891       \n",
      "5  inf  -4.772  0.000  ***  \n",
      "6  inf -10.109  0.000  ***  \n",
      "7  inf  -3.878  0.001  ***  \n",
      "8  inf  -9.302  0.000  ***  \n",
      "9  inf  -5.694  0.000  ***  \n"
     ]
    }
   ],
   "source": [
    "print(comparisons)"
   ],
   "metadata": {
    "collapsed": false,
    "pycharm": {
     "name": "#%%\n"
    }
   }
  }
 ],
 "metadata": {
  "kernelspec": {
   "display_name": "Python 3",
   "language": "python",
   "name": "python3"
  },
  "language_info": {
   "codemirror_mode": {
    "name": "ipython",
    "version": 2
   },
   "file_extension": ".py",
   "mimetype": "text/x-python",
   "name": "python",
   "nbconvert_exporter": "python",
   "pygments_lexer": "ipython2",
   "version": "2.7.6"
  }
 },
 "nbformat": 4,
 "nbformat_minor": 0
}