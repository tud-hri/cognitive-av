{
 "cells": [
  {
   "cell_type": "code",
   "execution_count": 20,
   "metadata": {
    "collapsed": true
   },
   "outputs": [],
   "source": [
    "import os\n",
    "import numpy as np\n",
    "import pandas as pd\n",
    "import matplotlib.pyplot as plt\n",
    "import utils\n",
    "from pymer4.models import Lmer\n",
    "import ast"
   ]
  },
  {
   "cell_type": "code",
   "execution_count": 39,
   "outputs": [],
   "source": [
    "data = pd.read_csv(\"data/measures.csv\")\n",
    "\n",
    "condition_map = utils.get_nudge_condition_map()\n",
    "nudge_conditions = condition_map.values()\n",
    "data[\"a_condition\"] = data.a_condition.apply(ast.literal_eval).apply(tuple).apply(str)\n",
    "data[\"nudge_condition\"] = pd.Categorical(data[\"a_condition\"].map(condition_map),\n",
    "                                             categories=condition_map.values(), ordered=True)\n",
    "data[\"nudge_coded\"] = data[\"nudge_condition\"].cat.codes"
   ],
   "metadata": {
    "collapsed": false,
    "pycharm": {
     "name": "#%%\n"
    }
   }
  },
  {
   "cell_type": "markdown",
   "source": [
    "# Decision"
   ],
   "metadata": {
    "collapsed": false,
    "pycharm": {
     "name": "#%% md\n"
    }
   }
  },
  {
   "cell_type": "code",
   "execution_count": 42,
   "outputs": [
    {
     "name": "stderr",
     "output_type": "stream",
     "text": [
      "D:\\source\\cognitive-av\\venv\\lib\\site-packages\\rpy2\\robjects\\pandas2ri.py:55: FutureWarning: iteritems is deprecated and will be removed in a future version. Use .items instead.\n",
      "  for name, values in obj.iteritems():\n"
     ]
    },
    {
     "name": "stdout",
     "output_type": "stream",
     "text": [
      "Formula: is_go_decision~tta_condition*nudge_coded+(1|subj_id)\n",
      "\n",
      "Family: binomial\t Inference: parametric\n",
      "\n",
      "Number of observations: 2100\t Groups: {'subj_id': 11.0}\n",
      "\n",
      "Log-likelihood: -940.795 \t AIC: 1891.591\n",
      "\n",
      "Random effects:\n",
      "\n",
      "                Name    Var    Std\n",
      "subj_id  (Intercept)  2.728  1.652\n",
      "\n",
      "No random effect correlations specified\n",
      "\n",
      "Fixed effects:\n",
      "\n",
      "                           Estimate     2.5_ci   97.5_ci        SE        OR  \\\n",
      "(Intercept)               -7.881294 -10.146211 -5.616378  1.155591  0.000378   \n",
      "tta_condition              1.296111   0.894016  1.698207  0.205155  3.655055   \n",
      "nudge_coded               -1.162936  -1.993379 -0.332494  0.423703  0.312567   \n",
      "tta_condition:nudge_coded  0.333943   0.167542  0.500344  0.084900  1.396464   \n",
      "\n",
      "                           OR_2.5_ci  OR_97.5_ci      Prob  Prob_2.5_ci  \\\n",
      "(Intercept)                 0.000039    0.003638  0.000378     0.000039   \n",
      "tta_condition               2.444928    5.464140  0.785180     0.709718   \n",
      "nudge_coded                 0.136234    0.717133  0.238134     0.119900   \n",
      "tta_condition:nudge_coded   1.182395    1.649289  0.582719     0.541788   \n",
      "\n",
      "                           Prob_97.5_ci    Z-stat         P-val  Sig  \n",
      "(Intercept)                    0.003625 -6.820143  9.094977e-12  ***  \n",
      "tta_condition                  0.845300  6.317730  2.654325e-10  ***  \n",
      "nudge_coded                    0.417634 -2.744696  6.056689e-03   **  \n",
      "tta_condition:nudge_coded      0.622540  3.933363  8.376551e-05  ***  \n"
     ]
    }
   ],
   "source": [
    "model_is_go_decision = Lmer(\"is_go_decision ~ tta_condition*nudge_coded + (1 | subj_id) \", data=data, family=\"binomial\")\n",
    "model_is_go_decision_fit = model_is_go_decision.fit()\n",
    "print(model_is_go_decision.coefs)"
   ],
   "metadata": {
    "collapsed": false,
    "pycharm": {
     "name": "#%%\n"
    }
   }
  },
  {
   "cell_type": "code",
   "execution_count": 56,
   "outputs": [
    {
     "data": {
      "text/plain": "                           Estimate     2.5_ci   97.5_ci        SE        OR  \\\n(Intercept)               -7.881294 -10.146211 -5.616378  1.155591  0.000378   \ntta_condition              1.296111   0.894016  1.698207  0.205155  3.655055   \nnudge_coded               -1.162936  -1.993379 -0.332494  0.423703  0.312567   \ntta_condition:nudge_coded  0.333943   0.167542  0.500344  0.084900  1.396464   \n\n                           OR_2.5_ci  OR_97.5_ci      Prob  Prob_2.5_ci  \\\n(Intercept)                 0.000039    0.003638  0.000378     0.000039   \ntta_condition               2.444928    5.464140  0.785180     0.709718   \nnudge_coded                 0.136234    0.717133  0.238134     0.119900   \ntta_condition:nudge_coded   1.182395    1.649289  0.582719     0.541788   \n\n                           Prob_97.5_ci    Z-stat         P-val  Sig  \n(Intercept)                    0.003625 -6.820143  9.094977e-12  ***  \ntta_condition                  0.845300  6.317730  2.654325e-10  ***  \nnudge_coded                    0.417634 -2.744696  6.056689e-03   **  \ntta_condition:nudge_coded      0.622540  3.933363  8.376551e-05  ***  ",
      "text/html": "<div>\n<style scoped>\n    .dataframe tbody tr th:only-of-type {\n        vertical-align: middle;\n    }\n\n    .dataframe tbody tr th {\n        vertical-align: top;\n    }\n\n    .dataframe thead th {\n        text-align: right;\n    }\n</style>\n<table border=\"1\" class=\"dataframe\">\n  <thead>\n    <tr style=\"text-align: right;\">\n      <th></th>\n      <th>Estimate</th>\n      <th>2.5_ci</th>\n      <th>97.5_ci</th>\n      <th>SE</th>\n      <th>OR</th>\n      <th>OR_2.5_ci</th>\n      <th>OR_97.5_ci</th>\n      <th>Prob</th>\n      <th>Prob_2.5_ci</th>\n      <th>Prob_97.5_ci</th>\n      <th>Z-stat</th>\n      <th>P-val</th>\n      <th>Sig</th>\n    </tr>\n  </thead>\n  <tbody>\n    <tr>\n      <th>(Intercept)</th>\n      <td>-7.881294</td>\n      <td>-10.146211</td>\n      <td>-5.616378</td>\n      <td>1.155591</td>\n      <td>0.000378</td>\n      <td>0.000039</td>\n      <td>0.003638</td>\n      <td>0.000378</td>\n      <td>0.000039</td>\n      <td>0.003625</td>\n      <td>-6.820143</td>\n      <td>9.094977e-12</td>\n      <td>***</td>\n    </tr>\n    <tr>\n      <th>tta_condition</th>\n      <td>1.296111</td>\n      <td>0.894016</td>\n      <td>1.698207</td>\n      <td>0.205155</td>\n      <td>3.655055</td>\n      <td>2.444928</td>\n      <td>5.464140</td>\n      <td>0.785180</td>\n      <td>0.709718</td>\n      <td>0.845300</td>\n      <td>6.317730</td>\n      <td>2.654325e-10</td>\n      <td>***</td>\n    </tr>\n    <tr>\n      <th>nudge_coded</th>\n      <td>-1.162936</td>\n      <td>-1.993379</td>\n      <td>-0.332494</td>\n      <td>0.423703</td>\n      <td>0.312567</td>\n      <td>0.136234</td>\n      <td>0.717133</td>\n      <td>0.238134</td>\n      <td>0.119900</td>\n      <td>0.417634</td>\n      <td>-2.744696</td>\n      <td>6.056689e-03</td>\n      <td>**</td>\n    </tr>\n    <tr>\n      <th>tta_condition:nudge_coded</th>\n      <td>0.333943</td>\n      <td>0.167542</td>\n      <td>0.500344</td>\n      <td>0.084900</td>\n      <td>1.396464</td>\n      <td>1.182395</td>\n      <td>1.649289</td>\n      <td>0.582719</td>\n      <td>0.541788</td>\n      <td>0.622540</td>\n      <td>3.933363</td>\n      <td>8.376551e-05</td>\n      <td>***</td>\n    </tr>\n  </tbody>\n</table>\n</div>"
     },
     "execution_count": 56,
     "metadata": {},
     "output_type": "execute_result"
    }
   ],
   "source": [
    "model_is_go_decision.coefs"
   ],
   "metadata": {
    "collapsed": false,
    "pycharm": {
     "name": "#%%\n"
    }
   }
  },
  {
   "cell_type": "code",
   "execution_count": 58,
   "outputs": [
    {
     "name": "stderr",
     "output_type": "stream",
     "text": [
      "C:\\Users\\azgonnikov\\AppData\\Local\\Temp\\ipykernel_992\\2403163024.py:2: FutureWarning: In future versions `DataFrame.to_latex` is expected to utilise the base implementation of `Styler.to_latex` for formatting and rendering. The arguments signature may therefore change. It is recommended instead to use `DataFrame.style.to_latex` which also contains additional functionality.\n",
      "  tf.write(model_is_go_decision.coefs.loc[:, [\"Estimate\", \"2.5_ci\", \"97.5_ci\", \"Z-stat\", \"P-val\"]].to_latex(float_format=lambda x: '%10.2f' % x))\n"
     ]
    }
   ],
   "source": [
    "with open('figures/tab_decision.tex', 'w') as tf:\n",
    "     tf.write(model_is_go_decision.coefs.loc[:, [\"Estimate\", \"2.5_ci\", \"97.5_ci\", \"Z-stat\", \"P-val\"]].to_latex(float_format=lambda x: '%10.2f' % x))"
   ],
   "metadata": {
    "collapsed": false,
    "pycharm": {
     "name": "#%%\n"
    }
   }
  },
  {
   "cell_type": "markdown",
   "source": [
    "# Response time"
   ],
   "metadata": {
    "collapsed": false,
    "pycharm": {
     "name": "#%% md\n"
    }
   }
  },
  {
   "cell_type": "code",
   "execution_count": null,
   "outputs": [],
   "source": [
    "model_RT = Lmer(\"is_go_decision ~ tta_condition*nudge_coded + (1 | subj_id) \", data=data, family=\"binomial\")"
   ],
   "metadata": {
    "collapsed": false,
    "pycharm": {
     "name": "#%%\n"
    }
   }
  }
 ],
 "metadata": {
  "kernelspec": {
   "display_name": "Python 3",
   "language": "python",
   "name": "python3"
  },
  "language_info": {
   "codemirror_mode": {
    "name": "ipython",
    "version": 2
   },
   "file_extension": ".py",
   "mimetype": "text/x-python",
   "name": "python",
   "nbconvert_exporter": "python",
   "pygments_lexer": "ipython2",
   "version": "2.7.6"
  }
 },
 "nbformat": 4,
 "nbformat_minor": 0
}