{
 "cells": [
  {
   "cell_type": "code",
   "execution_count": 1,
   "outputs": [],
   "source": [
    "import numpy as np\n",
    "import pandas as pd\n",
    "import pyddm\n",
    "import os\n",
    "import helper\n",
    "import models\n",
    "from scipy import interpolate"
   ],
   "metadata": {
    "collapsed": false,
    "pycharm": {
     "name": "#%%\n"
    }
   }
  },
  {
   "cell_type": "code",
   "execution_count": 2,
   "metadata": {
    "collapsed": true
   },
   "outputs": [],
   "source": [
    "def get_model_measures(model, condition):\n",
    "    sol = model.solve(condition)\n",
    "    mean_rt_error = np.sum(sol.pdf_err()*model.t_domain())*model.dt / sol.prob_error()\n",
    "    return condition[\"tta_condition\"], condition[\"d_condition\"], condition[\"tta_or_condition\"], \\\n",
    "           sol.prob_correct(), sol.mean_decision_time(), mean_rt_error\n",
    "\n",
    "def get_model_rt_distr(model, condition, kind=\"cdf\"):\n",
    "    sol = model.solve(condition)\n",
    "    return pd.DataFrame({\"tta_condition\": condition[\"tta_condition\"],\n",
    "                         \"d_condition\":  condition[\"d_condition\"],\n",
    "                         \"tta_or_condition\": condition[\"tta_or_condition\"],\n",
    "                         \"t\": model.t_domain(),\n",
    "                         \"rt_corr_distr\": (sol.cdf_corr() if kind==\"cdf\" else sol.pdf_corr())/sol.prob_correct(),\n",
    "                         \"rt_error_distr\": (sol.cdf_err() if kind==\"cdf\" else sol.pdf_err())/sol.prob_error()})\n",
    "\n",
    "def initialize_model(model_no, param_set):\n",
    "    simulation_params = {\"dt\": 0.01, \"duration\": 4.0}\n",
    "\n",
    "    if model_no == 1:\n",
    "        # model with full access to all perceptual information (slighly updated left-turn model)\n",
    "        overlay = models.OverlayNonDecisionGaussian(ndt_location=param_set.ndt_location, ndt_scale=param_set.ndt_scale)\n",
    "        bound = models.BoundCollapsingTta(b_0=param_set.b_0, k=param_set.k, r=param_set.r, tta_crit=param_set.tta_crit)\n",
    "        drift = models.DriftTtaDistance(alpha=param_set.alpha, beta_d=param_set.beta_d,\n",
    "                                               beta_tta_or=param_set.beta_tta_or, theta=param_set.theta)\n",
    "\n",
    "        model = pyddm.Model(name=\"Model %i\" % model_no, drift=drift, bound=bound, overlay=overlay,\n",
    "                      noise=pyddm.NoiseConstant(noise=1), T_dur=models.ModelDynamicDriftCollapsingBounds.T_dur)\n",
    "    elif model_no == 2:\n",
    "        # model with gaze-dependent access to perceptual information\n",
    "        gaze_sample = helper.get_mean_gaze_rate(simulation_params)\n",
    "        t = np.linspace(0, simulation_params[\"duration\"], len(gaze_sample))\n",
    "        gaze_sample_f = interpolate.interp1d(t, gaze_sample)\n",
    "\n",
    "        overlay = models.OverlayNonDecisionGaussian(ndt_location=param_set.ndt_location, ndt_scale=param_set.ndt_scale)\n",
    "        bound = models.BoundCollapsingTta(b_0=param_set.b_0, k=param_set.k, r=param_set.r, tta_crit=param_set.tta_crit)\n",
    "        drift = models.DriftGaze(alpha=param_set.alpha, beta_d=param_set.beta_d, beta_tta_or=param_set.beta_tta_or,\n",
    "                                 theta=param_set.theta, gamma=param_set.gamma, gaze_sample_f=gaze_sample_f)\n",
    "\n",
    "        model = pyddm.Model(name=\"Model %i\" % model_no, drift=drift, bound=bound, overlay=overlay,\n",
    "                      noise=pyddm.NoiseConstant(noise=1), T_dur=simulation_params[\"duration\"])\n",
    "    elif model_no == 3:\n",
    "        # model with gaze-dependent access to perceptual information\n",
    "        gaze_sample = helper.get_mean_gaze_rate(simulation_params)\n",
    "        t = np.linspace(0, simulation_params[\"duration\"], len(gaze_sample))\n",
    "        gaze_sample_f = interpolate.interp1d(t, gaze_sample)\n",
    "\n",
    "        overlay = models.OverlayNonDecisionGaussian(ndt_location=param_set.ndt_location, ndt_scale=param_set.ndt_scale)\n",
    "        bound = models.BoundCollapsingGeneralizedGap(b_0=param_set.b_0, k=param_set.k, beta_d=param_set.beta_d,\n",
    "                                                     beta_tta_or=param_set.beta_tta_or, theta=param_set.theta,\n",
    "                                                     gamma=param_set.gamma, gaze_sample_f=gaze_sample_f)\n",
    "        drift = models.DriftGaze(alpha=param_set.alpha, beta_d=param_set.beta_d, beta_tta_or=param_set.beta_tta_or,\n",
    "                                 theta=param_set.theta, gamma=param_set.gamma, gaze_sample_f=gaze_sample_f)\n",
    "\n",
    "        model = pyddm.Model(name=\"Model %i\" % model_no, drift=drift, bound=bound, overlay=overlay,\n",
    "                      noise=pyddm.NoiseConstant(noise=1), T_dur=simulation_params[\"duration\"])\n",
    "\n",
    "    else:\n",
    "        model = None\n",
    "\n",
    "    return model\n",
    "\n",
    "def simulate_model(model_no, param_set, conditions, ret=\"measures\"):\n",
    "    \"\"\"\n",
    "    Set ret to \"measures\" or \"rt_cdf\" or \"rt_pdf\" for saving p_turn and mean RT or RT CDF or RT PDF\n",
    "    \"\"\"\n",
    "    model = initialize_model(model_no, param_set)\n",
    "\n",
    "    if ret==\"measures\":\n",
    "        sim_result = pd.DataFrame([get_model_measures(model, condition) for condition in conditions],\n",
    "                                  columns=[\"tta_condition\", \"d_condition\", \"tta_or_condition\",\n",
    "                                           \"is_gap_accepted\", \"RT_merge\", \"RT_wait\"])\n",
    "    else:\n",
    "        sim_result = pd.concat([get_model_rt_distr(model, condition, kind=ret[-3:]) for condition in conditions])\n",
    "    sim_result[\"subj_id\"] = param_set.subj_id\n",
    "    return sim_result"
   ]
  },
  {
   "cell_type": "code",
   "execution_count": 3,
   "outputs": [],
   "source": [
    "def save_sim_results(model_no, file_name, conditions=None, cross_validation=False, ret=\"measures\"):\n",
    "    if model_no == 1:\n",
    "        model_name = \"left_turn_model\"\n",
    "    elif model_no == 2:\n",
    "        model_name = \"gaze_dependent_model\"\n",
    "    elif model_no == 3:\n",
    "        model_name = \"gaze_dependent_bound_generalized_gap_model\"\n",
    "    else:\n",
    "        raise ValueError(\"Wrong model_no\")\n",
    "\n",
    "    path = os.path.join(\"model_fit_results\", model_name)\n",
    "    parameters = pd.read_csv(os.path.join(path, file_name))\n",
    "\n",
    "    sim_results = [simulate_model(model_no, param_set,\n",
    "                                  [param_set[[\"tta_condition\", \"d_condition\", \"tta_or_condition\"]].to_dict()] if cross_validation\n",
    "                                  else conditions,\n",
    "                                  ret=ret)\n",
    "                   for idx, param_set in parameters.iterrows()]\n",
    "\n",
    "    sim_results = pd.concat(sim_results)\n",
    "    sim_results.to_csv(os.path.join(path, \"simulation_results\", file_name.replace(\"parameters_fitted\", ret)), index=False)"
   ],
   "metadata": {
    "collapsed": false,
    "pycharm": {
     "name": "#%%\n"
    }
   }
  },
  {
   "cell_type": "code",
   "execution_count": 5,
   "outputs": [],
   "source": [
    "conditions = [{\"tta_condition\": tta, \"d_condition\": d, \"tta_or_condition\": tta_or}\n",
    "              for tta in np.linspace(3, 7, 9)\n",
    "              for d in np.linspace(10, 50, 5)\n",
    "              for tta_or in np.linspace(3, 7, 9)]"
   ],
   "metadata": {
    "collapsed": false,
    "pycharm": {
     "name": "#%%\n"
    }
   }
  },
  {
   "cell_type": "markdown",
   "source": [
    "# obsolete"
   ],
   "metadata": {
    "collapsed": false,
    "pycharm": {
     "name": "#%% md\n"
    }
   }
  },
  {
   "cell_type": "code",
   "execution_count": 28,
   "outputs": [],
   "source": [
    "save_sim_results(model_no=1, file_name=\"subj_all_vincent.csv\", conditions=conditions, cross_validation=False, ret=\"measures\")"
   ],
   "metadata": {
    "collapsed": false,
    "pycharm": {
     "name": "#%%\n"
    }
   }
  },
  {
   "cell_type": "code",
   "execution_count": 27,
   "outputs": [],
   "source": [
    "save_sim_results(model_no=1, file_name=\"subj_all.csv\", conditions=conditions, cross_validation=False, ret=\"measures\")"
   ],
   "metadata": {
    "collapsed": false,
    "pycharm": {
     "name": "#%%\n"
    }
   }
  },
  {
   "cell_type": "code",
   "execution_count": null,
   "outputs": [],
   "source": [
    "save_sim_results(model_no=1, file_name=\"subj_all_vincent.csv\", conditions=conditions, cross_validation=False, ret=\"rt_cdf\")"
   ],
   "metadata": {
    "collapsed": false,
    "pycharm": {
     "name": "#%%\n"
    }
   }
  },
  {
   "cell_type": "markdown",
   "source": [
    "# up-to-date"
   ],
   "metadata": {
    "collapsed": false,
    "pycharm": {
     "name": "#%% md\n"
    }
   }
  },
  {
   "cell_type": "code",
   "execution_count": 15,
   "outputs": [],
   "source": [
    "save_sim_results(model_no=1, file_name=\"subj_all_parameters_fitted.csv\", conditions=conditions, cross_validation=False,\n",
    "                 ret=\"measures\")"
   ],
   "metadata": {
    "collapsed": false,
    "pycharm": {
     "name": "#%%\n"
    }
   }
  },
  {
   "cell_type": "code",
   "execution_count": 14,
   "outputs": [],
   "source": [
    "save_sim_results(model_no=2, file_name=\"subj_all_parameters_fitted.csv\", conditions=conditions, cross_validation=False,\n",
    "                 ret=\"measures\")"
   ],
   "metadata": {
    "collapsed": false,
    "pycharm": {
     "name": "#%%\n"
    }
   }
  },
  {
   "cell_type": "code",
   "execution_count": 7,
   "outputs": [],
   "source": [
    "save_sim_results(model_no=3, file_name=\"subj_all_parameters_fitted.csv\", conditions=conditions, cross_validation=False,\n",
    "                 ret=\"measures\")"
   ],
   "metadata": {
    "collapsed": false,
    "pycharm": {
     "name": "#%%\n"
    }
   }
  }
 ],
 "metadata": {
  "kernelspec": {
   "display_name": "Python 3",
   "language": "python",
   "name": "python3"
  },
  "language_info": {
   "codemirror_mode": {
    "name": "ipython",
    "version": 2
   },
   "file_extension": ".py",
   "mimetype": "text/x-python",
   "name": "python",
   "nbconvert_exporter": "python",
   "pygments_lexer": "ipython2",
   "version": "2.7.6"
  }
 },
 "nbformat": 4,
 "nbformat_minor": 0
}