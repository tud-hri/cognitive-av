{
 "cells": [
  {
   "cell_type": "code",
   "execution_count": 1,
   "metadata": {
    "pycharm": {
     "name": "#%%\n"
    }
   },
   "outputs": [
    {
     "name": "stdout",
     "output_type": "stream",
     "text": [
      "pygame 2.1.2 (SDL 2.0.18, Python 3.9.7)\n",
      "Hello from the pygame community. https://www.pygame.org/contribute.html\n"
     ]
    }
   ],
   "source": [
    "import numpy as np\n",
    "import pandas as pd\n",
    "import pyddm\n",
    "import os\n",
    "import utils\n",
    "import models"
   ]
  },
  {
   "cell_type": "code",
   "execution_count": 20,
   "metadata": {
    "collapsed": true
   },
   "outputs": [],
   "source": [
    "def get_model_measures(model, condition):\n",
    "    sol = model.solve(condition)\n",
    "    mean_rt_error = np.sum(sol.pdf_err()*model.t_domain())*model.dt / sol.prob_error()\n",
    "    return condition[\"tta_0\"], condition[\"d_0\"], condition[\"a_values\"], \\\n",
    "           sol.prob_correct(), sol.mean_decision_time(), mean_rt_error\n",
    "\n",
    "def get_model_rt_distr(model, condition, kind=\"cdf\"):\n",
    "    sol = model.solve(condition)\n",
    "    return pd.DataFrame({\"tta_0\": condition[\"tta_0\"],\n",
    "                         \"d_0\":  condition[\"d_0\"],\n",
    "                         \"a_values\": condition[\"a_values\"],\n",
    "                         \"t\": model.t_domain(),\n",
    "                         \"rt_corr_distr\": (sol.cdf_corr() if kind==\"cdf\" else sol.pdf_corr())/sol.prob_correct(),\n",
    "                         \"rt_error_distr\": (sol.cdf_err() if kind==\"cdf\" else sol.pdf_err())/sol.prob_error()})\n",
    "\n",
    "def initialize_model(model_no, param_set):\n",
    "    overlay = models.OverlayNonDecisionGaussian(ndt_location=param_set.ndt_location, ndt_scale=param_set.ndt_scale)\n",
    "    bound = models.BoundCollapsingTta(b_0=param_set.b_0, k=param_set.k, tta_crit=param_set.tta_crit)\n",
    "\n",
    "    if model_no == 1:\n",
    "        # drift only depends on TTA and distance (2020 version)\n",
    "        drift = models.DriftTtaDistance(alpha=param_set.alpha, beta_d=param_set.beta_d, theta=param_set.theta)\n",
    "    if model_no == 2:\n",
    "        # same as model 1 but dynamic calculation of tta and d\n",
    "        drift = models.DriftFixedAcceleration(alpha=param_set.alpha, beta_d=param_set.beta_d, theta=param_set.theta)\n",
    "    elif model_no == 3:\n",
    "        # acceleration-dependent drift; acceleration condition implemented as a vector\n",
    "        drift = models.DriftAccelerationDependent(alpha=param_set.alpha, beta_d=param_set.beta_d, beta_a=param_set.beta_a, theta=param_set.theta)\n",
    "    elif model_no == 4:\n",
    "        # acceleration-dependent drift; acceleration condition implemented as a vector\n",
    "        drift = models.DriftAccelerationDependent_v2(alpha=param_set.alpha, beta_d=param_set.beta_d,\n",
    "                                                     beta_a=param_set.beta_a, theta=param_set.theta)\n",
    "    else:\n",
    "        model = None\n",
    "\n",
    "    model = pyddm.Model(name=\"Model %i\" % model_no, drift=drift, bound=bound, overlay=overlay,\n",
    "                      noise=pyddm.NoiseConstant(noise=1), T_dur=models.ModelTtaDistance.T_dur)\n",
    "\n",
    "    return model\n",
    "\n",
    "def simulate_model(model_no, param_set, conditions, ret=\"measures\"):\n",
    "    \"\"\"\n",
    "    Set ret to \"measures\" or \"rt_cdf\" or \"rt_pdf\" for saving p_turn and mean RT or RT CDF or RT PDF\n",
    "    \"\"\"\n",
    "    model = initialize_model(model_no, param_set)\n",
    "\n",
    "    if ret==\"measures\":\n",
    "        sim_result = pd.DataFrame([get_model_measures(model, condition) for condition in conditions],\n",
    "                                  columns=[\"tta_0\", \"d_0\", \"a_values\", \"is_gap_accepted\", \"RT_go\", \"RT_stay\"])\n",
    "    else:\n",
    "        sim_result = pd.concat([get_model_rt_distr(model, condition, kind=ret[-3:]) for condition in conditions])\n",
    "    sim_result[\"subj_id\"] = param_set.subj_id\n",
    "    return sim_result"
   ]
  },
  {
   "cell_type": "code",
   "execution_count": 21,
   "metadata": {
    "pycharm": {
     "name": "#%%\n"
    }
   },
   "outputs": [],
   "source": [
    "def save_sim_results(model_no, file_name, conditions=None, cross_validation=False, ret=\"measures\"):\n",
    "    if model_no == 1:\n",
    "        model_name = \"drift_tta_distance\"\n",
    "    elif model_no == 2:\n",
    "        model_name = \"drift_tta_distance_interp\"\n",
    "    elif model_no == 3:\n",
    "        model_name = \"model_acceleration_dependent\"\n",
    "    elif model_no == 4:\n",
    "        model_name = \"model_acceleration_dependent_v2\"\n",
    "    else:\n",
    "        raise ValueError(\"Wrong model_no\")\n",
    "\n",
    "    path = os.path.join(\"fit_results\", model_name)\n",
    "    parameters = pd.read_csv(os.path.join(path, file_name))\n",
    "\n",
    "    sim_results = [simulate_model(model_no, param_set,\n",
    "                                  [param_set[[\"tta_0\", \"d_0\", \"a_values\"]].to_dict()] if cross_validation\n",
    "                                  else conditions,\n",
    "                                  ret=ret)\n",
    "                   for idx, param_set in parameters.iterrows()]\n",
    "\n",
    "    sim_results = pd.concat(sim_results)\n",
    "    sim_results.to_csv(os.path.join(path, file_name.replace(\"parameters_fitted\", \"sim_\" + ret)), index=False)"
   ]
  },
  {
   "cell_type": "code",
   "execution_count": 22,
   "metadata": {
    "pycharm": {
     "name": "#%%\n"
    }
   },
   "outputs": [],
   "source": [
    "conditions = [{\"tta_0\": tta_0, \"d_0\": d_0, \"a_values\": a_values}\n",
    "              for tta_0 in np.linspace(4, 6, 9)\n",
    "              for d_0 in np.linspace(70, 90, 3)\n",
    "              for a_values in [(0., 0., 0., 0.),\n",
    "                               (0., 4, 4, 0.),\n",
    "                               (0., 4, -4, 0.),\n",
    "                               (0., -4, 4, 0.),\n",
    "                               (0., -4, -4, 0.)]]"
   ]
  },
  {
   "cell_type": "markdown",
   "metadata": {
    "pycharm": {
     "name": "#%% md\n"
    }
   },
   "source": [
    "# measures"
   ]
  },
  {
   "cell_type": "code",
   "execution_count": 6,
   "metadata": {
    "pycharm": {
     "name": "#%%\n"
    }
   },
   "outputs": [],
   "source": [
    "save_sim_results(model_no=1, file_name=\"subj_all_parameters_fitted.csv\", conditions=conditions, cross_validation=False,\n",
    "                 ret=\"measures\")"
   ]
  },
  {
   "cell_type": "code",
   "execution_count": 14,
   "metadata": {
    "pycharm": {
     "name": "#%%\n"
    }
   },
   "outputs": [],
   "source": [
    "save_sim_results(model_no=2, file_name=\"subj_all_parameters_fitted.csv\", conditions=conditions, cross_validation=False,\n",
    "                 ret=\"measures\")"
   ]
  },
  {
   "cell_type": "code",
   "execution_count": 23,
   "metadata": {
    "pycharm": {
     "name": "#%%\n"
    }
   },
   "outputs": [],
   "source": [
    "save_sim_results(model_no=3, file_name=\"subj_all_parameters_fitted.csv\", conditions=conditions, cross_validation=False,\n",
    "                 ret=\"measures\")"
   ]
  },
  {
   "cell_type": "markdown",
   "source": [
    "# RTs"
   ],
   "metadata": {
    "collapsed": false,
    "pycharm": {
     "name": "#%% md\n"
    }
   }
  },
  {
   "cell_type": "code",
   "execution_count": 24,
   "outputs": [
    {
     "ename": "ValueError",
     "evalue": "All arrays must be of the same length",
     "output_type": "error",
     "traceback": [
      "\u001B[1;31m---------------------------------------------------------------------------\u001B[0m",
      "\u001B[1;31mValueError\u001B[0m                                Traceback (most recent call last)",
      "Input \u001B[1;32mIn [24]\u001B[0m, in \u001B[0;36m<cell line: 1>\u001B[1;34m()\u001B[0m\n\u001B[1;32m----> 1\u001B[0m \u001B[43msave_sim_results\u001B[49m\u001B[43m(\u001B[49m\u001B[43mmodel_no\u001B[49m\u001B[38;5;241;43m=\u001B[39;49m\u001B[38;5;241;43m3\u001B[39;49m\u001B[43m,\u001B[49m\u001B[43m \u001B[49m\u001B[43mfile_name\u001B[49m\u001B[38;5;241;43m=\u001B[39;49m\u001B[38;5;124;43m\"\u001B[39;49m\u001B[38;5;124;43msubj_all_parameters_fitted.csv\u001B[39;49m\u001B[38;5;124;43m\"\u001B[39;49m\u001B[43m,\u001B[49m\u001B[43m \u001B[49m\u001B[43mconditions\u001B[49m\u001B[38;5;241;43m=\u001B[39;49m\u001B[43mconditions\u001B[49m\u001B[43m,\u001B[49m\u001B[43m \u001B[49m\u001B[43mcross_validation\u001B[49m\u001B[38;5;241;43m=\u001B[39;49m\u001B[38;5;28;43;01mFalse\u001B[39;49;00m\u001B[43m,\u001B[49m\n\u001B[0;32m      2\u001B[0m \u001B[43m                 \u001B[49m\u001B[43mret\u001B[49m\u001B[38;5;241;43m=\u001B[39;49m\u001B[38;5;124;43m\"\u001B[39;49m\u001B[38;5;124;43mrt_cdf\u001B[39;49m\u001B[38;5;124;43m\"\u001B[39;49m\u001B[43m)\u001B[49m\n",
      "Input \u001B[1;32mIn [21]\u001B[0m, in \u001B[0;36msave_sim_results\u001B[1;34m(model_no, file_name, conditions, cross_validation, ret)\u001B[0m\n\u001B[0;32m     13\u001B[0m path \u001B[38;5;241m=\u001B[39m os\u001B[38;5;241m.\u001B[39mpath\u001B[38;5;241m.\u001B[39mjoin(\u001B[38;5;124m\"\u001B[39m\u001B[38;5;124mfit_results\u001B[39m\u001B[38;5;124m\"\u001B[39m, model_name)\n\u001B[0;32m     14\u001B[0m parameters \u001B[38;5;241m=\u001B[39m pd\u001B[38;5;241m.\u001B[39mread_csv(os\u001B[38;5;241m.\u001B[39mpath\u001B[38;5;241m.\u001B[39mjoin(path, file_name))\n\u001B[1;32m---> 16\u001B[0m sim_results \u001B[38;5;241m=\u001B[39m [simulate_model(model_no, param_set,\n\u001B[0;32m     17\u001B[0m                               [param_set[[\u001B[38;5;124m\"\u001B[39m\u001B[38;5;124mtta_0\u001B[39m\u001B[38;5;124m\"\u001B[39m, \u001B[38;5;124m\"\u001B[39m\u001B[38;5;124md_0\u001B[39m\u001B[38;5;124m\"\u001B[39m, \u001B[38;5;124m\"\u001B[39m\u001B[38;5;124ma_values\u001B[39m\u001B[38;5;124m\"\u001B[39m]]\u001B[38;5;241m.\u001B[39mto_dict()] \u001B[38;5;28;01mif\u001B[39;00m cross_validation\n\u001B[0;32m     18\u001B[0m                               \u001B[38;5;28;01melse\u001B[39;00m conditions,\n\u001B[0;32m     19\u001B[0m                               ret\u001B[38;5;241m=\u001B[39mret)\n\u001B[0;32m     20\u001B[0m                \u001B[38;5;28;01mfor\u001B[39;00m idx, param_set \u001B[38;5;129;01min\u001B[39;00m parameters\u001B[38;5;241m.\u001B[39miterrows()]\n\u001B[0;32m     22\u001B[0m sim_results \u001B[38;5;241m=\u001B[39m pd\u001B[38;5;241m.\u001B[39mconcat(sim_results)\n\u001B[0;32m     23\u001B[0m sim_results\u001B[38;5;241m.\u001B[39mto_csv(os\u001B[38;5;241m.\u001B[39mpath\u001B[38;5;241m.\u001B[39mjoin(path, file_name\u001B[38;5;241m.\u001B[39mreplace(\u001B[38;5;124m\"\u001B[39m\u001B[38;5;124mparameters_fitted\u001B[39m\u001B[38;5;124m\"\u001B[39m, \u001B[38;5;124m\"\u001B[39m\u001B[38;5;124msim_\u001B[39m\u001B[38;5;124m\"\u001B[39m \u001B[38;5;241m+\u001B[39m ret)), index\u001B[38;5;241m=\u001B[39m\u001B[38;5;28;01mFalse\u001B[39;00m)\n",
      "Input \u001B[1;32mIn [21]\u001B[0m, in \u001B[0;36m<listcomp>\u001B[1;34m(.0)\u001B[0m\n\u001B[0;32m     13\u001B[0m path \u001B[38;5;241m=\u001B[39m os\u001B[38;5;241m.\u001B[39mpath\u001B[38;5;241m.\u001B[39mjoin(\u001B[38;5;124m\"\u001B[39m\u001B[38;5;124mfit_results\u001B[39m\u001B[38;5;124m\"\u001B[39m, model_name)\n\u001B[0;32m     14\u001B[0m parameters \u001B[38;5;241m=\u001B[39m pd\u001B[38;5;241m.\u001B[39mread_csv(os\u001B[38;5;241m.\u001B[39mpath\u001B[38;5;241m.\u001B[39mjoin(path, file_name))\n\u001B[1;32m---> 16\u001B[0m sim_results \u001B[38;5;241m=\u001B[39m [\u001B[43msimulate_model\u001B[49m\u001B[43m(\u001B[49m\u001B[43mmodel_no\u001B[49m\u001B[43m,\u001B[49m\u001B[43m \u001B[49m\u001B[43mparam_set\u001B[49m\u001B[43m,\u001B[49m\n\u001B[0;32m     17\u001B[0m \u001B[43m                              \u001B[49m\u001B[43m[\u001B[49m\u001B[43mparam_set\u001B[49m\u001B[43m[\u001B[49m\u001B[43m[\u001B[49m\u001B[38;5;124;43m\"\u001B[39;49m\u001B[38;5;124;43mtta_0\u001B[39;49m\u001B[38;5;124;43m\"\u001B[39;49m\u001B[43m,\u001B[49m\u001B[43m \u001B[49m\u001B[38;5;124;43m\"\u001B[39;49m\u001B[38;5;124;43md_0\u001B[39;49m\u001B[38;5;124;43m\"\u001B[39;49m\u001B[43m,\u001B[49m\u001B[43m \u001B[49m\u001B[38;5;124;43m\"\u001B[39;49m\u001B[38;5;124;43ma_values\u001B[39;49m\u001B[38;5;124;43m\"\u001B[39;49m\u001B[43m]\u001B[49m\u001B[43m]\u001B[49m\u001B[38;5;241;43m.\u001B[39;49m\u001B[43mto_dict\u001B[49m\u001B[43m(\u001B[49m\u001B[43m)\u001B[49m\u001B[43m]\u001B[49m\u001B[43m \u001B[49m\u001B[38;5;28;43;01mif\u001B[39;49;00m\u001B[43m \u001B[49m\u001B[43mcross_validation\u001B[49m\n\u001B[0;32m     18\u001B[0m \u001B[43m                              \u001B[49m\u001B[38;5;28;43;01melse\u001B[39;49;00m\u001B[43m \u001B[49m\u001B[43mconditions\u001B[49m\u001B[43m,\u001B[49m\n\u001B[0;32m     19\u001B[0m \u001B[43m                              \u001B[49m\u001B[43mret\u001B[49m\u001B[38;5;241;43m=\u001B[39;49m\u001B[43mret\u001B[49m\u001B[43m)\u001B[49m\n\u001B[0;32m     20\u001B[0m                \u001B[38;5;28;01mfor\u001B[39;00m idx, param_set \u001B[38;5;129;01min\u001B[39;00m parameters\u001B[38;5;241m.\u001B[39miterrows()]\n\u001B[0;32m     22\u001B[0m sim_results \u001B[38;5;241m=\u001B[39m pd\u001B[38;5;241m.\u001B[39mconcat(sim_results)\n\u001B[0;32m     23\u001B[0m sim_results\u001B[38;5;241m.\u001B[39mto_csv(os\u001B[38;5;241m.\u001B[39mpath\u001B[38;5;241m.\u001B[39mjoin(path, file_name\u001B[38;5;241m.\u001B[39mreplace(\u001B[38;5;124m\"\u001B[39m\u001B[38;5;124mparameters_fitted\u001B[39m\u001B[38;5;124m\"\u001B[39m, \u001B[38;5;124m\"\u001B[39m\u001B[38;5;124msim_\u001B[39m\u001B[38;5;124m\"\u001B[39m \u001B[38;5;241m+\u001B[39m ret)), index\u001B[38;5;241m=\u001B[39m\u001B[38;5;28;01mFalse\u001B[39;00m)\n",
      "Input \u001B[1;32mIn [20]\u001B[0m, in \u001B[0;36msimulate_model\u001B[1;34m(model_no, param_set, conditions, ret)\u001B[0m\n\u001B[0;32m     48\u001B[0m     sim_result \u001B[38;5;241m=\u001B[39m pd\u001B[38;5;241m.\u001B[39mDataFrame([get_model_measures(model, condition) \u001B[38;5;28;01mfor\u001B[39;00m condition \u001B[38;5;129;01min\u001B[39;00m conditions],\n\u001B[0;32m     49\u001B[0m                               columns\u001B[38;5;241m=\u001B[39m[\u001B[38;5;124m\"\u001B[39m\u001B[38;5;124mtta_0\u001B[39m\u001B[38;5;124m\"\u001B[39m, \u001B[38;5;124m\"\u001B[39m\u001B[38;5;124md_0\u001B[39m\u001B[38;5;124m\"\u001B[39m, \u001B[38;5;124m\"\u001B[39m\u001B[38;5;124ma_values\u001B[39m\u001B[38;5;124m\"\u001B[39m, \u001B[38;5;124m\"\u001B[39m\u001B[38;5;124mis_gap_accepted\u001B[39m\u001B[38;5;124m\"\u001B[39m, \u001B[38;5;124m\"\u001B[39m\u001B[38;5;124mRT_go\u001B[39m\u001B[38;5;124m\"\u001B[39m, \u001B[38;5;124m\"\u001B[39m\u001B[38;5;124mRT_stay\u001B[39m\u001B[38;5;124m\"\u001B[39m])\n\u001B[0;32m     50\u001B[0m \u001B[38;5;28;01melse\u001B[39;00m:\n\u001B[1;32m---> 51\u001B[0m     sim_result \u001B[38;5;241m=\u001B[39m pd\u001B[38;5;241m.\u001B[39mconcat([get_model_rt_distr(model, condition, kind\u001B[38;5;241m=\u001B[39mret[\u001B[38;5;241m-\u001B[39m\u001B[38;5;241m3\u001B[39m:]) \u001B[38;5;28;01mfor\u001B[39;00m condition \u001B[38;5;129;01min\u001B[39;00m conditions])\n\u001B[0;32m     52\u001B[0m sim_result[\u001B[38;5;124m\"\u001B[39m\u001B[38;5;124msubj_id\u001B[39m\u001B[38;5;124m\"\u001B[39m] \u001B[38;5;241m=\u001B[39m param_set\u001B[38;5;241m.\u001B[39msubj_id\n\u001B[0;32m     53\u001B[0m \u001B[38;5;28;01mreturn\u001B[39;00m sim_result\n",
      "Input \u001B[1;32mIn [20]\u001B[0m, in \u001B[0;36m<listcomp>\u001B[1;34m(.0)\u001B[0m\n\u001B[0;32m     48\u001B[0m     sim_result \u001B[38;5;241m=\u001B[39m pd\u001B[38;5;241m.\u001B[39mDataFrame([get_model_measures(model, condition) \u001B[38;5;28;01mfor\u001B[39;00m condition \u001B[38;5;129;01min\u001B[39;00m conditions],\n\u001B[0;32m     49\u001B[0m                               columns\u001B[38;5;241m=\u001B[39m[\u001B[38;5;124m\"\u001B[39m\u001B[38;5;124mtta_0\u001B[39m\u001B[38;5;124m\"\u001B[39m, \u001B[38;5;124m\"\u001B[39m\u001B[38;5;124md_0\u001B[39m\u001B[38;5;124m\"\u001B[39m, \u001B[38;5;124m\"\u001B[39m\u001B[38;5;124ma_values\u001B[39m\u001B[38;5;124m\"\u001B[39m, \u001B[38;5;124m\"\u001B[39m\u001B[38;5;124mis_gap_accepted\u001B[39m\u001B[38;5;124m\"\u001B[39m, \u001B[38;5;124m\"\u001B[39m\u001B[38;5;124mRT_go\u001B[39m\u001B[38;5;124m\"\u001B[39m, \u001B[38;5;124m\"\u001B[39m\u001B[38;5;124mRT_stay\u001B[39m\u001B[38;5;124m\"\u001B[39m])\n\u001B[0;32m     50\u001B[0m \u001B[38;5;28;01melse\u001B[39;00m:\n\u001B[1;32m---> 51\u001B[0m     sim_result \u001B[38;5;241m=\u001B[39m pd\u001B[38;5;241m.\u001B[39mconcat([\u001B[43mget_model_rt_distr\u001B[49m\u001B[43m(\u001B[49m\u001B[43mmodel\u001B[49m\u001B[43m,\u001B[49m\u001B[43m \u001B[49m\u001B[43mcondition\u001B[49m\u001B[43m,\u001B[49m\u001B[43m \u001B[49m\u001B[43mkind\u001B[49m\u001B[38;5;241;43m=\u001B[39;49m\u001B[43mret\u001B[49m\u001B[43m[\u001B[49m\u001B[38;5;241;43m-\u001B[39;49m\u001B[38;5;241;43m3\u001B[39;49m\u001B[43m:\u001B[49m\u001B[43m]\u001B[49m\u001B[43m)\u001B[49m \u001B[38;5;28;01mfor\u001B[39;00m condition \u001B[38;5;129;01min\u001B[39;00m conditions])\n\u001B[0;32m     52\u001B[0m sim_result[\u001B[38;5;124m\"\u001B[39m\u001B[38;5;124msubj_id\u001B[39m\u001B[38;5;124m\"\u001B[39m] \u001B[38;5;241m=\u001B[39m param_set\u001B[38;5;241m.\u001B[39msubj_id\n\u001B[0;32m     53\u001B[0m \u001B[38;5;28;01mreturn\u001B[39;00m sim_result\n",
      "Input \u001B[1;32mIn [20]\u001B[0m, in \u001B[0;36mget_model_rt_distr\u001B[1;34m(model, condition, kind)\u001B[0m\n\u001B[0;32m      7\u001B[0m \u001B[38;5;28;01mdef\u001B[39;00m \u001B[38;5;21mget_model_rt_distr\u001B[39m(model, condition, kind\u001B[38;5;241m=\u001B[39m\u001B[38;5;124m\"\u001B[39m\u001B[38;5;124mcdf\u001B[39m\u001B[38;5;124m\"\u001B[39m):\n\u001B[0;32m      8\u001B[0m     sol \u001B[38;5;241m=\u001B[39m model\u001B[38;5;241m.\u001B[39msolve(condition)\n\u001B[1;32m----> 9\u001B[0m     \u001B[38;5;28;01mreturn\u001B[39;00m \u001B[43mpd\u001B[49m\u001B[38;5;241;43m.\u001B[39;49m\u001B[43mDataFrame\u001B[49m\u001B[43m(\u001B[49m\u001B[43m{\u001B[49m\u001B[38;5;124;43m\"\u001B[39;49m\u001B[38;5;124;43mtta_0\u001B[39;49m\u001B[38;5;124;43m\"\u001B[39;49m\u001B[43m:\u001B[49m\u001B[43m \u001B[49m\u001B[43mcondition\u001B[49m\u001B[43m[\u001B[49m\u001B[38;5;124;43m\"\u001B[39;49m\u001B[38;5;124;43mtta_0\u001B[39;49m\u001B[38;5;124;43m\"\u001B[39;49m\u001B[43m]\u001B[49m\u001B[43m,\u001B[49m\n\u001B[0;32m     10\u001B[0m \u001B[43m                         \u001B[49m\u001B[38;5;124;43m\"\u001B[39;49m\u001B[38;5;124;43md_0\u001B[39;49m\u001B[38;5;124;43m\"\u001B[39;49m\u001B[43m:\u001B[49m\u001B[43m  \u001B[49m\u001B[43mcondition\u001B[49m\u001B[43m[\u001B[49m\u001B[38;5;124;43m\"\u001B[39;49m\u001B[38;5;124;43md_0\u001B[39;49m\u001B[38;5;124;43m\"\u001B[39;49m\u001B[43m]\u001B[49m\u001B[43m,\u001B[49m\n\u001B[0;32m     11\u001B[0m \u001B[43m                         \u001B[49m\u001B[38;5;124;43m\"\u001B[39;49m\u001B[38;5;124;43ma_values\u001B[39;49m\u001B[38;5;124;43m\"\u001B[39;49m\u001B[43m:\u001B[49m\u001B[43m \u001B[49m\u001B[43mcondition\u001B[49m\u001B[43m[\u001B[49m\u001B[38;5;124;43m\"\u001B[39;49m\u001B[38;5;124;43ma_values\u001B[39;49m\u001B[38;5;124;43m\"\u001B[39;49m\u001B[43m]\u001B[49m\u001B[43m,\u001B[49m\n\u001B[0;32m     12\u001B[0m \u001B[43m                         \u001B[49m\u001B[38;5;124;43m\"\u001B[39;49m\u001B[38;5;124;43mt\u001B[39;49m\u001B[38;5;124;43m\"\u001B[39;49m\u001B[43m:\u001B[49m\u001B[43m \u001B[49m\u001B[43mmodel\u001B[49m\u001B[38;5;241;43m.\u001B[39;49m\u001B[43mt_domain\u001B[49m\u001B[43m(\u001B[49m\u001B[43m)\u001B[49m\u001B[43m,\u001B[49m\n\u001B[0;32m     13\u001B[0m \u001B[43m                         \u001B[49m\u001B[38;5;124;43m\"\u001B[39;49m\u001B[38;5;124;43mrt_corr_distr\u001B[39;49m\u001B[38;5;124;43m\"\u001B[39;49m\u001B[43m:\u001B[49m\u001B[43m \u001B[49m\u001B[43m(\u001B[49m\u001B[43msol\u001B[49m\u001B[38;5;241;43m.\u001B[39;49m\u001B[43mcdf_corr\u001B[49m\u001B[43m(\u001B[49m\u001B[43m)\u001B[49m\u001B[43m \u001B[49m\u001B[38;5;28;43;01mif\u001B[39;49;00m\u001B[43m \u001B[49m\u001B[43mkind\u001B[49m\u001B[38;5;241;43m==\u001B[39;49m\u001B[38;5;124;43m\"\u001B[39;49m\u001B[38;5;124;43mcdf\u001B[39;49m\u001B[38;5;124;43m\"\u001B[39;49m\u001B[43m \u001B[49m\u001B[38;5;28;43;01melse\u001B[39;49;00m\u001B[43m \u001B[49m\u001B[43msol\u001B[49m\u001B[38;5;241;43m.\u001B[39;49m\u001B[43mpdf_corr\u001B[49m\u001B[43m(\u001B[49m\u001B[43m)\u001B[49m\u001B[43m)\u001B[49m\u001B[38;5;241;43m/\u001B[39;49m\u001B[43msol\u001B[49m\u001B[38;5;241;43m.\u001B[39;49m\u001B[43mprob_correct\u001B[49m\u001B[43m(\u001B[49m\u001B[43m)\u001B[49m\u001B[43m,\u001B[49m\n\u001B[0;32m     14\u001B[0m \u001B[43m                         \u001B[49m\u001B[38;5;124;43m\"\u001B[39;49m\u001B[38;5;124;43mrt_error_distr\u001B[39;49m\u001B[38;5;124;43m\"\u001B[39;49m\u001B[43m:\u001B[49m\u001B[43m \u001B[49m\u001B[43m(\u001B[49m\u001B[43msol\u001B[49m\u001B[38;5;241;43m.\u001B[39;49m\u001B[43mcdf_err\u001B[49m\u001B[43m(\u001B[49m\u001B[43m)\u001B[49m\u001B[43m \u001B[49m\u001B[38;5;28;43;01mif\u001B[39;49;00m\u001B[43m \u001B[49m\u001B[43mkind\u001B[49m\u001B[38;5;241;43m==\u001B[39;49m\u001B[38;5;124;43m\"\u001B[39;49m\u001B[38;5;124;43mcdf\u001B[39;49m\u001B[38;5;124;43m\"\u001B[39;49m\u001B[43m \u001B[49m\u001B[38;5;28;43;01melse\u001B[39;49;00m\u001B[43m \u001B[49m\u001B[43msol\u001B[49m\u001B[38;5;241;43m.\u001B[39;49m\u001B[43mpdf_err\u001B[49m\u001B[43m(\u001B[49m\u001B[43m)\u001B[49m\u001B[43m)\u001B[49m\u001B[38;5;241;43m/\u001B[39;49m\u001B[43msol\u001B[49m\u001B[38;5;241;43m.\u001B[39;49m\u001B[43mprob_error\u001B[49m\u001B[43m(\u001B[49m\u001B[43m)\u001B[49m\u001B[43m}\u001B[49m\u001B[43m)\u001B[49m\n",
      "File \u001B[1;32mD:\\source\\cognitive-av\\venv\\lib\\site-packages\\pandas\\core\\frame.py:663\u001B[0m, in \u001B[0;36mDataFrame.__init__\u001B[1;34m(self, data, index, columns, dtype, copy)\u001B[0m\n\u001B[0;32m    657\u001B[0m     mgr \u001B[38;5;241m=\u001B[39m \u001B[38;5;28mself\u001B[39m\u001B[38;5;241m.\u001B[39m_init_mgr(\n\u001B[0;32m    658\u001B[0m         data, axes\u001B[38;5;241m=\u001B[39m{\u001B[38;5;124m\"\u001B[39m\u001B[38;5;124mindex\u001B[39m\u001B[38;5;124m\"\u001B[39m: index, \u001B[38;5;124m\"\u001B[39m\u001B[38;5;124mcolumns\u001B[39m\u001B[38;5;124m\"\u001B[39m: columns}, dtype\u001B[38;5;241m=\u001B[39mdtype, copy\u001B[38;5;241m=\u001B[39mcopy\n\u001B[0;32m    659\u001B[0m     )\n\u001B[0;32m    661\u001B[0m \u001B[38;5;28;01melif\u001B[39;00m \u001B[38;5;28misinstance\u001B[39m(data, \u001B[38;5;28mdict\u001B[39m):\n\u001B[0;32m    662\u001B[0m     \u001B[38;5;66;03m# GH#38939 de facto copy defaults to False only in non-dict cases\u001B[39;00m\n\u001B[1;32m--> 663\u001B[0m     mgr \u001B[38;5;241m=\u001B[39m \u001B[43mdict_to_mgr\u001B[49m\u001B[43m(\u001B[49m\u001B[43mdata\u001B[49m\u001B[43m,\u001B[49m\u001B[43m \u001B[49m\u001B[43mindex\u001B[49m\u001B[43m,\u001B[49m\u001B[43m \u001B[49m\u001B[43mcolumns\u001B[49m\u001B[43m,\u001B[49m\u001B[43m \u001B[49m\u001B[43mdtype\u001B[49m\u001B[38;5;241;43m=\u001B[39;49m\u001B[43mdtype\u001B[49m\u001B[43m,\u001B[49m\u001B[43m \u001B[49m\u001B[43mcopy\u001B[49m\u001B[38;5;241;43m=\u001B[39;49m\u001B[43mcopy\u001B[49m\u001B[43m,\u001B[49m\u001B[43m \u001B[49m\u001B[43mtyp\u001B[49m\u001B[38;5;241;43m=\u001B[39;49m\u001B[43mmanager\u001B[49m\u001B[43m)\u001B[49m\n\u001B[0;32m    664\u001B[0m \u001B[38;5;28;01melif\u001B[39;00m \u001B[38;5;28misinstance\u001B[39m(data, ma\u001B[38;5;241m.\u001B[39mMaskedArray):\n\u001B[0;32m    665\u001B[0m     \u001B[38;5;28;01mimport\u001B[39;00m \u001B[38;5;21;01mnumpy\u001B[39;00m\u001B[38;5;21;01m.\u001B[39;00m\u001B[38;5;21;01mma\u001B[39;00m\u001B[38;5;21;01m.\u001B[39;00m\u001B[38;5;21;01mmrecords\u001B[39;00m \u001B[38;5;28;01mas\u001B[39;00m \u001B[38;5;21;01mmrecords\u001B[39;00m\n",
      "File \u001B[1;32mD:\\source\\cognitive-av\\venv\\lib\\site-packages\\pandas\\core\\internals\\construction.py:494\u001B[0m, in \u001B[0;36mdict_to_mgr\u001B[1;34m(data, index, columns, dtype, typ, copy)\u001B[0m\n\u001B[0;32m    490\u001B[0m     \u001B[38;5;28;01melse\u001B[39;00m:\n\u001B[0;32m    491\u001B[0m         \u001B[38;5;66;03m# dtype check to exclude e.g. range objects, scalars\u001B[39;00m\n\u001B[0;32m    492\u001B[0m         arrays \u001B[38;5;241m=\u001B[39m [x\u001B[38;5;241m.\u001B[39mcopy() \u001B[38;5;28;01mif\u001B[39;00m \u001B[38;5;28mhasattr\u001B[39m(x, \u001B[38;5;124m\"\u001B[39m\u001B[38;5;124mdtype\u001B[39m\u001B[38;5;124m\"\u001B[39m) \u001B[38;5;28;01melse\u001B[39;00m x \u001B[38;5;28;01mfor\u001B[39;00m x \u001B[38;5;129;01min\u001B[39;00m arrays]\n\u001B[1;32m--> 494\u001B[0m \u001B[38;5;28;01mreturn\u001B[39;00m \u001B[43marrays_to_mgr\u001B[49m\u001B[43m(\u001B[49m\u001B[43marrays\u001B[49m\u001B[43m,\u001B[49m\u001B[43m \u001B[49m\u001B[43mcolumns\u001B[49m\u001B[43m,\u001B[49m\u001B[43m \u001B[49m\u001B[43mindex\u001B[49m\u001B[43m,\u001B[49m\u001B[43m \u001B[49m\u001B[43mdtype\u001B[49m\u001B[38;5;241;43m=\u001B[39;49m\u001B[43mdtype\u001B[49m\u001B[43m,\u001B[49m\u001B[43m \u001B[49m\u001B[43mtyp\u001B[49m\u001B[38;5;241;43m=\u001B[39;49m\u001B[43mtyp\u001B[49m\u001B[43m,\u001B[49m\u001B[43m \u001B[49m\u001B[43mconsolidate\u001B[49m\u001B[38;5;241;43m=\u001B[39;49m\u001B[43mcopy\u001B[49m\u001B[43m)\u001B[49m\n",
      "File \u001B[1;32mD:\\source\\cognitive-av\\venv\\lib\\site-packages\\pandas\\core\\internals\\construction.py:119\u001B[0m, in \u001B[0;36marrays_to_mgr\u001B[1;34m(arrays, columns, index, dtype, verify_integrity, typ, consolidate)\u001B[0m\n\u001B[0;32m    116\u001B[0m \u001B[38;5;28;01mif\u001B[39;00m verify_integrity:\n\u001B[0;32m    117\u001B[0m     \u001B[38;5;66;03m# figure out the index, if necessary\u001B[39;00m\n\u001B[0;32m    118\u001B[0m     \u001B[38;5;28;01mif\u001B[39;00m index \u001B[38;5;129;01mis\u001B[39;00m \u001B[38;5;28;01mNone\u001B[39;00m:\n\u001B[1;32m--> 119\u001B[0m         index \u001B[38;5;241m=\u001B[39m \u001B[43m_extract_index\u001B[49m\u001B[43m(\u001B[49m\u001B[43marrays\u001B[49m\u001B[43m)\u001B[49m\n\u001B[0;32m    120\u001B[0m     \u001B[38;5;28;01melse\u001B[39;00m:\n\u001B[0;32m    121\u001B[0m         index \u001B[38;5;241m=\u001B[39m ensure_index(index)\n",
      "File \u001B[1;32mD:\\source\\cognitive-av\\venv\\lib\\site-packages\\pandas\\core\\internals\\construction.py:667\u001B[0m, in \u001B[0;36m_extract_index\u001B[1;34m(data)\u001B[0m\n\u001B[0;32m    665\u001B[0m lengths \u001B[38;5;241m=\u001B[39m \u001B[38;5;28mlist\u001B[39m(\u001B[38;5;28mset\u001B[39m(raw_lengths))\n\u001B[0;32m    666\u001B[0m \u001B[38;5;28;01mif\u001B[39;00m \u001B[38;5;28mlen\u001B[39m(lengths) \u001B[38;5;241m>\u001B[39m \u001B[38;5;241m1\u001B[39m:\n\u001B[1;32m--> 667\u001B[0m     \u001B[38;5;28;01mraise\u001B[39;00m \u001B[38;5;167;01mValueError\u001B[39;00m(\u001B[38;5;124m\"\u001B[39m\u001B[38;5;124mAll arrays must be of the same length\u001B[39m\u001B[38;5;124m\"\u001B[39m)\n\u001B[0;32m    669\u001B[0m \u001B[38;5;28;01mif\u001B[39;00m have_dicts:\n\u001B[0;32m    670\u001B[0m     \u001B[38;5;28;01mraise\u001B[39;00m \u001B[38;5;167;01mValueError\u001B[39;00m(\n\u001B[0;32m    671\u001B[0m         \u001B[38;5;124m\"\u001B[39m\u001B[38;5;124mMixing dicts with non-Series may lead to ambiguous ordering.\u001B[39m\u001B[38;5;124m\"\u001B[39m\n\u001B[0;32m    672\u001B[0m     )\n",
      "\u001B[1;31mValueError\u001B[0m: All arrays must be of the same length"
     ]
    }
   ],
   "source": [
    "save_sim_results(model_no=3, file_name=\"subj_all_parameters_fitted.csv\", conditions=conditions, cross_validation=False,\n",
    "                 ret=\"rt_cdf\")"
   ],
   "metadata": {
    "collapsed": false,
    "pycharm": {
     "name": "#%%\n"
    }
   }
  },
  {
   "cell_type": "code",
   "execution_count": 10,
   "outputs": [],
   "source": [
    "conditions_v2 = [{\"tta_0\": tta_0, \"d_0\": d_0, \"a_1\": a_1, \"a_2\": a_2}\n",
    "              for tta_0 in np.linspace(4, 6, 9)\n",
    "              for d_0 in np.linspace(70, 90, 3)\n",
    "              for a_1 in (-4, 0., 4)\n",
    "              for a_2 in (-4, 0., 4)]"
   ],
   "metadata": {
    "collapsed": false,
    "pycharm": {
     "name": "#%%\n"
    }
   }
  },
  {
   "cell_type": "code",
   "execution_count": 11,
   "outputs": [
    {
     "ename": "ValueError",
     "evalue": "Wrong model_no",
     "output_type": "error",
     "traceback": [
      "\u001B[1;31m---------------------------------------------------------------------------\u001B[0m",
      "\u001B[1;31mValueError\u001B[0m                                Traceback (most recent call last)",
      "Input \u001B[1;32mIn [11]\u001B[0m, in \u001B[0;36m<cell line: 1>\u001B[1;34m()\u001B[0m\n\u001B[1;32m----> 1\u001B[0m \u001B[43msave_sim_results\u001B[49m\u001B[43m(\u001B[49m\u001B[43mmodel_no\u001B[49m\u001B[38;5;241;43m=\u001B[39;49m\u001B[38;5;241;43m4\u001B[39;49m\u001B[43m,\u001B[49m\u001B[43m \u001B[49m\u001B[43mfile_name\u001B[49m\u001B[38;5;241;43m=\u001B[39;49m\u001B[38;5;124;43m\"\u001B[39;49m\u001B[38;5;124;43msubj_all_parameters_fitted.csv\u001B[39;49m\u001B[38;5;124;43m\"\u001B[39;49m\u001B[43m,\u001B[49m\u001B[43m \u001B[49m\u001B[43mconditions\u001B[49m\u001B[38;5;241;43m=\u001B[39;49m\u001B[43mconditions_v2\u001B[49m\u001B[43m,\u001B[49m\u001B[43m \u001B[49m\u001B[43mcross_validation\u001B[49m\u001B[38;5;241;43m=\u001B[39;49m\u001B[38;5;28;43;01mFalse\u001B[39;49;00m\u001B[43m,\u001B[49m\n\u001B[0;32m      2\u001B[0m \u001B[43m                 \u001B[49m\u001B[43mret\u001B[49m\u001B[38;5;241;43m=\u001B[39;49m\u001B[38;5;124;43m\"\u001B[39;49m\u001B[38;5;124;43mmeasures\u001B[39;49m\u001B[38;5;124;43m\"\u001B[39;49m\u001B[43m)\u001B[49m\n",
      "Input \u001B[1;32mIn [3]\u001B[0m, in \u001B[0;36msave_sim_results\u001B[1;34m(model_no, file_name, conditions, cross_validation, ret)\u001B[0m\n\u001B[0;32m      3\u001B[0m     model_name \u001B[38;5;241m=\u001B[39m \u001B[38;5;124m\"\u001B[39m\u001B[38;5;124mdrift_tta_distance\u001B[39m\u001B[38;5;124m\"\u001B[39m\n\u001B[0;32m      4\u001B[0m \u001B[38;5;66;03m# elif model_no == 2:\u001B[39;00m\n\u001B[0;32m      5\u001B[0m \u001B[38;5;66;03m#     model_name = \"gaze_dependent_model\"\u001B[39;00m\n\u001B[0;32m      6\u001B[0m \u001B[38;5;66;03m# elif model_no == 3:\u001B[39;00m\n\u001B[0;32m      7\u001B[0m \u001B[38;5;66;03m#     model_name = \"gaze_dependent_bound_generalized_gap_model\"\u001B[39;00m\n\u001B[0;32m      8\u001B[0m \u001B[38;5;28;01melse\u001B[39;00m:\n\u001B[1;32m----> 9\u001B[0m     \u001B[38;5;28;01mraise\u001B[39;00m \u001B[38;5;167;01mValueError\u001B[39;00m(\u001B[38;5;124m\"\u001B[39m\u001B[38;5;124mWrong model_no\u001B[39m\u001B[38;5;124m\"\u001B[39m)\n\u001B[0;32m     11\u001B[0m path \u001B[38;5;241m=\u001B[39m os\u001B[38;5;241m.\u001B[39mpath\u001B[38;5;241m.\u001B[39mjoin(\u001B[38;5;124m\"\u001B[39m\u001B[38;5;124mfit_results\u001B[39m\u001B[38;5;124m\"\u001B[39m, model_name)\n\u001B[0;32m     12\u001B[0m parameters \u001B[38;5;241m=\u001B[39m pd\u001B[38;5;241m.\u001B[39mread_csv(os\u001B[38;5;241m.\u001B[39mpath\u001B[38;5;241m.\u001B[39mjoin(path, file_name))\n",
      "\u001B[1;31mValueError\u001B[0m: Wrong model_no"
     ]
    }
   ],
   "source": [
    "save_sim_results(model_no=4, file_name=\"subj_all_parameters_fitted.csv\", conditions=conditions_v2, cross_validation=False,\n",
    "                 ret=\"measures\")"
   ],
   "metadata": {
    "collapsed": false,
    "pycharm": {
     "name": "#%%\n"
    }
   }
  }
 ],
 "metadata": {
  "kernelspec": {
   "display_name": "Python 3 (ipykernel)",
   "language": "python",
   "name": "python3"
  },
  "language_info": {
   "codemirror_mode": {
    "name": "ipython",
    "version": 3
   },
   "file_extension": ".py",
   "mimetype": "text/x-python",
   "name": "python",
   "nbconvert_exporter": "python",
   "pygments_lexer": "ipython3",
   "version": "3.9.7"
  }
 },
 "nbformat": 4,
 "nbformat_minor": 1
}