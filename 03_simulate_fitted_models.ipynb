{
 "cells": [
  {
   "cell_type": "code",
   "execution_count": 1,
   "metadata": {
    "pycharm": {
     "name": "#%%\n"
    }
   },
   "outputs": [],
   "source": [
    "import numpy as np\n",
    "import pandas as pd\n",
    "import pyddm\n",
    "import os\n",
    "import models"
   ]
  },
  {
   "cell_type": "code",
   "execution_count": 10,
   "metadata": {
    "collapsed": true
   },
   "outputs": [],
   "source": [
    "def get_model_measures(model, condition):\n",
    "    sol = model.solve(condition)\n",
    "    mean_rt_error = np.sum(sol.pdf_err()*model.t_domain())*model.dt / sol.prob_error()\n",
    "    return condition[\"tta_0\"], condition[\"d_0\"], condition[\"a_values\"], condition[\"a_duration\"],\\\n",
    "           sol.prob_correct(), sol.mean_decision_time(), mean_rt_error\n",
    "\n",
    "def get_model_rt_distr(model, condition, kind=\"cdf\"):\n",
    "    sol = model.solve(condition)\n",
    "    return pd.DataFrame({\"tta_0\": condition[\"tta_0\"],\n",
    "                         \"d_0\": condition[\"d_0\"],\n",
    "                         \"a_values\": condition[\"a_values\"],\n",
    "                         \"a_duration\": condition[\"a_duration\"],\n",
    "                         \"t\": model.t_domain(),\n",
    "                         \"rt_corr_distr\": (sol.cdf_corr() if kind==\"cdf\" else sol.pdf_corr())/sol.prob_correct(),\n",
    "                         \"rt_error_distr\": (sol.cdf_err() if kind==\"cdf\" else sol.pdf_err())/sol.prob_error()})\n",
    "\n",
    "def initialize_model(model_no, param_set):\n",
    "    overlay = models.OverlayNonDecisionGaussian(ndt_location=param_set.ndt_location, ndt_scale=param_set.ndt_scale)\n",
    "    bound = models.BoundCollapsingTta(b_0=param_set.b_0, k=param_set.k, tta_crit=param_set.tta_crit)\n",
    "    drift = models.DriftAccelerationDependent(alpha=param_set.alpha, beta_d=param_set.beta_d, beta_a=param_set.beta_a, theta=param_set.theta)\n",
    "\n",
    "    model = pyddm.Model(name=\"Model %i\" % model_no, drift=drift, bound=bound, overlay=overlay,\n",
    "                      noise=pyddm.NoiseConstant(noise=1), T_dur=models.ModelAccelerationDependent.T_dur)\n",
    "\n",
    "    return model\n",
    "\n",
    "def simulate_model(model_no, param_set, conditions, ret=\"measures\"):\n",
    "    \"\"\"\n",
    "    Set ret to \"measures\" or \"rt_cdf\" or \"rt_pdf\" for saving p_turn and mean RT or RT CDF or RT PDF\n",
    "    \"\"\"\n",
    "    model = initialize_model(model_no, param_set)\n",
    "\n",
    "    if ret==\"measures\":\n",
    "        sim_result = pd.DataFrame([get_model_measures(model, condition) for condition in conditions],\n",
    "                                  columns=[\"tta_0\", \"d_0\", \"a_values\", \"a_duration\", \"is_gap_accepted\", \"RT_go\", \"RT_stay\"])\n",
    "    else:\n",
    "        sim_result = pd.concat([get_model_rt_distr(model, condition, kind=ret[-3:]) for condition in conditions])\n",
    "    sim_result[\"subj_id\"] = param_set.subj_id\n",
    "    return sim_result"
   ]
  },
  {
   "cell_type": "code",
   "execution_count": 22,
   "metadata": {
    "pycharm": {
     "name": "#%%\n"
    }
   },
   "outputs": [],
   "source": [
    "def save_sim_results(model_no, file_name, parameters=None, conditions=None, cross_validation=False, ret=\"measures\", prefix=\"\"):\n",
    "    model_name = \"model_acceleration_dependent\"\n",
    "\n",
    "    if cross_validation:\n",
    "        model_name += \"_cross_validation\"\n",
    "\n",
    "    path = os.path.join(\"modeling/fit_results_excluded_nan_rt\", model_name)\n",
    "\n",
    "    if parameters is None:\n",
    "        parameters = pd.read_csv(os.path.join(path, file_name))\n",
    "\n",
    "    sim_results = [simulate_model(model_no, param_set, conditions, ret=ret)\n",
    "                   for idx, param_set in parameters.iterrows()]\n",
    "\n",
    "    sim_results = pd.concat(sim_results)\n",
    "    sim_results.to_csv(os.path.join(path, (prefix+file_name).replace(\"parameters_fitted\", \"sim_\" + ret)), index=False)"
   ]
  },
  {
   "cell_type": "code",
   "execution_count": 12,
   "metadata": {
    "pycharm": {
     "name": "#%%\n"
    }
   },
   "outputs": [],
   "source": [
    "conditions = [{\"tta_0\": tta_0, \"d_0\": d_0, \"a_values\": a_values, \"a_duration\": a_duration}\n",
    "              for tta_0 in np.linspace(4, 6, 9)\n",
    "              for d_0 in np.linspace(70, 90, 3)\n",
    "              for a_values in [(0., 0., 0., 0.),\n",
    "                               (0., 4, 4, 0.),\n",
    "                               (0., 4, -4, 0.),\n",
    "                               (0., -4, 4, 0.),\n",
    "                               (0., -4, -4, 0.)]\n",
    "              for a_duration in [1.0]]"
   ]
  },
  {
   "cell_type": "markdown",
   "source": [
    "# Model parameters"
   ],
   "metadata": {
    "collapsed": false,
    "pycharm": {
     "name": "#%% md\n"
    }
   }
  },
  {
   "cell_type": "code",
   "execution_count": 13,
   "outputs": [],
   "source": [
    "path = \"modeling/fit_results_excluded_nan_rt/model_acceleration_dependent_cross_validation\"\n",
    "parameters = pd.read_csv(os.path.join(path, \"subj_all_parameters_fitted.csv\"))"
   ],
   "metadata": {
    "collapsed": false,
    "pycharm": {
     "name": "#%%\n"
    }
   }
  },
  {
   "cell_type": "code",
   "execution_count": 14,
   "outputs": [
    {
     "data": {
      "text/plain": "  subj_id         loss    alpha    beta_d    beta_a      theta       b_0  \\\n0     all  5544.163499  0.44495  0.143334  0.008694  14.288385  2.634552   \n\n         k  tta_crit  ndt_location  ndt_scale  \n0  0.01133  8.009755      0.019708   0.312318  ",
      "text/html": "<div>\n<style scoped>\n    .dataframe tbody tr th:only-of-type {\n        vertical-align: middle;\n    }\n\n    .dataframe tbody tr th {\n        vertical-align: top;\n    }\n\n    .dataframe thead th {\n        text-align: right;\n    }\n</style>\n<table border=\"1\" class=\"dataframe\">\n  <thead>\n    <tr style=\"text-align: right;\">\n      <th></th>\n      <th>subj_id</th>\n      <th>loss</th>\n      <th>alpha</th>\n      <th>beta_d</th>\n      <th>beta_a</th>\n      <th>theta</th>\n      <th>b_0</th>\n      <th>k</th>\n      <th>tta_crit</th>\n      <th>ndt_location</th>\n      <th>ndt_scale</th>\n    </tr>\n  </thead>\n  <tbody>\n    <tr>\n      <th>0</th>\n      <td>all</td>\n      <td>5544.163499</td>\n      <td>0.44495</td>\n      <td>0.143334</td>\n      <td>0.008694</td>\n      <td>14.288385</td>\n      <td>2.634552</td>\n      <td>0.01133</td>\n      <td>8.009755</td>\n      <td>0.019708</td>\n      <td>0.312318</td>\n    </tr>\n  </tbody>\n</table>\n</div>"
     },
     "execution_count": 14,
     "metadata": {},
     "output_type": "execute_result"
    }
   ],
   "source": [
    "parameters"
   ],
   "metadata": {
    "collapsed": false,
    "pycharm": {
     "name": "#%%\n"
    }
   }
  },
  {
   "cell_type": "markdown",
   "metadata": {
    "pycharm": {
     "name": "#%% md\n"
    }
   },
   "source": [
    "# Saving model-predicted measures"
   ]
  },
  {
   "cell_type": "code",
   "execution_count": 15,
   "outputs": [],
   "source": [
    "save_sim_results(model_no=3, file_name=\"subj_all_parameters_fitted.csv\", conditions=conditions, cross_validation=True, ret=\"measures\")"
   ],
   "metadata": {
    "collapsed": false,
    "pycharm": {
     "name": "#%%\n"
    }
   }
  },
  {
   "cell_type": "markdown",
   "source": [
    "# Testing the effects of $\\beta_a$"
   ],
   "metadata": {
    "collapsed": false,
    "pycharm": {
     "name": "#%% md\n"
    }
   }
  },
  {
   "cell_type": "code",
   "execution_count": 23,
   "outputs": [],
   "source": [
    "path = \"modeling/fit_results_excluded_nan_rt/model_acceleration_dependent_cross_validation\"\n",
    "parameters = pd.read_csv(os.path.join(path, \"subj_all_parameters_fitted.csv\"))\n",
    "parameters[\"beta_a\"] = 0\n",
    "\n",
    "save_sim_results(model_no=3, file_name=\"subj_all_parameters_fitted.csv\", parameters=parameters, conditions=conditions, cross_validation=True, ret=\"measures\", prefix=\"beta_a_0_\")"
   ],
   "metadata": {
    "collapsed": false,
    "pycharm": {
     "name": "#%%\n"
    }
   }
  },
  {
   "cell_type": "code",
   "execution_count": 25,
   "outputs": [],
   "source": [
    "path = \"modeling/fit_results_excluded_nan_rt/model_acceleration_dependent_cross_validation\"\n",
    "parameters = pd.read_csv(os.path.join(path, \"subj_all_parameters_fitted.csv\"))\n",
    "parameters[\"beta_a\"] = 1\n",
    "\n",
    "save_sim_results(model_no=3, file_name=\"subj_all_parameters_fitted.csv\", parameters=parameters, conditions=conditions, cross_validation=True, ret=\"measures\", prefix=\"beta_a_1_\")"
   ],
   "metadata": {
    "collapsed": false,
    "pycharm": {
     "name": "#%%\n"
    }
   }
  },
  {
   "cell_type": "markdown",
   "source": [
    "# Predicting the effect of other nudges"
   ],
   "metadata": {
    "collapsed": false,
    "pycharm": {
     "name": "#%% md\n"
    }
   }
  },
  {
   "cell_type": "code",
   "execution_count": 10,
   "outputs": [],
   "source": [
    "a_durations = np.linspace(0.1, 3.0, 11)\n",
    "a_magnitudes = np.linspace(0.0, 5.0, 11)\n",
    "\n",
    "conditions = [{\"tta_0\": 5, \"d_0\": 90, \"a_values\": (0.0, -a_magnitude, a_magnitude, 0.0), \"a_duration\": a_duration}\n",
    "              for a_duration in a_durations\n",
    "              for a_magnitude in a_magnitudes]"
   ],
   "metadata": {
    "collapsed": false,
    "pycharm": {
     "name": "#%%\n"
    }
   }
  },
  {
   "cell_type": "code",
   "execution_count": 11,
   "outputs": [],
   "source": [
    "save_sim_results(model_no=3, file_name=\"subj_all_parameters_fitted.csv\", conditions=conditions, cross_validation=True,\n",
    "                 ret=\"measures\", prefix=\"prediction_\")"
   ],
   "metadata": {
    "collapsed": false,
    "pycharm": {
     "name": "#%%\n"
    }
   }
  }
 ],
 "metadata": {
  "kernelspec": {
   "display_name": "Python 3 (ipykernel)",
   "language": "python",
   "name": "python3"
  },
  "language_info": {
   "codemirror_mode": {
    "name": "ipython",
    "version": 3
   },
   "file_extension": ".py",
   "mimetype": "text/x-python",
   "name": "python",
   "nbconvert_exporter": "python",
   "pygments_lexer": "ipython3",
   "version": "3.9.7"
  }
 },
 "nbformat": 4,
 "nbformat_minor": 1
}