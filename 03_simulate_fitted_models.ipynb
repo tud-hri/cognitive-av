{
 "cells": [
  {
   "cell_type": "code",
   "execution_count": 1,
   "metadata": {
    "pycharm": {
     "name": "#%%\n"
    },
    "ExecuteTime": {
     "end_time": "2023-08-28T21:11:58.730143700Z",
     "start_time": "2023-08-28T21:11:58.686641200Z"
    }
   },
   "outputs": [],
   "source": [
    "import numpy as np\n",
    "import pandas as pd\n",
    "import pyddm\n",
    "import os\n",
    "import models\n",
    "import utils"
   ]
  },
  {
   "cell_type": "code",
   "execution_count": 2,
   "metadata": {
    "collapsed": true,
    "ExecuteTime": {
     "end_time": "2023-08-28T21:11:58.767038700Z",
     "start_time": "2023-08-28T21:11:58.730143700Z"
    }
   },
   "outputs": [],
   "source": [
    "def get_model_measures(model, condition):\n",
    "    sol = model.solve(condition)\n",
    "    mean_rt_go = np.sum(sol.pdf(choice=\"Go\")*model.t_domain())*model.dt / sol.prob(choice=\"Go\")\n",
    "    mean_rt_stay = np.sum(sol.pdf(choice=\"Stay\")*model.t_domain())*model.dt / sol.prob(choice=\"Stay\")\n",
    "    \n",
    "    return condition[\"tta_0\"], condition[\"d_0\"], condition[\"a_values\"], condition[\"a_duration\"],\\\n",
    "           sol.prob(choice=\"Go\"), mean_rt_go, mean_rt_stay\n",
    "\n",
    "def get_model_rt_distr(model, condition, kind=\"cdf\"):\n",
    "    sol = model.solve(condition)\n",
    "    \n",
    "    return pd.DataFrame({\"tta_0\": condition[\"tta_0\"],\n",
    "                         \"d_0\": condition[\"d_0\"],\n",
    "                         \"a_values\": str(condition[\"a_values\"]),\n",
    "                         \"a_duration\": condition[\"a_duration\"],\n",
    "                         \"t\": model.t_domain(),\n",
    "                         \"rt_go_distr\": (sol.cdf(choice=\"Go\") if kind==\"cdf\" else sol.pdf(choice=\"Go\"))/sol.prob(choice=\"Go\"),\n",
    "                         \"rt_stay_distr\": (sol.cdf(choice=\"Stay\") if kind==\"cdf\" else sol.pdf(choice=\"Stay\"))/sol.prob(choice=\"Stay\")})\n",
    "\n",
    "def initialize_model(model_no, param_set, state_interpolators, T_dur):\n",
    "    overlay = models.OverlayNonDecisionGaussian(ndt_location=param_set.ndt_location, ndt_scale=param_set.ndt_scale)   \n",
    "    \n",
    "    # Initialize drift - it's always an instance of DriftAccelerationDependent, but for models 1 to 4 beta_a is set to 0 during fitting \n",
    "    if model_no in [1, 2, 3, 4]:\n",
    "        drift = models.DriftAccelerationDependent(alpha=param_set.alpha, beta_d=param_set.beta_d, beta_a=0, theta=param_set.theta, state_interpolators=state_interpolators)\n",
    "    elif model_no in [5, 6, 7, 8]:\n",
    "        drift = models.DriftAccelerationDependent(alpha=param_set.alpha, beta_d=param_set.beta_d, beta_a=param_set.beta_a, theta=param_set.theta, state_interpolators=state_interpolators)\n",
    "    \n",
    "    # Initialize bound - it's constant for models 1, 2, 5, 6 and collapsing with TTA for models 3, 4, 7, 8\n",
    "    if model_no in [1, 2, 5, 6]:\n",
    "        bound = pyddm.BoundConstant(B=param_set.B)\n",
    "    elif model_no in [3, 4, 7, 8]:\n",
    "        bound = models.BoundCollapsingTta(b_0=param_set.b_0, k=param_set.k, tta_crit=param_set.tta_crit, state_interpolators=state_interpolators)\n",
    "    \n",
    "    # Initialize IC - it's fixed at 0 for models 1, 3, 5, 7 and fittable for models 2, 4, 6, 8\n",
    "    if model_no in [1, 3, 5, 7]:\n",
    "        IC = pyddm.ICPointRatio(x0=0)\n",
    "    elif model_no in [2, 4, 6, 8]:\n",
    "        IC = pyddm.ICPointRatio(x0=param_set.x0)\n",
    "        \n",
    "    model = pyddm.Model(name=\"Model %i\" % model_no, drift=drift, bound=bound, overlay=overlay, IC=IC,\n",
    "                      noise=pyddm.NoiseConstant(noise=1), T_dur=T_dur, choice_names=(\"Go\", \"Stay\"))        \n",
    "    return model\n",
    "\n",
    "def simulate_model(model_no, param_set, conditions, ret=\"measures\", T_dur=4):\n",
    "    \"\"\"\n",
    "    Set ret to \"measures\" or \"rt_cdf\" or \"rt_pdf\" for saving p_turn and mean RT or RT CDF or RT PDF\n",
    "    \"\"\"\n",
    "    state_interpolators = models.get_state_interpolators(conditions=conditions)\n",
    "    model = initialize_model(model_no, param_set, state_interpolators, T_dur)\n",
    "    if ret==\"measures\":\n",
    "        sim_result = pd.DataFrame([get_model_measures(model, condition) for condition in conditions],\n",
    "                                  columns=[\"tta_0\", \"d_0\", \"a_values\", \"a_duration\", \"is_go_decision\", \"RT_go\", \"RT_stay\"])\n",
    "    elif ((ret==\"rt_cdf\") | (ret==\"rt_pdf\")):\n",
    "        sim_result = pd.concat([get_model_rt_distr(model, condition, kind=ret[-3:]) for condition in conditions])\n",
    "    else:\n",
    "        raise Exception(\"ret should be either 'measures' or 'rt_cdf' or 'rt_pdf'\")\n",
    "    sim_result[\"subj_id\"] = param_set.subj_id\n",
    "    return sim_result"
   ]
  },
  {
   "cell_type": "code",
   "execution_count": 9,
   "metadata": {
    "pycharm": {
     "name": "#%%\n"
    },
    "ExecuteTime": {
     "end_time": "2023-08-28T21:15:59.538719Z",
     "start_time": "2023-08-28T21:15:59.521721900Z"
    }
   },
   "outputs": [],
   "source": [
    "def save_sim_results(loss, model_no, parameters=None, conditions=None, ret=\"measures\", prefix=\"\", T_dur=4):\n",
    "    file_name=\"subj_all_parameters_fitted.csv\"\n",
    "    path = os.path.join(\"modeling/fit_results_%s\" % (loss), \"model_%i\" % (model_no))\n",
    "\n",
    "    if parameters is None:\n",
    "        parameters = pd.read_csv(os.path.join(path, file_name))\n",
    "\n",
    "    sim_results = [simulate_model(model_no, param_set, conditions, ret=ret, T_dur=T_dur)\n",
    "                   for idx, param_set in parameters.iterrows()]\n",
    "\n",
    "    sim_results = pd.concat(sim_results)\n",
    "    sim_results.to_csv(os.path.join(path, (prefix + file_name).replace(\"parameters_fitted\", \"sim_\" + ret)), index=False)"
   ]
  },
  {
   "cell_type": "markdown",
   "metadata": {
    "pycharm": {
     "name": "#%% md\n"
    }
   },
   "source": [
    "# Saving model-predicted measures"
   ]
  },
  {
   "cell_type": "code",
   "execution_count": 18,
   "outputs": [],
   "source": [
    "loss = \"bic\"\n",
    "for model_no in range(1, 9):\n",
    "    save_sim_results(loss=loss, model_no=model_no, conditions=models.get_conditions(), ret=\"measures\", T_dur=4)"
   ],
   "metadata": {
    "collapsed": false,
    "ExecuteTime": {
     "end_time": "2023-08-28T23:22:37.923986700Z",
     "start_time": "2023-08-28T23:22:30.306222600Z"
    }
   }
  },
  {
   "cell_type": "code",
   "execution_count": 13,
   "outputs": [],
   "source": [
    "save_sim_results(loss=loss, model_no=2, conditions=models.get_conditions(), ret=\"rt_pdf\", T_dur=4)"
   ],
   "metadata": {
    "collapsed": false,
    "ExecuteTime": {
     "end_time": "2023-08-28T21:18:29.018861600Z",
     "start_time": "2023-08-28T21:18:27.947899700Z"
    }
   }
  },
  {
   "cell_type": "code",
   "execution_count": 13,
   "outputs": [],
   "source": [
    "save_sim_results(loss=\"vincent\", model_no=2, conditions=models.get_conditions(), ret=\"measures\")"
   ],
   "metadata": {
    "collapsed": false,
    "ExecuteTime": {
     "start_time": "2023-08-27T19:39:14.882265100Z"
    }
   }
  },
  {
   "cell_type": "markdown",
   "source": [
    "# Predicting the effect of other nudges"
   ],
   "metadata": {
    "collapsed": false,
    "pycharm": {
     "name": "#%% md\n"
    }
   }
  },
  {
   "cell_type": "code",
   "execution_count": 14,
   "outputs": [],
   "source": [
    "a_durations = np.linspace(0.1, 2.0, 11)\n",
    "a_magnitudes = np.linspace(0.0, 5.0, 11)\n",
    "\n",
    "conditions = [{\"tta_0\": 6, \"d_0\": 90, \"a_values\": (0.0, -a_magnitude, a_magnitude, 0.0), \"a_duration\": a_duration}\n",
    "              for a_duration in a_durations\n",
    "              for a_magnitude in a_magnitudes]"
   ],
   "metadata": {
    "collapsed": false,
    "pycharm": {
     "name": "#%%\n"
    },
    "ExecuteTime": {
     "end_time": "2023-08-28T21:29:04.444670800Z",
     "start_time": "2023-08-28T21:29:04.415690300Z"
    }
   }
  },
  {
   "cell_type": "code",
   "execution_count": 15,
   "outputs": [],
   "source": [
    "loss = \"bic\"\n",
    "model_no = 2\n",
    "save_sim_results(loss=loss, model_no=model_no, conditions=conditions, ret=\"measures\", prefix=\"prediction_\", T_dur=4)"
   ],
   "metadata": {
    "collapsed": false,
    "pycharm": {
     "name": "#%%\n"
    },
    "ExecuteTime": {
     "end_time": "2023-08-28T21:29:17.087727500Z",
     "start_time": "2023-08-28T21:29:06.529313600Z"
    }
   }
  }
 ],
 "metadata": {
  "kernelspec": {
   "display_name": "Python 3 (ipykernel)",
   "language": "python",
   "name": "python3"
  },
  "language_info": {
   "codemirror_mode": {
    "name": "ipython",
    "version": 3
   },
   "file_extension": ".py",
   "mimetype": "text/x-python",
   "name": "python",
   "nbconvert_exporter": "python",
   "pygments_lexer": "ipython3",
   "version": "3.9.7"
  }
 },
 "nbformat": 4,
 "nbformat_minor": 1
}
