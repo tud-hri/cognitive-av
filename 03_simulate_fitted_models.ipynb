{
 "cells": [
  {
   "cell_type": "code",
   "execution_count": 7,
   "metadata": {
    "pycharm": {
     "name": "#%%\n"
    }
   },
   "outputs": [],
   "source": [
    "import numpy as np\n",
    "import pandas as pd\n",
    "import pyddm\n",
    "import os\n",
    "import utils\n",
    "import models"
   ]
  },
  {
   "cell_type": "code",
   "execution_count": 14,
   "metadata": {
    "collapsed": true
   },
   "outputs": [],
   "source": [
    "def get_model_measures(model, condition):\n",
    "    # print(condition)\n",
    "    sol = model.solve(condition)\n",
    "    mean_rt_error = np.sum(sol.pdf_err()*model.t_domain())*model.dt / sol.prob_error()\n",
    "    # return condition[\"tta_0\"], condition[\"d_0\"], condition[\"a_1\"], condition[\"a_2\"], \\\n",
    "    #        sol.prob_correct(), sol.mean_decision_time(), mean_rt_error\n",
    "    return condition[\"tta_0\"], condition[\"d_0\"], condition[\"a_values\"], condition[\"a_duration\"],\\\n",
    "           sol.prob_correct(), sol.mean_decision_time(), mean_rt_error\n",
    "\n",
    "def get_model_rt_distr(model, condition, kind=\"cdf\"):\n",
    "    sol = model.solve(condition)\n",
    "    return pd.DataFrame({\"tta_0\": condition[\"tta_0\"],\n",
    "                         \"d_0\": condition[\"d_0\"],\n",
    "                         \"a_values\": condition[\"a_values\"],\n",
    "                         \"a_duration\": condition[\"a_duration\"],\n",
    "                         # \"a_1\": condition[\"a_1\"],\n",
    "                         # \"a_2\": condition[\"a_2\"],\n",
    "                         \"t\": model.t_domain(),\n",
    "                         \"rt_corr_distr\": (sol.cdf_corr() if kind==\"cdf\" else sol.pdf_corr())/sol.prob_correct(),\n",
    "                         \"rt_error_distr\": (sol.cdf_err() if kind==\"cdf\" else sol.pdf_err())/sol.prob_error()})\n",
    "\n",
    "def initialize_model(model_no, param_set):\n",
    "    overlay = models.OverlayNonDecisionGaussian(ndt_location=param_set.ndt_location, ndt_scale=param_set.ndt_scale)\n",
    "    bound = models.BoundCollapsingTta(b_0=param_set.b_0, k=param_set.k, tta_crit=param_set.tta_crit)\n",
    "\n",
    "    if model_no == 1:\n",
    "        # drift only depends on TTA and distance (2020 version)\n",
    "        drift = models.DriftTtaDistance(alpha=param_set.alpha, beta_d=param_set.beta_d, theta=param_set.theta)\n",
    "    if model_no == 2:\n",
    "        # same as model 1 but dynamic calculation of tta and d\n",
    "        drift = models.DriftFixedAcceleration(alpha=param_set.alpha, beta_d=param_set.beta_d, theta=param_set.theta)\n",
    "    elif model_no == 3:\n",
    "        # acceleration-dependent drift; acceleration condition implemented as a vector\n",
    "        drift = models.DriftAccelerationDependent(alpha=param_set.alpha, beta_d=param_set.beta_d, beta_a=param_set.beta_a, theta=param_set.theta)\n",
    "    elif model_no == 4:\n",
    "        # acceleration-dependent drift; acceleration condition implemented as a vector\n",
    "        drift = models.DriftAccelerationDependent_v2(alpha=param_set.alpha, beta_d=param_set.beta_d,\n",
    "                                                     beta_a=param_set.beta_a, theta=param_set.theta)\n",
    "    else:\n",
    "        model = None\n",
    "\n",
    "    model = pyddm.Model(name=\"Model %i\" % model_no, drift=drift, bound=bound, overlay=overlay,\n",
    "                      noise=pyddm.NoiseConstant(noise=1), T_dur=models.ModelTtaDistance.T_dur)\n",
    "\n",
    "    return model\n",
    "\n",
    "def simulate_model(model_no, param_set, conditions, ret=\"measures\"):\n",
    "    \"\"\"\n",
    "    Set ret to \"measures\" or \"rt_cdf\" or \"rt_pdf\" for saving p_turn and mean RT or RT CDF or RT PDF\n",
    "    \"\"\"\n",
    "    model = initialize_model(model_no, param_set)\n",
    "\n",
    "    if ret==\"measures\":\n",
    "        sim_result = pd.DataFrame([get_model_measures(model, condition) for condition in conditions],\n",
    "                                  # columns=[\"tta_0\", \"d_0\", \"a_1\", \"a_2\", \"is_gap_accepted\", \"RT_go\", \"RT_stay\"])\n",
    "                                  columns=[\"tta_0\", \"d_0\", \"a_values\", \"a_duration\", \"is_gap_accepted\", \"RT_go\", \"RT_stay\"])\n",
    "    else:\n",
    "        sim_result = pd.concat([get_model_rt_distr(model, condition, kind=ret[-3:]) for condition in conditions])\n",
    "    sim_result[\"subj_id\"] = param_set.subj_id\n",
    "    return sim_result"
   ]
  },
  {
   "cell_type": "code",
   "execution_count": 15,
   "metadata": {
    "pycharm": {
     "name": "#%%\n"
    }
   },
   "outputs": [],
   "source": [
    "def save_sim_results(model_no, file_name, conditions=None, cross_validation=False, ret=\"measures\", prefix=\"\"):\n",
    "    if model_no == 1:\n",
    "        model_name = \"drift_tta_distance\"\n",
    "    elif model_no == 2:\n",
    "        model_name = \"drift_tta_distance_interp\"\n",
    "    elif model_no == 3:\n",
    "        model_name = \"model_acceleration_dependent\"\n",
    "    elif model_no == 4:\n",
    "        model_name = \"model_acceleration_dependent_v2\"\n",
    "    else:\n",
    "        raise ValueError(\"Wrong model_no\")\n",
    "\n",
    "    if cross_validation:\n",
    "        model_name += \"_cross_validation\"\n",
    "\n",
    "    path = os.path.join(\"modeling/fit_results_replaced_nan_rt\", model_name)\n",
    "    parameters = pd.read_csv(os.path.join(path, file_name))\n",
    "\n",
    "    sim_results = [simulate_model(model_no, param_set, conditions, ret=ret)\n",
    "                   for idx, param_set in parameters.iterrows()]\n",
    "\n",
    "    sim_results = pd.concat(sim_results)\n",
    "    sim_results.to_csv(os.path.join(path, (prefix+file_name).replace(\"parameters_fitted\", \"sim_\" + ret)), index=False)"
   ]
  },
  {
   "cell_type": "code",
   "execution_count": 16,
   "metadata": {
    "pycharm": {
     "name": "#%%\n"
    }
   },
   "outputs": [],
   "source": [
    "conditions = [{\"tta_0\": tta_0, \"d_0\": d_0, \"a_values\": a_values, \"a_duration\": a_duration}\n",
    "              for tta_0 in np.linspace(4, 6, 9)\n",
    "              for d_0 in np.linspace(70, 90, 3)\n",
    "              for a_values in [(0., 0., 0., 0.),\n",
    "                               (0., 4, 4, 0.),\n",
    "                               (0., 4, -4, 0.),\n",
    "                               (0., -4, 4, 0.),\n",
    "                               (0., -4, -4, 0.)]\n",
    "              for a_duration in [1.0]]"
   ]
  },
  {
   "cell_type": "markdown",
   "metadata": {
    "pycharm": {
     "name": "#%% md\n"
    }
   },
   "source": [
    "# measures"
   ]
  },
  {
   "cell_type": "code",
   "execution_count": 6,
   "metadata": {
    "pycharm": {
     "name": "#%%\n"
    }
   },
   "outputs": [],
   "source": [
    "save_sim_results(model_no=1, file_name=\"subj_all_parameters_fitted.csv\", conditions=conditions, cross_validation=False,\n",
    "                 ret=\"measures\")"
   ]
  },
  {
   "cell_type": "code",
   "execution_count": 14,
   "metadata": {
    "pycharm": {
     "name": "#%%\n"
    }
   },
   "outputs": [],
   "source": [
    "save_sim_results(model_no=2, file_name=\"subj_all_parameters_fitted.csv\", conditions=conditions, cross_validation=False,\n",
    "                 ret=\"measures\")"
   ]
  },
  {
   "cell_type": "code",
   "execution_count": 17,
   "metadata": {
    "pycharm": {
     "name": "#%%\n"
    }
   },
   "outputs": [],
   "source": [
    "save_sim_results(model_no=3, file_name=\"subj_all_parameters_fitted.csv\", conditions=conditions, cross_validation=False,\n",
    "                 ret=\"measures\")"
   ]
  },
  {
   "cell_type": "code",
   "execution_count": 18,
   "outputs": [],
   "source": [
    "save_sim_results(model_no=3, file_name=\"subj_all_parameters_fitted.csv\", conditions=conditions, cross_validation=True,\n",
    "                 ret=\"measures\")"
   ],
   "metadata": {
    "collapsed": false,
    "pycharm": {
     "name": "#%%\n"
    }
   }
  },
  {
   "cell_type": "markdown",
   "source": [
    "# Predictions"
   ],
   "metadata": {
    "collapsed": false,
    "pycharm": {
     "name": "#%% md\n"
    }
   }
  },
  {
   "cell_type": "code",
   "execution_count": 5,
   "outputs": [],
   "source": [
    "a_durations = np.linspace(0.1, 3.0, 11)\n",
    "a_magnitudes = np.linspace(0.0, 5.0, 11)\n",
    "\n",
    "conditions = [{\"tta_0\": 6, \"d_0\": 80, \"a_values\": (0.0, -a_magnitude, a_magnitude, 0.0), \"a_duration\": a_duration}\n",
    "              for a_duration in a_durations\n",
    "              for a_magnitude in a_magnitudes]"
   ],
   "metadata": {
    "collapsed": false,
    "pycharm": {
     "name": "#%%\n"
    }
   }
  },
  {
   "cell_type": "code",
   "execution_count": 6,
   "outputs": [],
   "source": [
    "save_sim_results(model_no=3, file_name=\"subj_all_parameters_fitted.csv\", conditions=conditions, cross_validation=False,\n",
    "                 ret=\"measures\", prefix=\"prediction_\")"
   ],
   "metadata": {
    "collapsed": false,
    "pycharm": {
     "name": "#%%\n"
    }
   }
  }
 ],
 "metadata": {
  "kernelspec": {
   "display_name": "Python 3 (ipykernel)",
   "language": "python",
   "name": "python3"
  },
  "language_info": {
   "codemirror_mode": {
    "name": "ipython",
    "version": 3
   },
   "file_extension": ".py",
   "mimetype": "text/x-python",
   "name": "python",
   "nbconvert_exporter": "python",
   "pygments_lexer": "ipython3",
   "version": "3.9.7"
  }
 },
 "nbformat": 4,
 "nbformat_minor": 1
}