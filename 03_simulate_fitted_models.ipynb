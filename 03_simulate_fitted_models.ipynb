{
 "cells": [
  {
   "cell_type": "code",
   "execution_count": 1,
   "metadata": {
    "pycharm": {
     "name": "#%%\n"
    },
    "ExecuteTime": {
     "end_time": "2023-08-22T09:27:28.367970400Z",
     "start_time": "2023-08-22T09:27:28.308979300Z"
    }
   },
   "outputs": [],
   "source": [
    "import numpy as np\n",
    "import pandas as pd\n",
    "import pyddm\n",
    "import os\n",
    "import models\n",
    "import utils"
   ]
  },
  {
   "cell_type": "code",
   "execution_count": 24,
   "metadata": {
    "collapsed": true,
    "ExecuteTime": {
     "end_time": "2023-08-22T09:57:23.060062100Z",
     "start_time": "2023-08-22T09:57:23.044064500Z"
    }
   },
   "outputs": [],
   "source": [
    "def get_model_measures(model, condition):\n",
    "    sol = model.solve(condition)\n",
    "    mean_rt_go = np.sum(sol.pdf(choice=\"Go\")*model.t_domain())*model.dt / sol.prob(choice=\"Go\")\n",
    "    mean_rt_stay = np.sum(sol.pdf(choice=\"Stay\")*model.t_domain())*model.dt / sol.prob(choice=\"Stay\")\n",
    "    \n",
    "    return condition[\"tta_0\"], condition[\"d_0\"], condition[\"a_values\"], condition[\"a_duration\"],\\\n",
    "           sol.prob(choice=\"Go\"), mean_rt_go, mean_rt_stay\n",
    "\n",
    "def get_model_rt_distr(model, condition, kind=\"cdf\"):\n",
    "    sol = model.solve(condition)\n",
    "    # n = len(model.t_domain())\n",
    "    \n",
    "    return pd.DataFrame({\"tta_0\": condition[\"tta_0\"],\n",
    "                         \"d_0\": condition[\"d_0\"],\n",
    "                         \"a_values\": str(condition[\"a_values\"]),\n",
    "                         \"a_duration\": condition[\"a_duration\"],\n",
    "                         \"t\": model.t_domain(),\n",
    "                         \"rt_go_distr\": (sol.cdf(choice=\"Go\") if kind==\"cdf\" else sol.pdf(choice=\"Go\"))/sol.prob(choice=\"Go\"),\n",
    "                         \"rt_stay_distr\": (sol.cdf(choice=\"Stay\") if kind==\"cdf\" else sol.pdf(choice=\"Stay\"))/sol.prob(choice=\"Stay\")})\n",
    "\n",
    "def initialize_model(model_no, param_set, state_interpolators):\n",
    "    overlay = models.OverlayNonDecisionGaussian(ndt_location=param_set.ndt_location, ndt_scale=param_set.ndt_scale)   \n",
    "    IC = pyddm.ICPointRatio(x0=param_set.x0)\n",
    "    \n",
    "    if model_no==1:\n",
    "        IC = pyddm.ICPointRatio(x0=0)\n",
    "        drift = models.DriftAccelerationDependent(alpha=param_set.alpha, beta_d=param_set.beta_d, beta_a=param_set.beta_a, theta=param_set.theta, state_interpolators=state_interpolators)\n",
    "        bound = models.BoundCollapsingTta(b_0=param_set.b_0, k=param_set.k, tta_crit=param_set.tta_crit, state_interpolators=state_interpolators)\n",
    "    if model_no==2:\n",
    "        drift = models.DriftAccelerationDependent(alpha=param_set.alpha, beta_d=param_set.beta_d, beta_a=param_set.beta_a, theta=param_set.theta, state_interpolators=state_interpolators)\n",
    "        bound = models.BoundCollapsingTta(b_0=param_set.b_0, k=param_set.k, tta_crit=param_set.tta_crit, state_interpolators=state_interpolators)\n",
    "    elif model_no==3:\n",
    "        drift = models.DriftAccelerationDependent(alpha=param_set.alpha, beta_d=param_set.beta_d, beta_a=param_set.beta_a, theta=param_set.theta, state_interpolators=state_interpolators)\n",
    "        bound = models.BoundCollapsingGeneralizedGap(b_0=param_set.b_0, k=param_set.k, alpha=param_set.alpha, beta_d=param_set.beta_d, \n",
    "                                                     beta_a=param_set.beta_a, theta=param_set.theta, state_interpolators=state_interpolators)\n",
    "    elif model_no==4:\n",
    "        bound = pyddm.BoundConstant(B=param_set.B)\n",
    "        drift = models.DriftAccelerationDependent(alpha=param_set.alpha, beta_d=param_set.beta_d, beta_a=0, theta=param_set.theta, state_interpolators=state_interpolators)\n",
    "    elif model_no==5:\n",
    "        bound = pyddm.BoundConstant(B=param_set.B)\n",
    "        drift = models.DriftAccelerationDependent(alpha=param_set.alpha, beta_d=param_set.beta_d, beta_a=param_set.beta_a, theta=param_set.theta, state_interpolators=state_interpolators)\n",
    "        \n",
    "    model = pyddm.Model(name=\"Model %i\" % model_no, drift=drift, bound=bound, overlay=overlay, IC=IC,\n",
    "                      noise=pyddm.NoiseConstant(noise=1), T_dur=models.ModelAccelerationDependent.T_dur, choice_names=(\"Go\", \"Stay\"))        \n",
    "    return model\n",
    "\n",
    "def simulate_model(model_no, param_set, conditions, ret=\"measures\"):\n",
    "    \"\"\"\n",
    "    Set ret to \"measures\" or \"rt_cdf\" or \"rt_pdf\" for saving p_turn and mean RT or RT CDF or RT PDF\n",
    "    \"\"\"\n",
    "    state_interpolators = utils.get_state_interpolators(conditions=conditions)\n",
    "    model = initialize_model(model_no, param_set, state_interpolators)\n",
    "    if ret==\"measures\":\n",
    "        sim_result = pd.DataFrame([get_model_measures(model, condition) for condition in conditions],\n",
    "                                  columns=[\"tta_0\", \"d_0\", \"a_values\", \"a_duration\", \"is_gap_accepted\", \"RT_go\", \"RT_stay\"])\n",
    "    elif ((ret==\"rt_cdf\") | (ret==\"rt_pdf\")):\n",
    "        sim_result = pd.concat([get_model_rt_distr(model, condition, kind=ret[-3:]) for condition in conditions])\n",
    "    else:\n",
    "        raise Exception(\"ret should be either 'measures' or 'rt_cdf' or 'rt_pdf'\")\n",
    "    sim_result[\"subj_id\"] = param_set.subj_id\n",
    "    return sim_result"
   ]
  },
  {
   "cell_type": "code",
   "execution_count": 31,
   "metadata": {
    "pycharm": {
     "name": "#%%\n"
    },
    "ExecuteTime": {
     "end_time": "2023-08-23T10:30:35.925057900Z",
     "start_time": "2023-08-23T10:30:35.902057200Z"
    }
   },
   "outputs": [],
   "source": [
    "def save_sim_results(loss, model_no, parameters=None, conditions=None, ret=\"measures\", vincent=False):\n",
    "    file_name=\"subj_all_parameters_fitted.csv\"\n",
    "    path = os.path.join(\"modeling/fit_results_%s\" % (loss) + (\"_vincent\" if vincent else \"\"), \"model_%i\" % (model_no))\n",
    "\n",
    "    if parameters is None:\n",
    "        parameters = pd.read_csv(os.path.join(path, file_name))\n",
    "\n",
    "    sim_results = [simulate_model(model_no, param_set, conditions, ret=ret)\n",
    "                   for idx, param_set in parameters.iterrows()]\n",
    "\n",
    "    sim_results = pd.concat(sim_results)\n",
    "    sim_results.to_csv(os.path.join(path, file_name.replace(\"parameters_fitted\", \"sim_\" + ret)), index=False)"
   ]
  },
  {
   "cell_type": "code",
   "execution_count": 5,
   "metadata": {
    "pycharm": {
     "name": "#%%\n"
    },
    "ExecuteTime": {
     "end_time": "2023-08-22T09:28:03.694274100Z",
     "start_time": "2023-08-22T09:28:03.682275900Z"
    }
   },
   "outputs": [],
   "source": [
    "conditions = [{\"tta_0\": tta_0, \"d_0\": d_0, \"a_values\": a_values, \"a_duration\": a_duration}\n",
    "              for tta_0 in [4.5, 5.5]\n",
    "              for d_0 in [80]\n",
    "              for a_values in [(0., 0., 0., 0.),\n",
    "                               (0., 4, 4, 0.),\n",
    "                               (0., 4, -4, 0.),\n",
    "                               (0., -4, 4, 0.),\n",
    "                               (0., -4, -4, 0.)]\n",
    "              for a_duration in [1.0]]"
   ]
  },
  {
   "cell_type": "markdown",
   "metadata": {
    "pycharm": {
     "name": "#%% md\n"
    }
   },
   "source": [
    "# Saving model-predicted measures"
   ]
  },
  {
   "cell_type": "code",
   "execution_count": 36,
   "outputs": [],
   "source": [
    "model_no = 2\n",
    "for loss in [\"vincent\"]:\n",
    "    save_sim_results(loss=loss, model_no=model_no, conditions=conditions, ret=\"measures\")"
   ],
   "metadata": {
    "collapsed": false,
    "ExecuteTime": {
     "end_time": "2023-08-24T07:44:27.922389300Z",
     "start_time": "2023-08-24T07:44:26.302408200Z"
    }
   }
  },
  {
   "cell_type": "code",
   "execution_count": 28,
   "outputs": [],
   "source": [
    "save_sim_results(loss=\"bic\", model_no=4, conditions=conditions, ret=\"measures\")"
   ],
   "metadata": {
    "collapsed": false,
    "pycharm": {
     "name": "#%%\n"
    },
    "ExecuteTime": {
     "end_time": "2023-08-12T21:47:47.852840200Z",
     "start_time": "2023-08-12T21:47:46.451792700Z"
    }
   }
  },
  {
   "cell_type": "code",
   "execution_count": 5,
   "outputs": [],
   "source": [
    "save_sim_results(loss=\"bic\", model_no=5, conditions=conditions, ret=\"measures\")"
   ],
   "metadata": {
    "collapsed": false,
    "ExecuteTime": {
     "end_time": "2023-08-13T16:22:14.486063400Z",
     "start_time": "2023-08-13T16:22:13.410781400Z"
    }
   }
  },
  {
   "cell_type": "code",
   "execution_count": 27,
   "outputs": [],
   "source": [
    "save_sim_results(loss=\"bic\", model_no=2, conditions=conditions, ret=\"rt_pdf\")"
   ],
   "metadata": {
    "collapsed": false,
    "ExecuteTime": {
     "end_time": "2023-08-22T09:57:37.201464200Z",
     "start_time": "2023-08-22T09:57:34.716413700Z"
    }
   }
  },
  {
   "cell_type": "markdown",
   "source": [
    "# Testing the effects of $\\beta_a$"
   ],
   "metadata": {
    "collapsed": false,
    "pycharm": {
     "name": "#%% md\n"
    }
   }
  },
  {
   "cell_type": "code",
   "execution_count": 23,
   "outputs": [],
   "source": [
    "path = \"modeling/fit_results_excluded_nan_rt/model_acceleration_dependent_cross_validation\"\n",
    "parameters = pd.read_csv(os.path.join(path, \"subj_all_parameters_fitted.csv\"))\n",
    "parameters[\"beta_a\"] = 0\n",
    "\n",
    "save_sim_results(model_no=3, file_name=\"subj_all_parameters_fitted.csv\", parameters=parameters, conditions=conditions, cross_validation=True, ret=\"measures\", prefix=\"beta_a_0_\")"
   ],
   "metadata": {
    "collapsed": false,
    "pycharm": {
     "name": "#%%\n"
    }
   }
  },
  {
   "cell_type": "code",
   "execution_count": 9,
   "outputs": [
    {
     "name": "stdout",
     "output_type": "stream",
     "text": [
      "Model(name='Model 3',\n",
      "      drift=DriftAccelerationDependent(alpha=0.3820280887987444, beta_d=0.1697230601511917, beta_a=1, theta=16.18984170700848),\n",
      "      noise=NoiseConstant(noise=1),\n",
      "      bound=BoundCollapsingTta(b_0=2.5297150095538457, k=0.0075507906549354, tta_crit=3.2063611626853987),\n",
      "      IC=ICPointSourceCenter(),\n",
      "      overlay=OverlayNonDecisionGaussian(ndt_location=0.0017032654042604, ndt_scale=0.2710190910102154),\n",
      "      dx=0.005,\n",
      "      dt=0.005,\n",
      "      T_dur=6.0,\n",
      "  choice_names=('Go', 'Stay'))\n",
      "{'tta_0': 4.5, 'd_0': 80, 'a_values': (0.0, 0.0, 0.0, 0.0), 'a_duration': 1.0}\n",
      "0.2653471376358351\n",
      "0.7157150914346334\n",
      "{'tta_0': 4.5, 'd_0': 80, 'a_values': (0.0, 4, 4, 0.0), 'a_duration': 1.0}\n",
      "0.06982659446730552\n",
      "0.9102956961933933\n",
      "{'tta_0': 4.5, 'd_0': 80, 'a_values': (0.0, 4, -4, 0.0), 'a_duration': 1.0}\n",
      "0.07524119270576171\n",
      "0.904881033912379\n",
      "{'tta_0': 4.5, 'd_0': 80, 'a_values': (0.0, -4, 4, 0.0), 'a_duration': 1.0}\n",
      "0.717078740663487\n",
      "0.2563848137707281\n",
      "{'tta_0': 4.5, 'd_0': 80, 'a_values': (0.0, -4, -4, 0.0), 'a_duration': 1.0}\n",
      "0.849859473719667\n",
      "0.12360590164174093\n",
      "{'tta_0': 5.5, 'd_0': 80, 'a_values': (0.0, 0.0, 0.0, 0.0), 'a_duration': 1.0}\n",
      "0.45224647349097424\n",
      "0.5235387106070262\n",
      "{'tta_0': 5.5, 'd_0': 80, 'a_values': (0.0, 4, 4, 0.0), 'a_duration': 1.0}\n",
      "0.12247011944919992\n",
      "0.8568643985171823\n",
      "{'tta_0': 5.5, 'd_0': 80, 'a_values': (0.0, 4, -4, 0.0), 'a_duration': 1.0}\n",
      "0.1520773936389475\n",
      "0.8272561541649313\n",
      "{'tta_0': 5.5, 'd_0': 80, 'a_values': (0.0, -4, 4, 0.0), 'a_duration': 1.0}\n",
      "0.8677565610554675\n",
      "0.09640824895022439\n",
      "{'tta_0': 5.5, 'd_0': 80, 'a_values': (0.0, -4, -4, 0.0), 'a_duration': 1.0}\n",
      "0.9488940068729909\n",
      "0.015265293805662035\n"
     ]
    }
   ],
   "source": [
    "path = \"modeling/fit_results_excluded_nan_rt/model_acceleration_dependent_cross_validation\"\n",
    "parameters = pd.read_csv(os.path.join(path, \"subj_all_parameters_fitted.csv\"))\n",
    "parameters[\"beta_a\"] = 1\n",
    "\n",
    "save_sim_results(model_no=3, file_name=\"subj_all_parameters_fitted.csv\", parameters=parameters, conditions=conditions, cross_validation=True, ret=\"measures\", prefix=\"beta_a_1_\")"
   ],
   "metadata": {
    "collapsed": false,
    "pycharm": {
     "name": "#%%\n"
    },
    "ExecuteTime": {
     "end_time": "2023-08-10T19:55:55.303384100Z",
     "start_time": "2023-08-10T19:55:50.887039400Z"
    }
   }
  },
  {
   "cell_type": "markdown",
   "source": [
    "# Predicting the effect of other nudges"
   ],
   "metadata": {
    "collapsed": false,
    "pycharm": {
     "name": "#%% md\n"
    }
   }
  },
  {
   "cell_type": "code",
   "execution_count": 10,
   "outputs": [],
   "source": [
    "a_durations = np.linspace(0.1, 3.0, 11)\n",
    "a_magnitudes = np.linspace(0.0, 5.0, 11)\n",
    "\n",
    "conditions = [{\"tta_0\": 5, \"d_0\": 90, \"a_values\": (0.0, -a_magnitude, a_magnitude, 0.0), \"a_duration\": a_duration}\n",
    "              for a_duration in a_durations\n",
    "              for a_magnitude in a_magnitudes]"
   ],
   "metadata": {
    "collapsed": false,
    "pycharm": {
     "name": "#%%\n"
    }
   }
  },
  {
   "cell_type": "code",
   "execution_count": 11,
   "outputs": [],
   "source": [
    "save_sim_results(model_no=3, file_name=\"subj_all_parameters_fitted.csv\", conditions=conditions, cross_validation=True,\n",
    "                 ret=\"measures\", prefix=\"prediction_\")"
   ],
   "metadata": {
    "collapsed": false,
    "pycharm": {
     "name": "#%%\n"
    }
   }
  }
 ],
 "metadata": {
  "kernelspec": {
   "display_name": "Python 3 (ipykernel)",
   "language": "python",
   "name": "python3"
  },
  "language_info": {
   "codemirror_mode": {
    "name": "ipython",
    "version": 3
   },
   "file_extension": ".py",
   "mimetype": "text/x-python",
   "name": "python",
   "nbconvert_exporter": "python",
   "pygments_lexer": "ipython3",
   "version": "3.9.7"
  }
 },
 "nbformat": 4,
 "nbformat_minor": 1
}